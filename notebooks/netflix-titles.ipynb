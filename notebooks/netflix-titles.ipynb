{
 "cells": [
  {
   "cell_type": "code",
   "execution_count": 156,
   "metadata": {
    "collapsed": true
   },
   "outputs": [],
   "source": [
    "import pandas as pd\n",
    "import numpy as np"
   ]
  },
  {
   "cell_type": "code",
   "execution_count": 157,
   "outputs": [],
   "source": [
    "df = pd.read_csv(r'..\\data\\netflix_titles.csv')"
   ],
   "metadata": {
    "collapsed": false,
    "pycharm": {
     "name": "#%%\n"
    }
   }
  },
  {
   "cell_type": "code",
   "execution_count": 158,
   "outputs": [
    {
     "name": "stdout",
     "output_type": "stream",
     "text": [
      "<class 'pandas.core.frame.DataFrame'>\n",
      "RangeIndex: 8807 entries, 0 to 8806\n",
      "Data columns (total 12 columns):\n",
      " #   Column        Non-Null Count  Dtype \n",
      "---  ------        --------------  ----- \n",
      " 0   show_id       8807 non-null   object\n",
      " 1   type          8807 non-null   object\n",
      " 2   title         8807 non-null   object\n",
      " 3   director      6173 non-null   object\n",
      " 4   cast          7982 non-null   object\n",
      " 5   country       7976 non-null   object\n",
      " 6   date_added    8797 non-null   object\n",
      " 7   release_year  8807 non-null   int64 \n",
      " 8   rating        8803 non-null   object\n",
      " 9   duration      8804 non-null   object\n",
      " 10  listed_in     8807 non-null   object\n",
      " 11  description   8807 non-null   object\n",
      "dtypes: int64(1), object(11)\n",
      "memory usage: 825.8+ KB\n"
     ]
    }
   ],
   "source": [
    "df.info()"
   ],
   "metadata": {
    "collapsed": false,
    "pycharm": {
     "name": "#%%\n"
    }
   }
  },
  {
   "cell_type": "code",
   "execution_count": 159,
   "outputs": [
    {
     "data": {
      "text/plain": "show_id            0\ntype               0\ntitle              0\ndirector        2634\ncast             825\ncountry          831\ndate_added        10\nrelease_year       0\nrating             4\nduration           3\nlisted_in          0\ndescription        0\ndtype: int64"
     },
     "execution_count": 159,
     "metadata": {},
     "output_type": "execute_result"
    }
   ],
   "source": [
    "df.isnull().sum()"
   ],
   "metadata": {
    "collapsed": false,
    "pycharm": {
     "name": "#%%\n"
    }
   }
  },
  {
   "cell_type": "code",
   "execution_count": 160,
   "outputs": [
    {
     "data": {
      "text/plain": "show_id         object\ntype            object\ntitle           object\ndirector        object\ncast            object\ncountry         object\ndate_added      object\nrelease_year     int64\nrating          object\nduration        object\nlisted_in       object\ndescription     object\ndtype: object"
     },
     "execution_count": 160,
     "metadata": {},
     "output_type": "execute_result"
    }
   ],
   "source": [
    "df.dtypes"
   ],
   "metadata": {
    "collapsed": false,
    "pycharm": {
     "name": "#%%\n"
    }
   }
  },
  {
   "cell_type": "code",
   "execution_count": 161,
   "outputs": [
    {
     "data": {
      "text/plain": "     show_id     type                                       title  \\\n1282   s1283  TV Show                            Zindagi in Short   \n2684   s2685  TV Show                         The Innocence Files   \n8163   s8164    Movie                           Temporada de Caza   \n6643   s6644    Movie                Dragonheart: A New Beginning   \n6325   s6326    Movie                               Black Panther   \n5488   s5489  TV Show                All Hail King Julien: Exiled   \n8256   s8257    Movie                                   The Craft   \n5152   s5153    Movie                      Cuba and the Cameraman   \n2808   s2809  TV Show                              We Speak Dance   \n7937   s7938    Movie                                 Sardaarji 2   \n145     s146    Movie                               House Party 2   \n3688   s3689  TV Show  Bangkok Love Stories: Objects of Affection   \n6859   s6860    Movie                        God Knows Where I Am   \n3976   s3977  TV Show                      The Eagle of El-Se'eed   \n4472   s4473    Movie                                    Dovlatov   \n4017   s4018    Movie                                A Love Story   \n3055   s3056  TV Show                              Cells at Work!   \n993     s994  TV Show                             Shadow and Bone   \n1040   s1041  TV Show                                  Durarara!!   \n1720   s1721    Movie                              What We Wanted   \n2584   s2585    Movie                                    Material   \n6971   s6972  TV Show                                  Hinterland   \n7573   s7574  TV Show                         Nature's Great Race   \n6882   s6883    Movie                                        Goon   \n676     s677  TV Show                                   Riverdale   \n\n                          director  \\\n1282                           NaN   \n2684                           NaN   \n8163             Natalia Garagiola   \n6643                   Doug Lefler   \n6325                  Ryan Coogler   \n5488                           NaN   \n8256                Andrew Fleming   \n5152                    Jon Alpert   \n2808                           NaN   \n7937                  Rohit Jugraj   \n145   George Jackson, Doug McHenry   \n3688                           NaN   \n6859        Jedd Wider, Todd Wider   \n3976                           NaN   \n4472                Aleksey German   \n4017         Maryo J. De los Reyes   \n3055                           NaN   \n993                            NaN   \n1040                           NaN   \n1720                 Ulrike Kofler   \n2584                Craig Freimond   \n6971                           NaN   \n7573                           NaN   \n6882                 Michael Dowse   \n676                Rob Seidenglanz   \n\n                                                   cast  \\\n1282                                                NaN   \n2684                                                NaN   \n8163  Germán Palacios, Lautaro Bettoni, Boy Olmi, Ri...   \n6643  Christopher Masterson, Harry Van Gorkum, Rona ...   \n6325  Chadwick Boseman, Michael B. Jordan, Lupita Ny...   \n5488  Danny Jacobs, Andy Richter, Kevin Michael Rich...   \n8256  Robin Tunney, Fairuza Balk, Neve Campbell, Rac...   \n5152                                                NaN   \n2808                                       Vandana Hart   \n7937  Jaswinder Bhalla, Sonam Bajwa, Diljit Dosanjh,...   \n145   Christopher Reid, Christopher Martin, Martin L...   \n3688  Apinya Sakuljaroensuk, Kanokchat Munyadon, Gye...   \n6859                                        Lori Singer   \n3976  Mohamed Ramadan, Sayed Rajab, Dorra Zarrouk, D...   \n4472  Milan Maric, Danila Kozlovsky, Helena Sujecka,...   \n4017  Maricel Soriano, Aga Muhlach, Angelica Pangani...   \n3055  Kana Hanazawa, Tomoaki Maeno, Daisuke Ono, Kik...   \n993   Jessie Mei Li, Archie Renaux, Ben Barnes, Fred...   \n1040  Toshiyuki Toyonaga, Miyuki Sawashiro, Mamoru M...   \n1720  Lavinia Wilson, Elyas M'Barek, Anna Unterberge...   \n2584  Vincent Ebrahim, Riaad Moosa, Joey Rasdien, De...   \n6971  Richard Harrington, Mali Harries, Hannah Danie...   \n7573                                         Liz Bonnin   \n6882  Seann William Scott, Jay Baruchel, Liev Schrei...   \n676   K.J. Apa, Lili Reinhart, Camila Mendes, Cole S...   \n\n                                               country         date_added  \\\n1282                                             India  February 22, 2021   \n2684                                     United States     April 15, 2020   \n8163  Argentina, France, United States, Germany, Qatar      July 15, 2018   \n6643                                     United States    January 1, 2020   \n6325                                     United States  September 4, 2018   \n5488                                               NaN       May 12, 2017   \n8256                                     United States    January 1, 2020   \n5152                                     United States  November 24, 2017   \n2808                                     United States     March 17, 2020   \n7937                                  Australia, India   October 15, 2017   \n145                                      United States  September 1, 2021   \n3688                                          Thailand       July 2, 2019   \n6859                                     United States   October 22, 2018   \n3976                                               NaN     March 25, 2019   \n4472                            Russia, Poland, Serbia   October 26, 2018   \n4017                                       Philippines     March 14, 2019   \n3055                                             Japan    January 1, 2020   \n993                                      United States     April 23, 2021   \n1040                                             Japan     April 15, 2021   \n1720                                           Austria  November 11, 2020   \n2584                                      South Africa        May 1, 2020   \n6971                                    United Kingdom     August 1, 2017   \n7573                                    United Kingdom    October 1, 2017   \n6882                             United States, Canada    August 15, 2017   \n676                                      United States      June 19, 2021   \n\n      release_year rating   duration  \\\n1282          2020  TV-MA   1 Season   \n2684          2020  TV-MA   1 Season   \n8163          2017  TV-MA    108 min   \n6643          2000     PG     84 min   \n6325          2018  PG-13    135 min   \n5488          2017  TV-Y7   1 Season   \n8256          1996      R    101 min   \n5152          2017  TV-14    114 min   \n2808          2018  TV-MA   1 Season   \n7937          2016  TV-PG    145 min   \n145           1991      R     94 min   \n3688          2019  TV-14   1 Season   \n6859          2016  TV-PG    103 min   \n3976          2018  TV-14   1 Season   \n4472          2018  PG-13    126 min   \n4017          2007  TV-14    117 min   \n3055          2018  TV-PG   1 Season   \n993           2021  TV-14   1 Season   \n1040          2016  TV-MA   1 Season   \n1720          2020  TV-MA     93 min   \n2584          2012  TV-14     94 min   \n6971          2016  TV-14  3 Seasons   \n7573          2016  TV-PG   1 Season   \n6882          2011      R     92 min   \n676           2019  TV-14  4 Seasons   \n\n                                              listed_in  \\\n1282                  International TV Shows, TV Dramas   \n2684                         Crime TV Shows, Docuseries   \n8163                       Dramas, International Movies   \n6643               Action & Adventure, Sci-Fi & Fantasy   \n6325               Action & Adventure, Sci-Fi & Fantasy   \n5488       Kids' TV, TV Action & Adventure, TV Comedies   \n8256                           Horror Movies, Thrillers   \n5152                                      Documentaries   \n2808                                         Docuseries   \n7937  Action & Adventure, Comedies, International Mo...   \n145             Comedies, Cult Movies, Music & Musicals   \n3688  International TV Shows, Romantic TV Shows, TV ...   \n6859                                      Documentaries   \n3976  Crime TV Shows, International TV Shows, TV Act...   \n4472                       Dramas, International Movies   \n4017      Dramas, International Movies, Romantic Movies   \n3055                        Anime Series, Teen TV Shows   \n993   TV Action & Adventure, TV Dramas, TV Sci-Fi & ...   \n1040  Anime Series, Crime TV Shows, International TV...   \n1720                       Dramas, International Movies   \n2584             Comedies, Dramas, International Movies   \n6971  British TV Shows, Crime TV Shows, Internationa...   \n7573  British TV Shows, Docuseries, Science & Nature TV   \n6882                            Comedies, Sports Movies   \n676             Crime TV Shows, TV Dramas, TV Mysteries   \n\n                                            description  \n1282  Complicated marriages, digital romances, domes...  \n2684  The Innocence Project unravels missteps and de...  \n8163  Animosity gives way to love and forgiveness wh...  \n6643  This sequel introduces Draco the dragon's offs...  \n6325  T'Challa, the superpowered new leader of the h...  \n5488  Julien's been dethroned, but loyal friends and...  \n8256  At a Catholic school, a new girl falls in with...  \n5152  Emmy-winning filmmaker Jon Alpert chronicles t...  \n2808  Trained dancer Vandana Hart travels the world ...  \n7937  A simple farmer's life becomes complicated aft...  \n145   Kid goes off to college with scholarship money...  \n3688  A kind computer repairman falls for a street-s...  \n6859  Through diary entries, this documentary follow...  \n3976  A police officer and a drug lord become embroi...  \n4472  Over six days in 1971, brilliant writer Sergei...  \n4017  Self-made millionaire Ian thinks he's found ha...  \n3055  One newcomer red blood cell just wants to do h...  \n993   Dark forces conspire against orphan mapmaker A...  \n1040  A young man looking for excitement moves to Ik...  \n1720  A couple facing fertility issues finds their m...  \n2584  A dutiful son must hide his pursuit of stand-u...  \n6971  Forsaking London for the rustic landscapes of ...  \n7573  Epic footage captures three of the world's mos...  \n6882  When he's seen dispatching a rude opposing hoc...  \n676   While navigating the troubled waters of sex, r...  ",
      "text/html": "<div>\n<style scoped>\n    .dataframe tbody tr th:only-of-type {\n        vertical-align: middle;\n    }\n\n    .dataframe tbody tr th {\n        vertical-align: top;\n    }\n\n    .dataframe thead th {\n        text-align: right;\n    }\n</style>\n<table border=\"1\" class=\"dataframe\">\n  <thead>\n    <tr style=\"text-align: right;\">\n      <th></th>\n      <th>show_id</th>\n      <th>type</th>\n      <th>title</th>\n      <th>director</th>\n      <th>cast</th>\n      <th>country</th>\n      <th>date_added</th>\n      <th>release_year</th>\n      <th>rating</th>\n      <th>duration</th>\n      <th>listed_in</th>\n      <th>description</th>\n    </tr>\n  </thead>\n  <tbody>\n    <tr>\n      <th>1282</th>\n      <td>s1283</td>\n      <td>TV Show</td>\n      <td>Zindagi in Short</td>\n      <td>NaN</td>\n      <td>NaN</td>\n      <td>India</td>\n      <td>February 22, 2021</td>\n      <td>2020</td>\n      <td>TV-MA</td>\n      <td>1 Season</td>\n      <td>International TV Shows, TV Dramas</td>\n      <td>Complicated marriages, digital romances, domes...</td>\n    </tr>\n    <tr>\n      <th>2684</th>\n      <td>s2685</td>\n      <td>TV Show</td>\n      <td>The Innocence Files</td>\n      <td>NaN</td>\n      <td>NaN</td>\n      <td>United States</td>\n      <td>April 15, 2020</td>\n      <td>2020</td>\n      <td>TV-MA</td>\n      <td>1 Season</td>\n      <td>Crime TV Shows, Docuseries</td>\n      <td>The Innocence Project unravels missteps and de...</td>\n    </tr>\n    <tr>\n      <th>8163</th>\n      <td>s8164</td>\n      <td>Movie</td>\n      <td>Temporada de Caza</td>\n      <td>Natalia Garagiola</td>\n      <td>Germán Palacios, Lautaro Bettoni, Boy Olmi, Ri...</td>\n      <td>Argentina, France, United States, Germany, Qatar</td>\n      <td>July 15, 2018</td>\n      <td>2017</td>\n      <td>TV-MA</td>\n      <td>108 min</td>\n      <td>Dramas, International Movies</td>\n      <td>Animosity gives way to love and forgiveness wh...</td>\n    </tr>\n    <tr>\n      <th>6643</th>\n      <td>s6644</td>\n      <td>Movie</td>\n      <td>Dragonheart: A New Beginning</td>\n      <td>Doug Lefler</td>\n      <td>Christopher Masterson, Harry Van Gorkum, Rona ...</td>\n      <td>United States</td>\n      <td>January 1, 2020</td>\n      <td>2000</td>\n      <td>PG</td>\n      <td>84 min</td>\n      <td>Action &amp; Adventure, Sci-Fi &amp; Fantasy</td>\n      <td>This sequel introduces Draco the dragon's offs...</td>\n    </tr>\n    <tr>\n      <th>6325</th>\n      <td>s6326</td>\n      <td>Movie</td>\n      <td>Black Panther</td>\n      <td>Ryan Coogler</td>\n      <td>Chadwick Boseman, Michael B. Jordan, Lupita Ny...</td>\n      <td>United States</td>\n      <td>September 4, 2018</td>\n      <td>2018</td>\n      <td>PG-13</td>\n      <td>135 min</td>\n      <td>Action &amp; Adventure, Sci-Fi &amp; Fantasy</td>\n      <td>T'Challa, the superpowered new leader of the h...</td>\n    </tr>\n    <tr>\n      <th>5488</th>\n      <td>s5489</td>\n      <td>TV Show</td>\n      <td>All Hail King Julien: Exiled</td>\n      <td>NaN</td>\n      <td>Danny Jacobs, Andy Richter, Kevin Michael Rich...</td>\n      <td>NaN</td>\n      <td>May 12, 2017</td>\n      <td>2017</td>\n      <td>TV-Y7</td>\n      <td>1 Season</td>\n      <td>Kids' TV, TV Action &amp; Adventure, TV Comedies</td>\n      <td>Julien's been dethroned, but loyal friends and...</td>\n    </tr>\n    <tr>\n      <th>8256</th>\n      <td>s8257</td>\n      <td>Movie</td>\n      <td>The Craft</td>\n      <td>Andrew Fleming</td>\n      <td>Robin Tunney, Fairuza Balk, Neve Campbell, Rac...</td>\n      <td>United States</td>\n      <td>January 1, 2020</td>\n      <td>1996</td>\n      <td>R</td>\n      <td>101 min</td>\n      <td>Horror Movies, Thrillers</td>\n      <td>At a Catholic school, a new girl falls in with...</td>\n    </tr>\n    <tr>\n      <th>5152</th>\n      <td>s5153</td>\n      <td>Movie</td>\n      <td>Cuba and the Cameraman</td>\n      <td>Jon Alpert</td>\n      <td>NaN</td>\n      <td>United States</td>\n      <td>November 24, 2017</td>\n      <td>2017</td>\n      <td>TV-14</td>\n      <td>114 min</td>\n      <td>Documentaries</td>\n      <td>Emmy-winning filmmaker Jon Alpert chronicles t...</td>\n    </tr>\n    <tr>\n      <th>2808</th>\n      <td>s2809</td>\n      <td>TV Show</td>\n      <td>We Speak Dance</td>\n      <td>NaN</td>\n      <td>Vandana Hart</td>\n      <td>United States</td>\n      <td>March 17, 2020</td>\n      <td>2018</td>\n      <td>TV-MA</td>\n      <td>1 Season</td>\n      <td>Docuseries</td>\n      <td>Trained dancer Vandana Hart travels the world ...</td>\n    </tr>\n    <tr>\n      <th>7937</th>\n      <td>s7938</td>\n      <td>Movie</td>\n      <td>Sardaarji 2</td>\n      <td>Rohit Jugraj</td>\n      <td>Jaswinder Bhalla, Sonam Bajwa, Diljit Dosanjh,...</td>\n      <td>Australia, India</td>\n      <td>October 15, 2017</td>\n      <td>2016</td>\n      <td>TV-PG</td>\n      <td>145 min</td>\n      <td>Action &amp; Adventure, Comedies, International Mo...</td>\n      <td>A simple farmer's life becomes complicated aft...</td>\n    </tr>\n    <tr>\n      <th>145</th>\n      <td>s146</td>\n      <td>Movie</td>\n      <td>House Party 2</td>\n      <td>George Jackson, Doug McHenry</td>\n      <td>Christopher Reid, Christopher Martin, Martin L...</td>\n      <td>United States</td>\n      <td>September 1, 2021</td>\n      <td>1991</td>\n      <td>R</td>\n      <td>94 min</td>\n      <td>Comedies, Cult Movies, Music &amp; Musicals</td>\n      <td>Kid goes off to college with scholarship money...</td>\n    </tr>\n    <tr>\n      <th>3688</th>\n      <td>s3689</td>\n      <td>TV Show</td>\n      <td>Bangkok Love Stories: Objects of Affection</td>\n      <td>NaN</td>\n      <td>Apinya Sakuljaroensuk, Kanokchat Munyadon, Gye...</td>\n      <td>Thailand</td>\n      <td>July 2, 2019</td>\n      <td>2019</td>\n      <td>TV-14</td>\n      <td>1 Season</td>\n      <td>International TV Shows, Romantic TV Shows, TV ...</td>\n      <td>A kind computer repairman falls for a street-s...</td>\n    </tr>\n    <tr>\n      <th>6859</th>\n      <td>s6860</td>\n      <td>Movie</td>\n      <td>God Knows Where I Am</td>\n      <td>Jedd Wider, Todd Wider</td>\n      <td>Lori Singer</td>\n      <td>United States</td>\n      <td>October 22, 2018</td>\n      <td>2016</td>\n      <td>TV-PG</td>\n      <td>103 min</td>\n      <td>Documentaries</td>\n      <td>Through diary entries, this documentary follow...</td>\n    </tr>\n    <tr>\n      <th>3976</th>\n      <td>s3977</td>\n      <td>TV Show</td>\n      <td>The Eagle of El-Se'eed</td>\n      <td>NaN</td>\n      <td>Mohamed Ramadan, Sayed Rajab, Dorra Zarrouk, D...</td>\n      <td>NaN</td>\n      <td>March 25, 2019</td>\n      <td>2018</td>\n      <td>TV-14</td>\n      <td>1 Season</td>\n      <td>Crime TV Shows, International TV Shows, TV Act...</td>\n      <td>A police officer and a drug lord become embroi...</td>\n    </tr>\n    <tr>\n      <th>4472</th>\n      <td>s4473</td>\n      <td>Movie</td>\n      <td>Dovlatov</td>\n      <td>Aleksey German</td>\n      <td>Milan Maric, Danila Kozlovsky, Helena Sujecka,...</td>\n      <td>Russia, Poland, Serbia</td>\n      <td>October 26, 2018</td>\n      <td>2018</td>\n      <td>PG-13</td>\n      <td>126 min</td>\n      <td>Dramas, International Movies</td>\n      <td>Over six days in 1971, brilliant writer Sergei...</td>\n    </tr>\n    <tr>\n      <th>4017</th>\n      <td>s4018</td>\n      <td>Movie</td>\n      <td>A Love Story</td>\n      <td>Maryo J. De los Reyes</td>\n      <td>Maricel Soriano, Aga Muhlach, Angelica Pangani...</td>\n      <td>Philippines</td>\n      <td>March 14, 2019</td>\n      <td>2007</td>\n      <td>TV-14</td>\n      <td>117 min</td>\n      <td>Dramas, International Movies, Romantic Movies</td>\n      <td>Self-made millionaire Ian thinks he's found ha...</td>\n    </tr>\n    <tr>\n      <th>3055</th>\n      <td>s3056</td>\n      <td>TV Show</td>\n      <td>Cells at Work!</td>\n      <td>NaN</td>\n      <td>Kana Hanazawa, Tomoaki Maeno, Daisuke Ono, Kik...</td>\n      <td>Japan</td>\n      <td>January 1, 2020</td>\n      <td>2018</td>\n      <td>TV-PG</td>\n      <td>1 Season</td>\n      <td>Anime Series, Teen TV Shows</td>\n      <td>One newcomer red blood cell just wants to do h...</td>\n    </tr>\n    <tr>\n      <th>993</th>\n      <td>s994</td>\n      <td>TV Show</td>\n      <td>Shadow and Bone</td>\n      <td>NaN</td>\n      <td>Jessie Mei Li, Archie Renaux, Ben Barnes, Fred...</td>\n      <td>United States</td>\n      <td>April 23, 2021</td>\n      <td>2021</td>\n      <td>TV-14</td>\n      <td>1 Season</td>\n      <td>TV Action &amp; Adventure, TV Dramas, TV Sci-Fi &amp; ...</td>\n      <td>Dark forces conspire against orphan mapmaker A...</td>\n    </tr>\n    <tr>\n      <th>1040</th>\n      <td>s1041</td>\n      <td>TV Show</td>\n      <td>Durarara!!</td>\n      <td>NaN</td>\n      <td>Toshiyuki Toyonaga, Miyuki Sawashiro, Mamoru M...</td>\n      <td>Japan</td>\n      <td>April 15, 2021</td>\n      <td>2016</td>\n      <td>TV-MA</td>\n      <td>1 Season</td>\n      <td>Anime Series, Crime TV Shows, International TV...</td>\n      <td>A young man looking for excitement moves to Ik...</td>\n    </tr>\n    <tr>\n      <th>1720</th>\n      <td>s1721</td>\n      <td>Movie</td>\n      <td>What We Wanted</td>\n      <td>Ulrike Kofler</td>\n      <td>Lavinia Wilson, Elyas M'Barek, Anna Unterberge...</td>\n      <td>Austria</td>\n      <td>November 11, 2020</td>\n      <td>2020</td>\n      <td>TV-MA</td>\n      <td>93 min</td>\n      <td>Dramas, International Movies</td>\n      <td>A couple facing fertility issues finds their m...</td>\n    </tr>\n    <tr>\n      <th>2584</th>\n      <td>s2585</td>\n      <td>Movie</td>\n      <td>Material</td>\n      <td>Craig Freimond</td>\n      <td>Vincent Ebrahim, Riaad Moosa, Joey Rasdien, De...</td>\n      <td>South Africa</td>\n      <td>May 1, 2020</td>\n      <td>2012</td>\n      <td>TV-14</td>\n      <td>94 min</td>\n      <td>Comedies, Dramas, International Movies</td>\n      <td>A dutiful son must hide his pursuit of stand-u...</td>\n    </tr>\n    <tr>\n      <th>6971</th>\n      <td>s6972</td>\n      <td>TV Show</td>\n      <td>Hinterland</td>\n      <td>NaN</td>\n      <td>Richard Harrington, Mali Harries, Hannah Danie...</td>\n      <td>United Kingdom</td>\n      <td>August 1, 2017</td>\n      <td>2016</td>\n      <td>TV-14</td>\n      <td>3 Seasons</td>\n      <td>British TV Shows, Crime TV Shows, Internationa...</td>\n      <td>Forsaking London for the rustic landscapes of ...</td>\n    </tr>\n    <tr>\n      <th>7573</th>\n      <td>s7574</td>\n      <td>TV Show</td>\n      <td>Nature's Great Race</td>\n      <td>NaN</td>\n      <td>Liz Bonnin</td>\n      <td>United Kingdom</td>\n      <td>October 1, 2017</td>\n      <td>2016</td>\n      <td>TV-PG</td>\n      <td>1 Season</td>\n      <td>British TV Shows, Docuseries, Science &amp; Nature TV</td>\n      <td>Epic footage captures three of the world's mos...</td>\n    </tr>\n    <tr>\n      <th>6882</th>\n      <td>s6883</td>\n      <td>Movie</td>\n      <td>Goon</td>\n      <td>Michael Dowse</td>\n      <td>Seann William Scott, Jay Baruchel, Liev Schrei...</td>\n      <td>United States, Canada</td>\n      <td>August 15, 2017</td>\n      <td>2011</td>\n      <td>R</td>\n      <td>92 min</td>\n      <td>Comedies, Sports Movies</td>\n      <td>When he's seen dispatching a rude opposing hoc...</td>\n    </tr>\n    <tr>\n      <th>676</th>\n      <td>s677</td>\n      <td>TV Show</td>\n      <td>Riverdale</td>\n      <td>Rob Seidenglanz</td>\n      <td>K.J. Apa, Lili Reinhart, Camila Mendes, Cole S...</td>\n      <td>United States</td>\n      <td>June 19, 2021</td>\n      <td>2019</td>\n      <td>TV-14</td>\n      <td>4 Seasons</td>\n      <td>Crime TV Shows, TV Dramas, TV Mysteries</td>\n      <td>While navigating the troubled waters of sex, r...</td>\n    </tr>\n  </tbody>\n</table>\n</div>"
     },
     "execution_count": 161,
     "metadata": {},
     "output_type": "execute_result"
    }
   ],
   "source": [
    "df.sample(25)"
   ],
   "metadata": {
    "collapsed": false,
    "pycharm": {
     "name": "#%%\n"
    }
   }
  },
  {
   "cell_type": "code",
   "execution_count": 162,
   "outputs": [],
   "source": [
    "df['country'].replace(np.NaN, '', inplace=True)"
   ],
   "metadata": {
    "collapsed": false,
    "pycharm": {
     "name": "#%%\n"
    }
   }
  },
  {
   "cell_type": "code",
   "execution_count": 163,
   "outputs": [],
   "source": [
    "df_movies = df[df['type'] == 'Movie']\n",
    "df_series = df[df['type'] == 'TV Show']"
   ],
   "metadata": {
    "collapsed": false,
    "pycharm": {
     "name": "#%%\n"
    }
   }
  },
  {
   "cell_type": "code",
   "execution_count": 164,
   "outputs": [
    {
     "data": {
      "text/plain": "         Countries  Count\n0    United States   3690\n1     South Africa     62\n3            India   1046\n4            Ghana      5\n5     Burkina Faso      1\n..             ...    ...\n118          Sudan      1\n119         Panama      1\n120         Uganda      1\n121   East Germany      1\n122     Montenegro      1\n\n[122 rows x 2 columns]",
      "text/html": "<div>\n<style scoped>\n    .dataframe tbody tr th:only-of-type {\n        vertical-align: middle;\n    }\n\n    .dataframe tbody tr th {\n        vertical-align: top;\n    }\n\n    .dataframe thead th {\n        text-align: right;\n    }\n</style>\n<table border=\"1\" class=\"dataframe\">\n  <thead>\n    <tr style=\"text-align: right;\">\n      <th></th>\n      <th>Countries</th>\n      <th>Count</th>\n    </tr>\n  </thead>\n  <tbody>\n    <tr>\n      <th>0</th>\n      <td>United States</td>\n      <td>3690</td>\n    </tr>\n    <tr>\n      <th>1</th>\n      <td>South Africa</td>\n      <td>62</td>\n    </tr>\n    <tr>\n      <th>3</th>\n      <td>India</td>\n      <td>1046</td>\n    </tr>\n    <tr>\n      <th>4</th>\n      <td>Ghana</td>\n      <td>5</td>\n    </tr>\n    <tr>\n      <th>5</th>\n      <td>Burkina Faso</td>\n      <td>1</td>\n    </tr>\n    <tr>\n      <th>...</th>\n      <td>...</td>\n      <td>...</td>\n    </tr>\n    <tr>\n      <th>118</th>\n      <td>Sudan</td>\n      <td>1</td>\n    </tr>\n    <tr>\n      <th>119</th>\n      <td>Panama</td>\n      <td>1</td>\n    </tr>\n    <tr>\n      <th>120</th>\n      <td>Uganda</td>\n      <td>1</td>\n    </tr>\n    <tr>\n      <th>121</th>\n      <td>East Germany</td>\n      <td>1</td>\n    </tr>\n    <tr>\n      <th>122</th>\n      <td>Montenegro</td>\n      <td>1</td>\n    </tr>\n  </tbody>\n</table>\n<p>122 rows × 2 columns</p>\n</div>"
     },
     "execution_count": 164,
     "metadata": {},
     "output_type": "execute_result"
    }
   ],
   "source": [
    "def split_and_sum_uinique(df, df_col_name: str):\n",
    "    dct = {}\n",
    "    for val in df:\n",
    "        if ',' in val:\n",
    "            l = val.replace(' ,', ',').replace(', ', ',').split(',')\n",
    "            for v in l:\n",
    "                if v in dct:\n",
    "                    dct[v] = dct[v] + 1\n",
    "                else:\n",
    "                    dct[v] = 1\n",
    "        else:\n",
    "            if val in dct:\n",
    "                dct[val] = dct[val] + 1\n",
    "            else:\n",
    "                dct[val] = 1\n",
    "    d = {df_col_name: [*dct], 'Count': [dct[key] for key in dct]}\n",
    "    data = pd.DataFrame(data=d)\n",
    "    return data\n",
    "\n",
    "df_countries = split_and_sum_uinique(df['country'], 'Countries')\n",
    "df_countries.drop(df_countries[df_countries.Countries==''].index ,inplace=True)\n",
    "df_countries"
   ],
   "metadata": {
    "collapsed": false,
    "pycharm": {
     "name": "#%%\n"
    }
   }
  },
  {
   "cell_type": "code",
   "execution_count": 165,
   "outputs": [
    {
     "data": {
      "text/plain": "                       Genre  Count\n0              Documentaries    869\n1   Children & Family Movies    641\n2                     Dramas   2427\n3         Independent Movies    756\n4       International Movies   2752\n5                   Comedies   1674\n6                  Thrillers    577\n7            Romantic Movies    616\n8           Music & Musicals    375\n9              Horror Movies    357\n10          Sci-Fi & Fantasy    243\n11        Action & Adventure    859\n12            Classic Movies    116\n13            Anime Features     71\n14             Sports Movies    219\n15               Cult Movies     71\n16      Faith & Spirituality     65\n17              LGBTQ Movies    102\n18           Stand-Up Comedy    343\n19                    Movies     57",
      "text/html": "<div>\n<style scoped>\n    .dataframe tbody tr th:only-of-type {\n        vertical-align: middle;\n    }\n\n    .dataframe tbody tr th {\n        vertical-align: top;\n    }\n\n    .dataframe thead th {\n        text-align: right;\n    }\n</style>\n<table border=\"1\" class=\"dataframe\">\n  <thead>\n    <tr style=\"text-align: right;\">\n      <th></th>\n      <th>Genre</th>\n      <th>Count</th>\n    </tr>\n  </thead>\n  <tbody>\n    <tr>\n      <th>0</th>\n      <td>Documentaries</td>\n      <td>869</td>\n    </tr>\n    <tr>\n      <th>1</th>\n      <td>Children &amp; Family Movies</td>\n      <td>641</td>\n    </tr>\n    <tr>\n      <th>2</th>\n      <td>Dramas</td>\n      <td>2427</td>\n    </tr>\n    <tr>\n      <th>3</th>\n      <td>Independent Movies</td>\n      <td>756</td>\n    </tr>\n    <tr>\n      <th>4</th>\n      <td>International Movies</td>\n      <td>2752</td>\n    </tr>\n    <tr>\n      <th>5</th>\n      <td>Comedies</td>\n      <td>1674</td>\n    </tr>\n    <tr>\n      <th>6</th>\n      <td>Thrillers</td>\n      <td>577</td>\n    </tr>\n    <tr>\n      <th>7</th>\n      <td>Romantic Movies</td>\n      <td>616</td>\n    </tr>\n    <tr>\n      <th>8</th>\n      <td>Music &amp; Musicals</td>\n      <td>375</td>\n    </tr>\n    <tr>\n      <th>9</th>\n      <td>Horror Movies</td>\n      <td>357</td>\n    </tr>\n    <tr>\n      <th>10</th>\n      <td>Sci-Fi &amp; Fantasy</td>\n      <td>243</td>\n    </tr>\n    <tr>\n      <th>11</th>\n      <td>Action &amp; Adventure</td>\n      <td>859</td>\n    </tr>\n    <tr>\n      <th>12</th>\n      <td>Classic Movies</td>\n      <td>116</td>\n    </tr>\n    <tr>\n      <th>13</th>\n      <td>Anime Features</td>\n      <td>71</td>\n    </tr>\n    <tr>\n      <th>14</th>\n      <td>Sports Movies</td>\n      <td>219</td>\n    </tr>\n    <tr>\n      <th>15</th>\n      <td>Cult Movies</td>\n      <td>71</td>\n    </tr>\n    <tr>\n      <th>16</th>\n      <td>Faith &amp; Spirituality</td>\n      <td>65</td>\n    </tr>\n    <tr>\n      <th>17</th>\n      <td>LGBTQ Movies</td>\n      <td>102</td>\n    </tr>\n    <tr>\n      <th>18</th>\n      <td>Stand-Up Comedy</td>\n      <td>343</td>\n    </tr>\n    <tr>\n      <th>19</th>\n      <td>Movies</td>\n      <td>57</td>\n    </tr>\n  </tbody>\n</table>\n</div>"
     },
     "execution_count": 165,
     "metadata": {},
     "output_type": "execute_result"
    }
   ],
   "source": [
    "df_genres_movies = split_and_sum_uinique(df_movies['listed_in'], 'Genre')\n",
    "df_genres_movies"
   ],
   "metadata": {
    "collapsed": false,
    "pycharm": {
     "name": "#%%\n"
    }
   }
  },
  {
   "cell_type": "code",
   "execution_count": 166,
   "outputs": [
    {
     "data": {
      "text/plain": "                           Genre  Count\n0         International TV Shows   1351\n1                      TV Dramas    763\n2                   TV Mysteries     98\n3                 Crime TV Shows    470\n4          TV Action & Adventure    168\n5                     Docuseries    395\n6                     Reality TV    255\n7              Romantic TV Shows    370\n8                    TV Comedies    581\n9                      TV Horror     75\n10              British TV Shows    253\n11     Spanish-Language TV Shows    174\n12                  TV Thrillers     57\n13                      Kids' TV    451\n14           TV Sci-Fi & Fantasy     84\n15                  Anime Series    176\n16               Korean TV Shows    151\n17           Science & Nature TV     92\n18                 Teen TV Shows     69\n19                      TV Shows     16\n20  Stand-Up Comedy & Talk Shows     56\n21             Classic & Cult TV     28",
      "text/html": "<div>\n<style scoped>\n    .dataframe tbody tr th:only-of-type {\n        vertical-align: middle;\n    }\n\n    .dataframe tbody tr th {\n        vertical-align: top;\n    }\n\n    .dataframe thead th {\n        text-align: right;\n    }\n</style>\n<table border=\"1\" class=\"dataframe\">\n  <thead>\n    <tr style=\"text-align: right;\">\n      <th></th>\n      <th>Genre</th>\n      <th>Count</th>\n    </tr>\n  </thead>\n  <tbody>\n    <tr>\n      <th>0</th>\n      <td>International TV Shows</td>\n      <td>1351</td>\n    </tr>\n    <tr>\n      <th>1</th>\n      <td>TV Dramas</td>\n      <td>763</td>\n    </tr>\n    <tr>\n      <th>2</th>\n      <td>TV Mysteries</td>\n      <td>98</td>\n    </tr>\n    <tr>\n      <th>3</th>\n      <td>Crime TV Shows</td>\n      <td>470</td>\n    </tr>\n    <tr>\n      <th>4</th>\n      <td>TV Action &amp; Adventure</td>\n      <td>168</td>\n    </tr>\n    <tr>\n      <th>5</th>\n      <td>Docuseries</td>\n      <td>395</td>\n    </tr>\n    <tr>\n      <th>6</th>\n      <td>Reality TV</td>\n      <td>255</td>\n    </tr>\n    <tr>\n      <th>7</th>\n      <td>Romantic TV Shows</td>\n      <td>370</td>\n    </tr>\n    <tr>\n      <th>8</th>\n      <td>TV Comedies</td>\n      <td>581</td>\n    </tr>\n    <tr>\n      <th>9</th>\n      <td>TV Horror</td>\n      <td>75</td>\n    </tr>\n    <tr>\n      <th>10</th>\n      <td>British TV Shows</td>\n      <td>253</td>\n    </tr>\n    <tr>\n      <th>11</th>\n      <td>Spanish-Language TV Shows</td>\n      <td>174</td>\n    </tr>\n    <tr>\n      <th>12</th>\n      <td>TV Thrillers</td>\n      <td>57</td>\n    </tr>\n    <tr>\n      <th>13</th>\n      <td>Kids' TV</td>\n      <td>451</td>\n    </tr>\n    <tr>\n      <th>14</th>\n      <td>TV Sci-Fi &amp; Fantasy</td>\n      <td>84</td>\n    </tr>\n    <tr>\n      <th>15</th>\n      <td>Anime Series</td>\n      <td>176</td>\n    </tr>\n    <tr>\n      <th>16</th>\n      <td>Korean TV Shows</td>\n      <td>151</td>\n    </tr>\n    <tr>\n      <th>17</th>\n      <td>Science &amp; Nature TV</td>\n      <td>92</td>\n    </tr>\n    <tr>\n      <th>18</th>\n      <td>Teen TV Shows</td>\n      <td>69</td>\n    </tr>\n    <tr>\n      <th>19</th>\n      <td>TV Shows</td>\n      <td>16</td>\n    </tr>\n    <tr>\n      <th>20</th>\n      <td>Stand-Up Comedy &amp; Talk Shows</td>\n      <td>56</td>\n    </tr>\n    <tr>\n      <th>21</th>\n      <td>Classic &amp; Cult TV</td>\n      <td>28</td>\n    </tr>\n  </tbody>\n</table>\n</div>"
     },
     "execution_count": 166,
     "metadata": {},
     "output_type": "execute_result"
    }
   ],
   "source": [
    "df_genres_series = split_and_sum_uinique(df_series['listed_in'], 'Genre')\n",
    "df_genres_series"
   ],
   "metadata": {
    "collapsed": false,
    "pycharm": {
     "name": "#%%\n"
    }
   }
  },
  {
   "cell_type": "code",
   "execution_count": 167,
   "outputs": [
    {
     "data": {
      "text/plain": "       Countries  Count iso_alpha\n0  United States   3690       USA\n1   South Africa     62       ZAF\n3          India   1046       IND\n4          Ghana      5       GHA\n5   Burkina Faso      1       BFA",
      "text/html": "<div>\n<style scoped>\n    .dataframe tbody tr th:only-of-type {\n        vertical-align: middle;\n    }\n\n    .dataframe tbody tr th {\n        vertical-align: top;\n    }\n\n    .dataframe thead th {\n        text-align: right;\n    }\n</style>\n<table border=\"1\" class=\"dataframe\">\n  <thead>\n    <tr style=\"text-align: right;\">\n      <th></th>\n      <th>Countries</th>\n      <th>Count</th>\n      <th>iso_alpha</th>\n    </tr>\n  </thead>\n  <tbody>\n    <tr>\n      <th>0</th>\n      <td>United States</td>\n      <td>3690</td>\n      <td>USA</td>\n    </tr>\n    <tr>\n      <th>1</th>\n      <td>South Africa</td>\n      <td>62</td>\n      <td>ZAF</td>\n    </tr>\n    <tr>\n      <th>3</th>\n      <td>India</td>\n      <td>1046</td>\n      <td>IND</td>\n    </tr>\n    <tr>\n      <th>4</th>\n      <td>Ghana</td>\n      <td>5</td>\n      <td>GHA</td>\n    </tr>\n    <tr>\n      <th>5</th>\n      <td>Burkina Faso</td>\n      <td>1</td>\n      <td>BFA</td>\n    </tr>\n  </tbody>\n</table>\n</div>"
     },
     "execution_count": 167,
     "metadata": {},
     "output_type": "execute_result"
    }
   ],
   "source": [
    "import pycountry\n",
    "\n",
    "input_countries = df_countries['Countries'].tolist()\n",
    "\n",
    "countries = {}\n",
    "for country in pycountry.countries:\n",
    "    countries[country.name] = country.alpha_3\n",
    "\n",
    "codes = [countries.get(country, 'Unknown code') for country in input_countries]\n",
    "\n",
    "df_countries = df_countries.assign(iso_alpha=codes)\n",
    "\n",
    "df_countries.head()"
   ],
   "metadata": {
    "collapsed": false,
    "pycharm": {
     "name": "#%%\n"
    }
   }
  },
  {
   "cell_type": "code",
   "execution_count": 168,
   "outputs": [
    {
     "name": "stderr",
     "output_type": "stream",
     "text": [
      "C:\\Users\\Maciek\\AppData\\Local\\Temp\\ipykernel_5820\\3942594964.py:1: FutureWarning: The default value of regex will change from True to False in a future version.\n",
      "  df['duration'] = df['duration'].str.replace('[^0-9]', '')\n"
     ]
    },
    {
     "data": {
      "text/plain": "4923     90\n173      83\n7985     85\n6396    114\n8349      3\n6497    108\n6804     97\n4791     60\n4546     58\n1710     85\n2664      1\n1792     95\n3821      1\n8383     93\n295     111\nName: duration, dtype: object"
     },
     "execution_count": 168,
     "metadata": {},
     "output_type": "execute_result"
    }
   ],
   "source": [
    "df['duration'] = df['duration'].str.replace('[^0-9]', '')\n",
    "df['duration'].sample(15)"
   ],
   "metadata": {
    "collapsed": false,
    "pycharm": {
     "name": "#%%\n"
    }
   }
  },
  {
   "cell_type": "code",
   "execution_count": 169,
   "outputs": [
    {
     "data": {
      "text/plain": "     show_id   type                                 title    director  \\\n5541   s5542  Movie                       Louis C.K. 2017  Louis C.K.   \n5794   s5795  Movie                 Louis C.K.: Hilarious  Louis C.K.   \n5813   s5814  Movie  Louis C.K.: Live at the Comedy Store  Louis C.K.   \n\n            cast        country          date_added  release_year  rating  \\\n5541  Louis C.K.  United States       April 4, 2017          2017  74 min   \n5794  Louis C.K.  United States  September 16, 2016          2010  84 min   \n5813  Louis C.K.  United States     August 15, 2016          2015  66 min   \n\n     duration listed_in                                        description  \n5541      NaN    Movies  Louis C.K. muses on religion, eternal love, gi...  \n5794      NaN    Movies  Emmy-winning comedy writer Louis C.K. brings h...  \n5813      NaN    Movies  The comic puts his trademark hilarious/thought...  ",
      "text/html": "<div>\n<style scoped>\n    .dataframe tbody tr th:only-of-type {\n        vertical-align: middle;\n    }\n\n    .dataframe tbody tr th {\n        vertical-align: top;\n    }\n\n    .dataframe thead th {\n        text-align: right;\n    }\n</style>\n<table border=\"1\" class=\"dataframe\">\n  <thead>\n    <tr style=\"text-align: right;\">\n      <th></th>\n      <th>show_id</th>\n      <th>type</th>\n      <th>title</th>\n      <th>director</th>\n      <th>cast</th>\n      <th>country</th>\n      <th>date_added</th>\n      <th>release_year</th>\n      <th>rating</th>\n      <th>duration</th>\n      <th>listed_in</th>\n      <th>description</th>\n    </tr>\n  </thead>\n  <tbody>\n    <tr>\n      <th>5541</th>\n      <td>s5542</td>\n      <td>Movie</td>\n      <td>Louis C.K. 2017</td>\n      <td>Louis C.K.</td>\n      <td>Louis C.K.</td>\n      <td>United States</td>\n      <td>April 4, 2017</td>\n      <td>2017</td>\n      <td>74 min</td>\n      <td>NaN</td>\n      <td>Movies</td>\n      <td>Louis C.K. muses on religion, eternal love, gi...</td>\n    </tr>\n    <tr>\n      <th>5794</th>\n      <td>s5795</td>\n      <td>Movie</td>\n      <td>Louis C.K.: Hilarious</td>\n      <td>Louis C.K.</td>\n      <td>Louis C.K.</td>\n      <td>United States</td>\n      <td>September 16, 2016</td>\n      <td>2010</td>\n      <td>84 min</td>\n      <td>NaN</td>\n      <td>Movies</td>\n      <td>Emmy-winning comedy writer Louis C.K. brings h...</td>\n    </tr>\n    <tr>\n      <th>5813</th>\n      <td>s5814</td>\n      <td>Movie</td>\n      <td>Louis C.K.: Live at the Comedy Store</td>\n      <td>Louis C.K.</td>\n      <td>Louis C.K.</td>\n      <td>United States</td>\n      <td>August 15, 2016</td>\n      <td>2015</td>\n      <td>66 min</td>\n      <td>NaN</td>\n      <td>Movies</td>\n      <td>The comic puts his trademark hilarious/thought...</td>\n    </tr>\n  </tbody>\n</table>\n</div>"
     },
     "execution_count": 169,
     "metadata": {},
     "output_type": "execute_result"
    }
   ],
   "source": [
    "df.loc[df['duration'].isnull()]"
   ],
   "metadata": {
    "collapsed": false,
    "pycharm": {
     "name": "#%%\n"
    }
   }
  },
  {
   "cell_type": "code",
   "execution_count": 170,
   "outputs": [],
   "source": [
    "df.drop([5541, 5794, 5813], axis=0, inplace=True)"
   ],
   "metadata": {
    "collapsed": false,
    "pycharm": {
     "name": "#%%\n"
    }
   }
  },
  {
   "cell_type": "code",
   "execution_count": 171,
   "outputs": [
    {
     "data": {
      "text/plain": "show_id         object\ntype            object\ntitle           object\ndirector        object\ncast            object\ncountry         object\ndate_added      object\nrelease_year     int64\nrating          object\nduration         int32\nlisted_in       object\ndescription     object\ndtype: object"
     },
     "execution_count": 171,
     "metadata": {},
     "output_type": "execute_result"
    }
   ],
   "source": [
    "df['duration'] = df['duration'].astype('int')\n",
    "df.dtypes"
   ],
   "metadata": {
    "collapsed": false,
    "pycharm": {
     "name": "#%%\n"
    }
   }
  },
  {
   "cell_type": "code",
   "execution_count": 172,
   "outputs": [
    {
     "data": {
      "text/plain": "defaultdict(int,\n            {'2021': 1498,\n             '2020': 1879,\n             '2019': 2016,\n             '2018': 1649,\n             '2017': 1187,\n             '2016': 427,\n             '2015': 82,\n             '2014': 24,\n             '2013': 11,\n             '2012': 3,\n             '2011': 13,\n             '2009': 2,\n             '2008': 2,\n             '2010': 1})"
     },
     "execution_count": 172,
     "metadata": {},
     "output_type": "execute_result"
    }
   ],
   "source": [
    "from collections import defaultdict\n",
    "\n",
    "counter = defaultdict(int)\n",
    "\n",
    "for val in df['date_added']:\n",
    "    if isinstance(val, str):\n",
    "        month = val.split()[2]\n",
    "        counter[month] += 1\n",
    "    else: continue\n",
    "\n",
    "counter"
   ],
   "metadata": {
    "collapsed": false,
    "pycharm": {
     "name": "#%%\n"
    }
   }
  },
  {
   "cell_type": "code",
   "execution_count": 173,
   "outputs": [
    {
     "data": {
      "text/plain": "(8804, 12)"
     },
     "execution_count": 173,
     "metadata": {},
     "output_type": "execute_result"
    }
   ],
   "source": [
    "df.shape"
   ],
   "metadata": {
    "collapsed": false,
    "pycharm": {
     "name": "#%%\n"
    }
   }
  },
  {
   "cell_type": "code",
   "execution_count": 174,
   "outputs": [
    {
     "data": {
      "text/plain": "     show_id     type                                   title  \\\n4915   s4916    Movie                 Enissa Amani: Ehrenwort   \n8294   s8295    Movie                          The Fear of 13   \n8140   s8141    Movie                          Swiss Army Man   \n2709   s2710    Movie                         Coffee & Kareem   \n1791   s1792  TV Show  Chico Bon Bon: Monkey with a Tool Belt   \n2017   s2018    Movie      Bhai: Vyakti Ki Valli - Poorvardha   \n7104   s7105    Movie                               It's Fine   \n8223   s8224    Movie                           The Brave One   \n8032   s8033    Movie                               Skiptrace   \n7484   s7485    Movie                             Money Talks   \n\n                        director  \\\n4915                   Max Amini   \n8294               David Sington   \n8140  Dan Kwan, Daniel Scheinert   \n2709               Michael Dowse   \n1791                         NaN   \n2017            Mahesh Manjrekar   \n7104               Ismail Farouk   \n8223                 Neil Jordan   \n8032                Renny Harlin   \n7484                Brett Ratner   \n\n                                                   cast  \\\n4915                                       Enissa Amani   \n8294                                                NaN   \n8140  Paul Dano, Daniel Radcliffe, Mary Elizabeth Wi...   \n2709  Ed Helms, Taraji P. Henson, Terrence Little Ga...   \n1791  Robbie Daymond, Dayci Brookshire, Anthony Tede...   \n2017  Sagar Deshmukh, Vijay Kenkre, Iravati Harshe, ...   \n7104  Saad El Soghayar, Amar, Mohamed Ramadan, Karee...   \n8223  Jodie Foster, Terrence Howard, Naveen Andrews,...   \n8032  Jackie Chan, Johnny Knoxville, Fan Bingbing, E...   \n7484  Charlie Sheen, Chris Tucker, Heather Locklear,...   \n\n                              country          date_added  release_year  \\\n4915                          Germany      April 26, 2018          2018   \n8294                   United Kingdom        June 1, 2016          2015   \n8140            United States, Sweden    January 30, 2019          2016   \n2709                    United States       April 3, 2020          2020   \n1791                    United States    October 27, 2020          2020   \n2017                            India  September 10, 2020          2019   \n7104                                          May 3, 2019          2012   \n8223                    United States    November 1, 2019          2007   \n8032  China, Hong Kong, United States        July 4, 2019          2016   \n7484                    United States    November 1, 2019          1997   \n\n     rating  duration                                         listed_in  \\\n4915  TV-MA        66                                   Stand-Up Comedy   \n8294  TV-MA        95               Documentaries, International Movies   \n8140      R        97              Comedies, Dramas, Independent Movies   \n2709  TV-MA        88                      Action & Adventure, Comedies   \n1791   TV-Y         4                                          Kids' TV   \n2017  TV-14       116                      Dramas, International Movies   \n7104  TV-14       101  Comedies, International Movies, Music & Musicals   \n8223      R       122                                 Dramas, Thrillers   \n8032  PG-13       107                      Action & Adventure, Comedies   \n7484      R        96                      Action & Adventure, Comedies   \n\n                                            description  year_added  \n4915  Live from Hamburg, Iranian-German comedian Eni...        2018  \n8294  After 20 years on Death Row, self-educated inm...        2016  \n8140  A washed-up corpse with surprising abilities g...        2019  \n2709  An inept Detroit cop must team up with his gir...        2020  \n1791  Armed with tools and engineering smarts, monke...        2020  \n2017  This first of a two-part biopic depicts the ea...        2020  \n7104  When a beautiful belly-dancer moves into their...        2019  \n8223  New York City radio host Erica Bain decides to...        2019  \n8032  To capture a crime lord who killed his partner...        2019  \n7484  TV news reporter James Russell helps put small...        2019  ",
      "text/html": "<div>\n<style scoped>\n    .dataframe tbody tr th:only-of-type {\n        vertical-align: middle;\n    }\n\n    .dataframe tbody tr th {\n        vertical-align: top;\n    }\n\n    .dataframe thead th {\n        text-align: right;\n    }\n</style>\n<table border=\"1\" class=\"dataframe\">\n  <thead>\n    <tr style=\"text-align: right;\">\n      <th></th>\n      <th>show_id</th>\n      <th>type</th>\n      <th>title</th>\n      <th>director</th>\n      <th>cast</th>\n      <th>country</th>\n      <th>date_added</th>\n      <th>release_year</th>\n      <th>rating</th>\n      <th>duration</th>\n      <th>listed_in</th>\n      <th>description</th>\n      <th>year_added</th>\n    </tr>\n  </thead>\n  <tbody>\n    <tr>\n      <th>4915</th>\n      <td>s4916</td>\n      <td>Movie</td>\n      <td>Enissa Amani: Ehrenwort</td>\n      <td>Max Amini</td>\n      <td>Enissa Amani</td>\n      <td>Germany</td>\n      <td>April 26, 2018</td>\n      <td>2018</td>\n      <td>TV-MA</td>\n      <td>66</td>\n      <td>Stand-Up Comedy</td>\n      <td>Live from Hamburg, Iranian-German comedian Eni...</td>\n      <td>2018</td>\n    </tr>\n    <tr>\n      <th>8294</th>\n      <td>s8295</td>\n      <td>Movie</td>\n      <td>The Fear of 13</td>\n      <td>David Sington</td>\n      <td>NaN</td>\n      <td>United Kingdom</td>\n      <td>June 1, 2016</td>\n      <td>2015</td>\n      <td>TV-MA</td>\n      <td>95</td>\n      <td>Documentaries, International Movies</td>\n      <td>After 20 years on Death Row, self-educated inm...</td>\n      <td>2016</td>\n    </tr>\n    <tr>\n      <th>8140</th>\n      <td>s8141</td>\n      <td>Movie</td>\n      <td>Swiss Army Man</td>\n      <td>Dan Kwan, Daniel Scheinert</td>\n      <td>Paul Dano, Daniel Radcliffe, Mary Elizabeth Wi...</td>\n      <td>United States, Sweden</td>\n      <td>January 30, 2019</td>\n      <td>2016</td>\n      <td>R</td>\n      <td>97</td>\n      <td>Comedies, Dramas, Independent Movies</td>\n      <td>A washed-up corpse with surprising abilities g...</td>\n      <td>2019</td>\n    </tr>\n    <tr>\n      <th>2709</th>\n      <td>s2710</td>\n      <td>Movie</td>\n      <td>Coffee &amp; Kareem</td>\n      <td>Michael Dowse</td>\n      <td>Ed Helms, Taraji P. Henson, Terrence Little Ga...</td>\n      <td>United States</td>\n      <td>April 3, 2020</td>\n      <td>2020</td>\n      <td>TV-MA</td>\n      <td>88</td>\n      <td>Action &amp; Adventure, Comedies</td>\n      <td>An inept Detroit cop must team up with his gir...</td>\n      <td>2020</td>\n    </tr>\n    <tr>\n      <th>1791</th>\n      <td>s1792</td>\n      <td>TV Show</td>\n      <td>Chico Bon Bon: Monkey with a Tool Belt</td>\n      <td>NaN</td>\n      <td>Robbie Daymond, Dayci Brookshire, Anthony Tede...</td>\n      <td>United States</td>\n      <td>October 27, 2020</td>\n      <td>2020</td>\n      <td>TV-Y</td>\n      <td>4</td>\n      <td>Kids' TV</td>\n      <td>Armed with tools and engineering smarts, monke...</td>\n      <td>2020</td>\n    </tr>\n    <tr>\n      <th>2017</th>\n      <td>s2018</td>\n      <td>Movie</td>\n      <td>Bhai: Vyakti Ki Valli - Poorvardha</td>\n      <td>Mahesh Manjrekar</td>\n      <td>Sagar Deshmukh, Vijay Kenkre, Iravati Harshe, ...</td>\n      <td>India</td>\n      <td>September 10, 2020</td>\n      <td>2019</td>\n      <td>TV-14</td>\n      <td>116</td>\n      <td>Dramas, International Movies</td>\n      <td>This first of a two-part biopic depicts the ea...</td>\n      <td>2020</td>\n    </tr>\n    <tr>\n      <th>7104</th>\n      <td>s7105</td>\n      <td>Movie</td>\n      <td>It's Fine</td>\n      <td>Ismail Farouk</td>\n      <td>Saad El Soghayar, Amar, Mohamed Ramadan, Karee...</td>\n      <td></td>\n      <td>May 3, 2019</td>\n      <td>2012</td>\n      <td>TV-14</td>\n      <td>101</td>\n      <td>Comedies, International Movies, Music &amp; Musicals</td>\n      <td>When a beautiful belly-dancer moves into their...</td>\n      <td>2019</td>\n    </tr>\n    <tr>\n      <th>8223</th>\n      <td>s8224</td>\n      <td>Movie</td>\n      <td>The Brave One</td>\n      <td>Neil Jordan</td>\n      <td>Jodie Foster, Terrence Howard, Naveen Andrews,...</td>\n      <td>United States</td>\n      <td>November 1, 2019</td>\n      <td>2007</td>\n      <td>R</td>\n      <td>122</td>\n      <td>Dramas, Thrillers</td>\n      <td>New York City radio host Erica Bain decides to...</td>\n      <td>2019</td>\n    </tr>\n    <tr>\n      <th>8032</th>\n      <td>s8033</td>\n      <td>Movie</td>\n      <td>Skiptrace</td>\n      <td>Renny Harlin</td>\n      <td>Jackie Chan, Johnny Knoxville, Fan Bingbing, E...</td>\n      <td>China, Hong Kong, United States</td>\n      <td>July 4, 2019</td>\n      <td>2016</td>\n      <td>PG-13</td>\n      <td>107</td>\n      <td>Action &amp; Adventure, Comedies</td>\n      <td>To capture a crime lord who killed his partner...</td>\n      <td>2019</td>\n    </tr>\n    <tr>\n      <th>7484</th>\n      <td>s7485</td>\n      <td>Movie</td>\n      <td>Money Talks</td>\n      <td>Brett Ratner</td>\n      <td>Charlie Sheen, Chris Tucker, Heather Locklear,...</td>\n      <td>United States</td>\n      <td>November 1, 2019</td>\n      <td>1997</td>\n      <td>R</td>\n      <td>96</td>\n      <td>Action &amp; Adventure, Comedies</td>\n      <td>TV news reporter James Russell helps put small...</td>\n      <td>2019</td>\n    </tr>\n  </tbody>\n</table>\n</div>"
     },
     "execution_count": 174,
     "metadata": {},
     "output_type": "execute_result"
    }
   ],
   "source": [
    "month = []\n",
    "for date in df['date_added']:\n",
    "    if isinstance(date, str):\n",
    "        y = date.split()[2]\n",
    "        month.append(int(y))\n",
    "    else:\n",
    "        month.append(0)\n",
    "\n",
    "df['year_added'] = month\n",
    "df.sample(10)"
   ],
   "metadata": {
    "collapsed": false,
    "pycharm": {
     "name": "#%%\n"
    }
   }
  },
  {
   "cell_type": "code",
   "execution_count": 175,
   "outputs": [
    {
     "data": {
      "text/plain": "     show_id     type                     title         director  \\\n1190   s1191    Movie                  Skylines   Liam O'Donnell   \n4369   s4370    Movie  The Christmas Chronicles      Clay Kaytis   \n2984   s2985  TV Show                Omniscient              NaN   \n8641   s8642    Movie                     Turbo      David Soren   \n4421   s4422    Movie                     Aamir  Raj Kumar Gupta   \n4653   s4654    Movie               City of Joy  Madeleine Gavin   \n5127   s5128    Movie   Judd Apatow: The Return     Marcus Raboy   \n494     s495    Movie           Rock the Kasbah   Barry Levinson   \n6890   s6891  TV Show               Grand Hotel              NaN   \n8203   s8204    Movie       The Bare-Footed Kid       Johnnie To   \n\n                                                   cast  \\\n1190  Lindsey Morgan, Jonathan Howard, Daniel Bernha...   \n4369  Kurt Russell, Darby Camp, Judah Lewis, Kimberl...   \n2984  Carla Salle, Sandra Corveloni, Jonathan Haagen...   \n8641  Ben Schwartz, Bill Hader, Luis Guzmán, Snoop D...   \n4421  Rajeev Khandelwal, Gajraj Rao, Shashanka Ghosh...   \n4653                                                NaN   \n5127                                        Judd Apatow   \n494   Bill Murray, Kate Hudson, Zooey Deschanel, Dan...   \n6890  Yon González, Amaia Salamanca, Adriana Ozores,...   \n8203  Aaron Kwok, Lung Ti, Maggie Cheung, Chien-lien...   \n\n                            country          date_added  release_year rating  \\\n1190  United Kingdom, United States      March 18, 2021          2020      R   \n4369                  United States   November 22, 2018          2018  TV-PG   \n2984                         Brazil    January 29, 2020          2020  TV-MA   \n8641                  United States  September 12, 2019          2013     PG   \n4421                          India    November 1, 2018          2008  TV-14   \n4653                 United States,   September 7, 2018          2018  TV-MA   \n5127                  United States   December 12, 2017          2017  TV-MA   \n494                   United States        July 8, 2021          2015      R   \n6890                          Spain    November 1, 2017          2013  TV-PG   \n8203                      Hong Kong     August 16, 2018          1993  TV-14   \n\n      duration                                          listed_in  \\\n1190       113                                 Action & Adventure   \n4369       104                 Children & Family Movies, Comedies   \n2984         1  International TV Shows, TV Dramas, TV Sci-Fi &...   \n8641        96                 Children & Family Movies, Comedies   \n4421        95                    International Movies, Thrillers   \n4653        77                                      Documentaries   \n5127        70                                    Stand-Up Comedy   \n494        106                         Comedies, Music & Musicals   \n6890         3  International TV Shows, Romantic TV Shows, Spa...   \n8203        83           Action & Adventure, International Movies   \n\n                                            description  year_added  \\\n1190  When a mysterious alien virus begins to endang...        2021   \n4369  After accidentally crashing Santa's sleigh, a ...        2018   \n2984  In a city where citizens are monitored 24/7, a...        2020   \n8641  A speed-obsessed snail who dreams of being the...        2019   \n4421  In this high-tension thriller, an anonymous ca...        2018   \n4653  Women who've been sexually brutalized in war-t...        2018   \n5127  Judd Apatow returns to stand-up comedy after 2...        2017   \n494   When a has-been music producer gets stuck in A...        2021   \n6890  To learn the truth about his sister's mysterio...        2017   \n8203  While working at a family friend's business, a...        2018   \n\n     month_added  \n1190       March  \n4369    November  \n2984     January  \n8641   September  \n4421    November  \n4653   September  \n5127    December  \n494         July  \n6890    November  \n8203      August  ",
      "text/html": "<div>\n<style scoped>\n    .dataframe tbody tr th:only-of-type {\n        vertical-align: middle;\n    }\n\n    .dataframe tbody tr th {\n        vertical-align: top;\n    }\n\n    .dataframe thead th {\n        text-align: right;\n    }\n</style>\n<table border=\"1\" class=\"dataframe\">\n  <thead>\n    <tr style=\"text-align: right;\">\n      <th></th>\n      <th>show_id</th>\n      <th>type</th>\n      <th>title</th>\n      <th>director</th>\n      <th>cast</th>\n      <th>country</th>\n      <th>date_added</th>\n      <th>release_year</th>\n      <th>rating</th>\n      <th>duration</th>\n      <th>listed_in</th>\n      <th>description</th>\n      <th>year_added</th>\n      <th>month_added</th>\n    </tr>\n  </thead>\n  <tbody>\n    <tr>\n      <th>1190</th>\n      <td>s1191</td>\n      <td>Movie</td>\n      <td>Skylines</td>\n      <td>Liam O'Donnell</td>\n      <td>Lindsey Morgan, Jonathan Howard, Daniel Bernha...</td>\n      <td>United Kingdom, United States</td>\n      <td>March 18, 2021</td>\n      <td>2020</td>\n      <td>R</td>\n      <td>113</td>\n      <td>Action &amp; Adventure</td>\n      <td>When a mysterious alien virus begins to endang...</td>\n      <td>2021</td>\n      <td>March</td>\n    </tr>\n    <tr>\n      <th>4369</th>\n      <td>s4370</td>\n      <td>Movie</td>\n      <td>The Christmas Chronicles</td>\n      <td>Clay Kaytis</td>\n      <td>Kurt Russell, Darby Camp, Judah Lewis, Kimberl...</td>\n      <td>United States</td>\n      <td>November 22, 2018</td>\n      <td>2018</td>\n      <td>TV-PG</td>\n      <td>104</td>\n      <td>Children &amp; Family Movies, Comedies</td>\n      <td>After accidentally crashing Santa's sleigh, a ...</td>\n      <td>2018</td>\n      <td>November</td>\n    </tr>\n    <tr>\n      <th>2984</th>\n      <td>s2985</td>\n      <td>TV Show</td>\n      <td>Omniscient</td>\n      <td>NaN</td>\n      <td>Carla Salle, Sandra Corveloni, Jonathan Haagen...</td>\n      <td>Brazil</td>\n      <td>January 29, 2020</td>\n      <td>2020</td>\n      <td>TV-MA</td>\n      <td>1</td>\n      <td>International TV Shows, TV Dramas, TV Sci-Fi &amp;...</td>\n      <td>In a city where citizens are monitored 24/7, a...</td>\n      <td>2020</td>\n      <td>January</td>\n    </tr>\n    <tr>\n      <th>8641</th>\n      <td>s8642</td>\n      <td>Movie</td>\n      <td>Turbo</td>\n      <td>David Soren</td>\n      <td>Ben Schwartz, Bill Hader, Luis Guzmán, Snoop D...</td>\n      <td>United States</td>\n      <td>September 12, 2019</td>\n      <td>2013</td>\n      <td>PG</td>\n      <td>96</td>\n      <td>Children &amp; Family Movies, Comedies</td>\n      <td>A speed-obsessed snail who dreams of being the...</td>\n      <td>2019</td>\n      <td>September</td>\n    </tr>\n    <tr>\n      <th>4421</th>\n      <td>s4422</td>\n      <td>Movie</td>\n      <td>Aamir</td>\n      <td>Raj Kumar Gupta</td>\n      <td>Rajeev Khandelwal, Gajraj Rao, Shashanka Ghosh...</td>\n      <td>India</td>\n      <td>November 1, 2018</td>\n      <td>2008</td>\n      <td>TV-14</td>\n      <td>95</td>\n      <td>International Movies, Thrillers</td>\n      <td>In this high-tension thriller, an anonymous ca...</td>\n      <td>2018</td>\n      <td>November</td>\n    </tr>\n    <tr>\n      <th>4653</th>\n      <td>s4654</td>\n      <td>Movie</td>\n      <td>City of Joy</td>\n      <td>Madeleine Gavin</td>\n      <td>NaN</td>\n      <td>United States,</td>\n      <td>September 7, 2018</td>\n      <td>2018</td>\n      <td>TV-MA</td>\n      <td>77</td>\n      <td>Documentaries</td>\n      <td>Women who've been sexually brutalized in war-t...</td>\n      <td>2018</td>\n      <td>September</td>\n    </tr>\n    <tr>\n      <th>5127</th>\n      <td>s5128</td>\n      <td>Movie</td>\n      <td>Judd Apatow: The Return</td>\n      <td>Marcus Raboy</td>\n      <td>Judd Apatow</td>\n      <td>United States</td>\n      <td>December 12, 2017</td>\n      <td>2017</td>\n      <td>TV-MA</td>\n      <td>70</td>\n      <td>Stand-Up Comedy</td>\n      <td>Judd Apatow returns to stand-up comedy after 2...</td>\n      <td>2017</td>\n      <td>December</td>\n    </tr>\n    <tr>\n      <th>494</th>\n      <td>s495</td>\n      <td>Movie</td>\n      <td>Rock the Kasbah</td>\n      <td>Barry Levinson</td>\n      <td>Bill Murray, Kate Hudson, Zooey Deschanel, Dan...</td>\n      <td>United States</td>\n      <td>July 8, 2021</td>\n      <td>2015</td>\n      <td>R</td>\n      <td>106</td>\n      <td>Comedies, Music &amp; Musicals</td>\n      <td>When a has-been music producer gets stuck in A...</td>\n      <td>2021</td>\n      <td>July</td>\n    </tr>\n    <tr>\n      <th>6890</th>\n      <td>s6891</td>\n      <td>TV Show</td>\n      <td>Grand Hotel</td>\n      <td>NaN</td>\n      <td>Yon González, Amaia Salamanca, Adriana Ozores,...</td>\n      <td>Spain</td>\n      <td>November 1, 2017</td>\n      <td>2013</td>\n      <td>TV-PG</td>\n      <td>3</td>\n      <td>International TV Shows, Romantic TV Shows, Spa...</td>\n      <td>To learn the truth about his sister's mysterio...</td>\n      <td>2017</td>\n      <td>November</td>\n    </tr>\n    <tr>\n      <th>8203</th>\n      <td>s8204</td>\n      <td>Movie</td>\n      <td>The Bare-Footed Kid</td>\n      <td>Johnnie To</td>\n      <td>Aaron Kwok, Lung Ti, Maggie Cheung, Chien-lien...</td>\n      <td>Hong Kong</td>\n      <td>August 16, 2018</td>\n      <td>1993</td>\n      <td>TV-14</td>\n      <td>83</td>\n      <td>Action &amp; Adventure, International Movies</td>\n      <td>While working at a family friend's business, a...</td>\n      <td>2018</td>\n      <td>August</td>\n    </tr>\n  </tbody>\n</table>\n</div>"
     },
     "execution_count": 175,
     "metadata": {},
     "output_type": "execute_result"
    }
   ],
   "source": [
    "month = []\n",
    "for date in df['date_added']:\n",
    "    if isinstance(date, str):\n",
    "        y = date.split()[0]\n",
    "        month.append(y)\n",
    "    else:\n",
    "        month.append(0)\n",
    "\n",
    "df['month_added'] = month\n",
    "df.sample(10)"
   ],
   "metadata": {
    "collapsed": false,
    "pycharm": {
     "name": "#%%\n"
    }
   }
  },
  {
   "cell_type": "code",
   "execution_count": 176,
   "outputs": [
    {
     "data": {
      "text/plain": "     show_id     type                                        title director  \\\n6066   s6067  TV Show  A Young Doctor's Notebook and Other Stories      NaN   \n6174   s6175  TV Show              Anthony Bourdain: Parts Unknown      NaN   \n6795   s6796  TV Show                                      Frasier      NaN   \n6806   s6807  TV Show                                      Friends      NaN   \n6901   s6902  TV Show                              Gunslinger Girl      NaN   \n7196   s7197  TV Show                                     Kikoriki      NaN   \n7254   s7255  TV Show                          La Familia P. Luche      NaN   \n7406   s7407  TV Show                                        Maron      NaN   \n7847   s7848  TV Show                                 Red vs. Blue      NaN   \n8182   s8183  TV Show                 The Adventures of Figaro Pho      NaN   \n\n                                                   cast         country  \\\n6066  Daniel Radcliffe, Jon Hamm, Adam Godley, Chris...  United Kingdom   \n6174                                   Anthony Bourdain   United States   \n6795  Kelsey Grammer, Jane Leeves, David Hyde Pierce...   United States   \n6806  Jennifer Aniston, Courteney Cox, Lisa Kudrow, ...   United States   \n6901  Yuuka Nanri, Kanako Mitsuhashi, Eri Sendai, Am...           Japan   \n7196                                      Igor Dmitriev                   \n7254  Eugenio Derbez, Consuelo Duval, Luis Manuel Áv...   United States   \n7406  Marc Maron, Judd Hirsch, Josh Brener, Nora Zeh...   United States   \n7847  Burnie Burns, Jason Saldaña, Gustavo Sorola, G...   United States   \n8182  Luke Jurevicius, Craig Behenna, Charlotte Haml...       Australia   \n\n     date_added  release_year rating  duration  \\\n6066        NaN          2013  TV-MA         2   \n6174        NaN          2018  TV-PG         5   \n6795        NaN          2003  TV-PG        11   \n6806        NaN          2003  TV-14        10   \n6901        NaN          2008  TV-14         2   \n7196        NaN          2010   TV-Y         2   \n7254        NaN          2012  TV-14         3   \n7406        NaN          2016  TV-MA         4   \n7847        NaN          2015     NR        13   \n8182        NaN          2015  TV-Y7         2   \n\n                                              listed_in  \\\n6066           British TV Shows, TV Comedies, TV Dramas   \n6174                                         Docuseries   \n6795                     Classic & Cult TV, TV Comedies   \n6806                     Classic & Cult TV, TV Comedies   \n6901                       Anime Series, Crime TV Shows   \n7196                                           Kids' TV   \n7254  International TV Shows, Spanish-Language TV Sh...   \n7406                                        TV Comedies   \n7847  TV Action & Adventure, TV Comedies, TV Sci-Fi ...   \n8182                              Kids' TV, TV Comedies   \n\n                                            description  year_added  \\\n6066  Set during the Russian Revolution, this comic ...           0   \n6174  This CNN original series has chef Anthony Bour...           0   \n6795  Frasier Crane is a snooty but lovable Seattle ...           0   \n6806  This hit sitcom follows the merry misadventure...           0   \n6901  On the surface, the Social Welfare Agency appe...           0   \n7196  A wacky rabbit and his gang of animal pals hav...           0   \n7254  This irreverent sitcom featues Ludovico, Feder...           0   \n7406  Marc Maron stars as Marc Maron, who interviews...           0   \n7847  This parody of first-person shooter games, mil...           0   \n8182  Imagine your worst fears, then multiply them: ...           0   \n\n     month_added  \n6066           0  \n6174           0  \n6795           0  \n6806           0  \n6901           0  \n7196           0  \n7254           0  \n7406           0  \n7847           0  \n8182           0  ",
      "text/html": "<div>\n<style scoped>\n    .dataframe tbody tr th:only-of-type {\n        vertical-align: middle;\n    }\n\n    .dataframe tbody tr th {\n        vertical-align: top;\n    }\n\n    .dataframe thead th {\n        text-align: right;\n    }\n</style>\n<table border=\"1\" class=\"dataframe\">\n  <thead>\n    <tr style=\"text-align: right;\">\n      <th></th>\n      <th>show_id</th>\n      <th>type</th>\n      <th>title</th>\n      <th>director</th>\n      <th>cast</th>\n      <th>country</th>\n      <th>date_added</th>\n      <th>release_year</th>\n      <th>rating</th>\n      <th>duration</th>\n      <th>listed_in</th>\n      <th>description</th>\n      <th>year_added</th>\n      <th>month_added</th>\n    </tr>\n  </thead>\n  <tbody>\n    <tr>\n      <th>6066</th>\n      <td>s6067</td>\n      <td>TV Show</td>\n      <td>A Young Doctor's Notebook and Other Stories</td>\n      <td>NaN</td>\n      <td>Daniel Radcliffe, Jon Hamm, Adam Godley, Chris...</td>\n      <td>United Kingdom</td>\n      <td>NaN</td>\n      <td>2013</td>\n      <td>TV-MA</td>\n      <td>2</td>\n      <td>British TV Shows, TV Comedies, TV Dramas</td>\n      <td>Set during the Russian Revolution, this comic ...</td>\n      <td>0</td>\n      <td>0</td>\n    </tr>\n    <tr>\n      <th>6174</th>\n      <td>s6175</td>\n      <td>TV Show</td>\n      <td>Anthony Bourdain: Parts Unknown</td>\n      <td>NaN</td>\n      <td>Anthony Bourdain</td>\n      <td>United States</td>\n      <td>NaN</td>\n      <td>2018</td>\n      <td>TV-PG</td>\n      <td>5</td>\n      <td>Docuseries</td>\n      <td>This CNN original series has chef Anthony Bour...</td>\n      <td>0</td>\n      <td>0</td>\n    </tr>\n    <tr>\n      <th>6795</th>\n      <td>s6796</td>\n      <td>TV Show</td>\n      <td>Frasier</td>\n      <td>NaN</td>\n      <td>Kelsey Grammer, Jane Leeves, David Hyde Pierce...</td>\n      <td>United States</td>\n      <td>NaN</td>\n      <td>2003</td>\n      <td>TV-PG</td>\n      <td>11</td>\n      <td>Classic &amp; Cult TV, TV Comedies</td>\n      <td>Frasier Crane is a snooty but lovable Seattle ...</td>\n      <td>0</td>\n      <td>0</td>\n    </tr>\n    <tr>\n      <th>6806</th>\n      <td>s6807</td>\n      <td>TV Show</td>\n      <td>Friends</td>\n      <td>NaN</td>\n      <td>Jennifer Aniston, Courteney Cox, Lisa Kudrow, ...</td>\n      <td>United States</td>\n      <td>NaN</td>\n      <td>2003</td>\n      <td>TV-14</td>\n      <td>10</td>\n      <td>Classic &amp; Cult TV, TV Comedies</td>\n      <td>This hit sitcom follows the merry misadventure...</td>\n      <td>0</td>\n      <td>0</td>\n    </tr>\n    <tr>\n      <th>6901</th>\n      <td>s6902</td>\n      <td>TV Show</td>\n      <td>Gunslinger Girl</td>\n      <td>NaN</td>\n      <td>Yuuka Nanri, Kanako Mitsuhashi, Eri Sendai, Am...</td>\n      <td>Japan</td>\n      <td>NaN</td>\n      <td>2008</td>\n      <td>TV-14</td>\n      <td>2</td>\n      <td>Anime Series, Crime TV Shows</td>\n      <td>On the surface, the Social Welfare Agency appe...</td>\n      <td>0</td>\n      <td>0</td>\n    </tr>\n    <tr>\n      <th>7196</th>\n      <td>s7197</td>\n      <td>TV Show</td>\n      <td>Kikoriki</td>\n      <td>NaN</td>\n      <td>Igor Dmitriev</td>\n      <td></td>\n      <td>NaN</td>\n      <td>2010</td>\n      <td>TV-Y</td>\n      <td>2</td>\n      <td>Kids' TV</td>\n      <td>A wacky rabbit and his gang of animal pals hav...</td>\n      <td>0</td>\n      <td>0</td>\n    </tr>\n    <tr>\n      <th>7254</th>\n      <td>s7255</td>\n      <td>TV Show</td>\n      <td>La Familia P. Luche</td>\n      <td>NaN</td>\n      <td>Eugenio Derbez, Consuelo Duval, Luis Manuel Áv...</td>\n      <td>United States</td>\n      <td>NaN</td>\n      <td>2012</td>\n      <td>TV-14</td>\n      <td>3</td>\n      <td>International TV Shows, Spanish-Language TV Sh...</td>\n      <td>This irreverent sitcom featues Ludovico, Feder...</td>\n      <td>0</td>\n      <td>0</td>\n    </tr>\n    <tr>\n      <th>7406</th>\n      <td>s7407</td>\n      <td>TV Show</td>\n      <td>Maron</td>\n      <td>NaN</td>\n      <td>Marc Maron, Judd Hirsch, Josh Brener, Nora Zeh...</td>\n      <td>United States</td>\n      <td>NaN</td>\n      <td>2016</td>\n      <td>TV-MA</td>\n      <td>4</td>\n      <td>TV Comedies</td>\n      <td>Marc Maron stars as Marc Maron, who interviews...</td>\n      <td>0</td>\n      <td>0</td>\n    </tr>\n    <tr>\n      <th>7847</th>\n      <td>s7848</td>\n      <td>TV Show</td>\n      <td>Red vs. Blue</td>\n      <td>NaN</td>\n      <td>Burnie Burns, Jason Saldaña, Gustavo Sorola, G...</td>\n      <td>United States</td>\n      <td>NaN</td>\n      <td>2015</td>\n      <td>NR</td>\n      <td>13</td>\n      <td>TV Action &amp; Adventure, TV Comedies, TV Sci-Fi ...</td>\n      <td>This parody of first-person shooter games, mil...</td>\n      <td>0</td>\n      <td>0</td>\n    </tr>\n    <tr>\n      <th>8182</th>\n      <td>s8183</td>\n      <td>TV Show</td>\n      <td>The Adventures of Figaro Pho</td>\n      <td>NaN</td>\n      <td>Luke Jurevicius, Craig Behenna, Charlotte Haml...</td>\n      <td>Australia</td>\n      <td>NaN</td>\n      <td>2015</td>\n      <td>TV-Y7</td>\n      <td>2</td>\n      <td>Kids' TV, TV Comedies</td>\n      <td>Imagine your worst fears, then multiply them: ...</td>\n      <td>0</td>\n      <td>0</td>\n    </tr>\n  </tbody>\n</table>\n</div>"
     },
     "execution_count": 176,
     "metadata": {},
     "output_type": "execute_result"
    }
   ],
   "source": [
    "df.loc[df['month_added'] == 0]"
   ],
   "metadata": {
    "collapsed": false,
    "pycharm": {
     "name": "#%%\n"
    }
   }
  },
  {
   "cell_type": "code",
   "execution_count": 177,
   "outputs": [],
   "source": [
    "month_order = ['January',\n",
    " 'February',\n",
    " 'March',\n",
    " 'April',\n",
    " 'May',\n",
    " 'June',\n",
    " 'July',\n",
    " 'August',\n",
    " 'September',\n",
    " 'October',\n",
    " 'November',\n",
    " 'December']\n",
    "\n",
    "df['month_added'] = pd.Categorical(df['month_added'], categories=month_order, ordered=True)\n",
    "df.sort_values(by=['month_added', 'year_added'], inplace=True)"
   ],
   "metadata": {
    "collapsed": false,
    "pycharm": {
     "name": "#%%\n"
    }
   }
  },
  {
   "cell_type": "code",
   "execution_count": 178,
   "outputs": [
    {
     "data": {
      "text/plain": "     show_id     type                                     title  \\\n229     s230    Movie                              The Old Ways   \n1525   s1526    Movie               Eggnoid: Love & Time Portal   \n3637   s3638    Movie                                       Boi   \n3674   s3675  TV Show              PILI Fantasy: War of Dragons   \n4519   s4520    Movie                  The Kindergarten Teacher   \n6825   s6826  TV Show                         Gangs of Hassepur   \n2748   s2749  TV Show                        Well-Intended Love   \n5546   s5547    Movie                      Five Nights in Maine   \n8180   s8181  TV Show                             The Adjusters   \n94       s95    Movie                                 Show Dogs   \n2422   s2423  TV Show                                 Queer Eye   \n2650   s2651    Movie                              Time to Hunt   \n3791   s3792    Movie                                   Pegasus   \n3880   s3881  TV Show                           K.O. One Re-act   \n3934   s3935  TV Show            Time: The Kalief Browder Story   \n7042   s7043    Movie                            I Am Vengeance   \n5058   s5059    Movie                                Holy Camp!   \n6018   s6019    Movie                            50 First Dates   \n1440   s1441  TV Show                         Nailed It! Mexico   \n5477   s5478  TV Show  Highland: Thailand's Marijuana Awakening   \n\n                           director  \\\n229             Christopher Alender   \n1525                  Naya Anindita   \n3637               Jorge M. Fontana   \n3674                            NaN   \n4519                 Sara Colangelo   \n6825                            NaN   \n2748                            NaN   \n5546                   Maris Curran   \n8180                            NaN   \n94                     Raja Gosnell   \n2422                            NaN   \n2650                 Yoon Sung-hyun   \n3791                        Han Han   \n3880                            NaN   \n3934                            NaN   \n7042                    Ross Boyask   \n5058  Javier Ambrossi, Javier Calvo   \n6018                    Peter Segal   \n1440                            NaN   \n5477                            NaN   \n\n                                                   cast  \\\n229   Brigitte Kali Canales, Andrea Cortes, Julia Ve...   \n1525  Morgan Oey, Sheila Dara, Luna Maya, Kevin Juli...   \n3637  Bernat Quintana, Adrian Pang, Andrew Lua, Rach...   \n3674  Wang Hsi-hua, Lai Wei, Zhang Yu-quan, Chen Yu-...   \n4519  Maggie Gyllenhaal, Parker Sevak, Gael García B...   \n6825      Ragini Khanna, Mandira Bedi, Tanishaa Mukerji   \n2748  Xu Kaicheng, Simona Wang, Ian Yi, Huang Qian S...   \n5546  David Oyelowo, Dianne Wiest, Rosie Perez, Teyo...   \n8180           Rynn Lim, Chris Tong, Aric Ho, Chan Fong   \n94    Will Arnett, Ludacris, Natasha Lyonne, Stanley...   \n2422  Bobby Berk, Karamo Brown, Tan France, Antoni P...   \n2650  Lee Je-hoon, Ahn Jae-hong, Choi Woo-shik, Park...   \n3791  Shen Teng, Yin Zheng, Johnny Huang, Zhang Beny...   \n3880  Jiro Wang, Pets Tseng, Sam Lin, Sylvia Wang, W...   \n3934                                                NaN   \n7042  Stu Bennett, Anna Shaffer, Mark Griffin, Bryan...   \n5058  Macarena García, Anna Castillo, Belén Cuesta, ...   \n6018  Adam Sandler, Drew Barrymore, Rob Schneider, S...   \n1440                           Omar Chaparro, Anna Ruiz   \n5477                                    Sebastian Perry   \n\n                                            country          date_added  \\\n229                                   United States     August 25, 2021   \n1525                                      Indonesia   December 17, 2020   \n3637                                          Spain       July 26, 2019   \n3674                                                      July 12, 2019   \n4519  United States, Israel, United Kingdom, Canada    October 12, 2018   \n6825                                          India      April 15, 2017   \n2748                                          China       April 1, 2020   \n5546                                  United States       April 1, 2017   \n8180                                                 September 18, 2017   \n94                    United Kingdom, United States   September 8, 2021   \n2422                                  United States        June 5, 2020   \n2650                                    South Korea      April 23, 2020   \n3791                                          China        May 31, 2019   \n3880                                                     April 30, 2019   \n3934                                  United States       April 7, 2019   \n7042                                 United Kingdom   December 22, 2018   \n5058                                          Spain    January 29, 2018   \n6018                                  United States    December 1, 2020   \n1440                          Mexico, United States     January 5, 2021   \n5477                                       Thailand        May 19, 2017   \n\n      release_year rating  duration  \\\n229           2020  TV-MA        90   \n1525          2019  TV-14       102   \n3637          2018  TV-MA       111   \n3674          2019  TV-14         1   \n4519          2018      R        97   \n6825          2014  TV-PG         1   \n2748          2020  TV-14         2   \n5546          2015  TV-MA        83   \n8180          2010  TV-PG         2   \n94            2018     PG        90   \n2422          2020  TV-14         5   \n2650          2020  TV-MA       135   \n3791          2019  TV-MA        98   \n3880          2013  TV-14         1   \n3934          2017  TV-MA         1   \n7042          2018      R        93   \n5058          2017  TV-MA       108   \n6018          2004  PG-13        99   \n1440          2021  TV-PG         3   \n5477          2017  TV-MA         1   \n\n                                              listed_in  \\\n229                                       Horror Movies   \n1525      Dramas, International Movies, Romantic Movies   \n3637   Dramas, Independent Movies, International Movies   \n3674  International TV Shows, TV Action & Adventure,...   \n4519                         Dramas, Independent Movies   \n6825  International TV Shows, Stand-Up Comedy & Talk...   \n2748  International TV Shows, Romantic TV Shows, TV ...   \n5546                         Dramas, Independent Movies   \n8180                  International TV Shows, TV Dramas   \n94                   Children & Family Movies, Comedies   \n2422                                         Reality TV   \n2650                    International Movies, Thrillers   \n3791             Comedies, Dramas, International Movies   \n3880     International TV Shows, TV Comedies, TV Dramas   \n3934                                         Docuseries   \n7042                                 Action & Adventure   \n5058             Comedies, Dramas, Faith & Spirituality   \n6018                          Comedies, Romantic Movies   \n1440  International TV Shows, Reality TV, Spanish-La...   \n5477                 Docuseries, International TV Shows   \n\n                                            description  year_added  \\\n229   A reporter visits her birthplace in Veracruz f...        2021   \n1525  Sent from the future to look after a lonely gi...        2020   \n3637  A young chauffeur who's at a crossroads in his...        2019   \n3674  As turmoil looms in the Martial World, and the...        2019   \n4519  A devoted teacher takes interest in a young st...        2018   \n6825  Training a keen eye on hot-button political to...        2017   \n2748  To secure a bone marrow donation, an actress d...        2020   \n5546  After his wife dies in a car accident, a grief...        2017   \n8180  An insurance adjuster investigates cases of po...        2017   \n94    A rough and tough police dog must go undercove...        2021   \n2422  An all-new “Fab Five” advise men on fashion, g...        2020   \n2650  Wanting to leave their dystopian world behind ...        2020   \n3791  After a five-year suspension, a once-legendary...        2019   \n3880  As a guardian of space-time order, 28-year-old...        2019   \n3934  This series traces the tragic case of Kalief B...        2019   \n7042  After learning that an ex-military friend and ...        2018   \n5058  In this musical comedy, two rebellious teen gi...        2018   \n6018  After falling for a pretty art teacher who has...        2020   \n1440  The fun, fondant and hilarious cake fails head...        2021   \n5477  Thailand's complicated history with marijuana ...        2017   \n\n     month_added  \n229       August  \n1525    December  \n3637        July  \n3674        July  \n4519     October  \n6825       April  \n2748       April  \n5546       April  \n8180   September  \n94     September  \n2422        June  \n2650       April  \n3791         May  \n3880       April  \n3934       April  \n7042    December  \n5058     January  \n6018    December  \n1440     January  \n5477         May  ",
      "text/html": "<div>\n<style scoped>\n    .dataframe tbody tr th:only-of-type {\n        vertical-align: middle;\n    }\n\n    .dataframe tbody tr th {\n        vertical-align: top;\n    }\n\n    .dataframe thead th {\n        text-align: right;\n    }\n</style>\n<table border=\"1\" class=\"dataframe\">\n  <thead>\n    <tr style=\"text-align: right;\">\n      <th></th>\n      <th>show_id</th>\n      <th>type</th>\n      <th>title</th>\n      <th>director</th>\n      <th>cast</th>\n      <th>country</th>\n      <th>date_added</th>\n      <th>release_year</th>\n      <th>rating</th>\n      <th>duration</th>\n      <th>listed_in</th>\n      <th>description</th>\n      <th>year_added</th>\n      <th>month_added</th>\n    </tr>\n  </thead>\n  <tbody>\n    <tr>\n      <th>229</th>\n      <td>s230</td>\n      <td>Movie</td>\n      <td>The Old Ways</td>\n      <td>Christopher Alender</td>\n      <td>Brigitte Kali Canales, Andrea Cortes, Julia Ve...</td>\n      <td>United States</td>\n      <td>August 25, 2021</td>\n      <td>2020</td>\n      <td>TV-MA</td>\n      <td>90</td>\n      <td>Horror Movies</td>\n      <td>A reporter visits her birthplace in Veracruz f...</td>\n      <td>2021</td>\n      <td>August</td>\n    </tr>\n    <tr>\n      <th>1525</th>\n      <td>s1526</td>\n      <td>Movie</td>\n      <td>Eggnoid: Love &amp; Time Portal</td>\n      <td>Naya Anindita</td>\n      <td>Morgan Oey, Sheila Dara, Luna Maya, Kevin Juli...</td>\n      <td>Indonesia</td>\n      <td>December 17, 2020</td>\n      <td>2019</td>\n      <td>TV-14</td>\n      <td>102</td>\n      <td>Dramas, International Movies, Romantic Movies</td>\n      <td>Sent from the future to look after a lonely gi...</td>\n      <td>2020</td>\n      <td>December</td>\n    </tr>\n    <tr>\n      <th>3637</th>\n      <td>s3638</td>\n      <td>Movie</td>\n      <td>Boi</td>\n      <td>Jorge M. Fontana</td>\n      <td>Bernat Quintana, Adrian Pang, Andrew Lua, Rach...</td>\n      <td>Spain</td>\n      <td>July 26, 2019</td>\n      <td>2018</td>\n      <td>TV-MA</td>\n      <td>111</td>\n      <td>Dramas, Independent Movies, International Movies</td>\n      <td>A young chauffeur who's at a crossroads in his...</td>\n      <td>2019</td>\n      <td>July</td>\n    </tr>\n    <tr>\n      <th>3674</th>\n      <td>s3675</td>\n      <td>TV Show</td>\n      <td>PILI Fantasy: War of Dragons</td>\n      <td>NaN</td>\n      <td>Wang Hsi-hua, Lai Wei, Zhang Yu-quan, Chen Yu-...</td>\n      <td></td>\n      <td>July 12, 2019</td>\n      <td>2019</td>\n      <td>TV-14</td>\n      <td>1</td>\n      <td>International TV Shows, TV Action &amp; Adventure,...</td>\n      <td>As turmoil looms in the Martial World, and the...</td>\n      <td>2019</td>\n      <td>July</td>\n    </tr>\n    <tr>\n      <th>4519</th>\n      <td>s4520</td>\n      <td>Movie</td>\n      <td>The Kindergarten Teacher</td>\n      <td>Sara Colangelo</td>\n      <td>Maggie Gyllenhaal, Parker Sevak, Gael García B...</td>\n      <td>United States, Israel, United Kingdom, Canada</td>\n      <td>October 12, 2018</td>\n      <td>2018</td>\n      <td>R</td>\n      <td>97</td>\n      <td>Dramas, Independent Movies</td>\n      <td>A devoted teacher takes interest in a young st...</td>\n      <td>2018</td>\n      <td>October</td>\n    </tr>\n    <tr>\n      <th>6825</th>\n      <td>s6826</td>\n      <td>TV Show</td>\n      <td>Gangs of Hassepur</td>\n      <td>NaN</td>\n      <td>Ragini Khanna, Mandira Bedi, Tanishaa Mukerji</td>\n      <td>India</td>\n      <td>April 15, 2017</td>\n      <td>2014</td>\n      <td>TV-PG</td>\n      <td>1</td>\n      <td>International TV Shows, Stand-Up Comedy &amp; Talk...</td>\n      <td>Training a keen eye on hot-button political to...</td>\n      <td>2017</td>\n      <td>April</td>\n    </tr>\n    <tr>\n      <th>2748</th>\n      <td>s2749</td>\n      <td>TV Show</td>\n      <td>Well-Intended Love</td>\n      <td>NaN</td>\n      <td>Xu Kaicheng, Simona Wang, Ian Yi, Huang Qian S...</td>\n      <td>China</td>\n      <td>April 1, 2020</td>\n      <td>2020</td>\n      <td>TV-14</td>\n      <td>2</td>\n      <td>International TV Shows, Romantic TV Shows, TV ...</td>\n      <td>To secure a bone marrow donation, an actress d...</td>\n      <td>2020</td>\n      <td>April</td>\n    </tr>\n    <tr>\n      <th>5546</th>\n      <td>s5547</td>\n      <td>Movie</td>\n      <td>Five Nights in Maine</td>\n      <td>Maris Curran</td>\n      <td>David Oyelowo, Dianne Wiest, Rosie Perez, Teyo...</td>\n      <td>United States</td>\n      <td>April 1, 2017</td>\n      <td>2015</td>\n      <td>TV-MA</td>\n      <td>83</td>\n      <td>Dramas, Independent Movies</td>\n      <td>After his wife dies in a car accident, a grief...</td>\n      <td>2017</td>\n      <td>April</td>\n    </tr>\n    <tr>\n      <th>8180</th>\n      <td>s8181</td>\n      <td>TV Show</td>\n      <td>The Adjusters</td>\n      <td>NaN</td>\n      <td>Rynn Lim, Chris Tong, Aric Ho, Chan Fong</td>\n      <td></td>\n      <td>September 18, 2017</td>\n      <td>2010</td>\n      <td>TV-PG</td>\n      <td>2</td>\n      <td>International TV Shows, TV Dramas</td>\n      <td>An insurance adjuster investigates cases of po...</td>\n      <td>2017</td>\n      <td>September</td>\n    </tr>\n    <tr>\n      <th>94</th>\n      <td>s95</td>\n      <td>Movie</td>\n      <td>Show Dogs</td>\n      <td>Raja Gosnell</td>\n      <td>Will Arnett, Ludacris, Natasha Lyonne, Stanley...</td>\n      <td>United Kingdom, United States</td>\n      <td>September 8, 2021</td>\n      <td>2018</td>\n      <td>PG</td>\n      <td>90</td>\n      <td>Children &amp; Family Movies, Comedies</td>\n      <td>A rough and tough police dog must go undercove...</td>\n      <td>2021</td>\n      <td>September</td>\n    </tr>\n    <tr>\n      <th>2422</th>\n      <td>s2423</td>\n      <td>TV Show</td>\n      <td>Queer Eye</td>\n      <td>NaN</td>\n      <td>Bobby Berk, Karamo Brown, Tan France, Antoni P...</td>\n      <td>United States</td>\n      <td>June 5, 2020</td>\n      <td>2020</td>\n      <td>TV-14</td>\n      <td>5</td>\n      <td>Reality TV</td>\n      <td>An all-new “Fab Five” advise men on fashion, g...</td>\n      <td>2020</td>\n      <td>June</td>\n    </tr>\n    <tr>\n      <th>2650</th>\n      <td>s2651</td>\n      <td>Movie</td>\n      <td>Time to Hunt</td>\n      <td>Yoon Sung-hyun</td>\n      <td>Lee Je-hoon, Ahn Jae-hong, Choi Woo-shik, Park...</td>\n      <td>South Korea</td>\n      <td>April 23, 2020</td>\n      <td>2020</td>\n      <td>TV-MA</td>\n      <td>135</td>\n      <td>International Movies, Thrillers</td>\n      <td>Wanting to leave their dystopian world behind ...</td>\n      <td>2020</td>\n      <td>April</td>\n    </tr>\n    <tr>\n      <th>3791</th>\n      <td>s3792</td>\n      <td>Movie</td>\n      <td>Pegasus</td>\n      <td>Han Han</td>\n      <td>Shen Teng, Yin Zheng, Johnny Huang, Zhang Beny...</td>\n      <td>China</td>\n      <td>May 31, 2019</td>\n      <td>2019</td>\n      <td>TV-MA</td>\n      <td>98</td>\n      <td>Comedies, Dramas, International Movies</td>\n      <td>After a five-year suspension, a once-legendary...</td>\n      <td>2019</td>\n      <td>May</td>\n    </tr>\n    <tr>\n      <th>3880</th>\n      <td>s3881</td>\n      <td>TV Show</td>\n      <td>K.O. One Re-act</td>\n      <td>NaN</td>\n      <td>Jiro Wang, Pets Tseng, Sam Lin, Sylvia Wang, W...</td>\n      <td></td>\n      <td>April 30, 2019</td>\n      <td>2013</td>\n      <td>TV-14</td>\n      <td>1</td>\n      <td>International TV Shows, TV Comedies, TV Dramas</td>\n      <td>As a guardian of space-time order, 28-year-old...</td>\n      <td>2019</td>\n      <td>April</td>\n    </tr>\n    <tr>\n      <th>3934</th>\n      <td>s3935</td>\n      <td>TV Show</td>\n      <td>Time: The Kalief Browder Story</td>\n      <td>NaN</td>\n      <td>NaN</td>\n      <td>United States</td>\n      <td>April 7, 2019</td>\n      <td>2017</td>\n      <td>TV-MA</td>\n      <td>1</td>\n      <td>Docuseries</td>\n      <td>This series traces the tragic case of Kalief B...</td>\n      <td>2019</td>\n      <td>April</td>\n    </tr>\n    <tr>\n      <th>7042</th>\n      <td>s7043</td>\n      <td>Movie</td>\n      <td>I Am Vengeance</td>\n      <td>Ross Boyask</td>\n      <td>Stu Bennett, Anna Shaffer, Mark Griffin, Bryan...</td>\n      <td>United Kingdom</td>\n      <td>December 22, 2018</td>\n      <td>2018</td>\n      <td>R</td>\n      <td>93</td>\n      <td>Action &amp; Adventure</td>\n      <td>After learning that an ex-military friend and ...</td>\n      <td>2018</td>\n      <td>December</td>\n    </tr>\n    <tr>\n      <th>5058</th>\n      <td>s5059</td>\n      <td>Movie</td>\n      <td>Holy Camp!</td>\n      <td>Javier Ambrossi, Javier Calvo</td>\n      <td>Macarena García, Anna Castillo, Belén Cuesta, ...</td>\n      <td>Spain</td>\n      <td>January 29, 2018</td>\n      <td>2017</td>\n      <td>TV-MA</td>\n      <td>108</td>\n      <td>Comedies, Dramas, Faith &amp; Spirituality</td>\n      <td>In this musical comedy, two rebellious teen gi...</td>\n      <td>2018</td>\n      <td>January</td>\n    </tr>\n    <tr>\n      <th>6018</th>\n      <td>s6019</td>\n      <td>Movie</td>\n      <td>50 First Dates</td>\n      <td>Peter Segal</td>\n      <td>Adam Sandler, Drew Barrymore, Rob Schneider, S...</td>\n      <td>United States</td>\n      <td>December 1, 2020</td>\n      <td>2004</td>\n      <td>PG-13</td>\n      <td>99</td>\n      <td>Comedies, Romantic Movies</td>\n      <td>After falling for a pretty art teacher who has...</td>\n      <td>2020</td>\n      <td>December</td>\n    </tr>\n    <tr>\n      <th>1440</th>\n      <td>s1441</td>\n      <td>TV Show</td>\n      <td>Nailed It! Mexico</td>\n      <td>NaN</td>\n      <td>Omar Chaparro, Anna Ruiz</td>\n      <td>Mexico, United States</td>\n      <td>January 5, 2021</td>\n      <td>2021</td>\n      <td>TV-PG</td>\n      <td>3</td>\n      <td>International TV Shows, Reality TV, Spanish-La...</td>\n      <td>The fun, fondant and hilarious cake fails head...</td>\n      <td>2021</td>\n      <td>January</td>\n    </tr>\n    <tr>\n      <th>5477</th>\n      <td>s5478</td>\n      <td>TV Show</td>\n      <td>Highland: Thailand's Marijuana Awakening</td>\n      <td>NaN</td>\n      <td>Sebastian Perry</td>\n      <td>Thailand</td>\n      <td>May 19, 2017</td>\n      <td>2017</td>\n      <td>TV-MA</td>\n      <td>1</td>\n      <td>Docuseries, International TV Shows</td>\n      <td>Thailand's complicated history with marijuana ...</td>\n      <td>2017</td>\n      <td>May</td>\n    </tr>\n  </tbody>\n</table>\n</div>"
     },
     "execution_count": 178,
     "metadata": {},
     "output_type": "execute_result"
    }
   ],
   "source": [
    "df.sample(20)"
   ],
   "metadata": {
    "collapsed": false,
    "pycharm": {
     "name": "#%%\n"
    }
   }
  },
  {
   "cell_type": "code",
   "execution_count": 180,
   "outputs": [],
   "source": [
    "df_countries.to_csv(r'..\\data\\netflix-countries.csv', sep=',', index=False)\n",
    "df.to_csv(r'..\\data\\netflix.csv', sep=',', index=False)\n",
    "df_genres_movies.to_csv(r'..\\data\\netflix-genres-m.csv', sep=',', index=False)\n",
    "df_genres_series.to_csv(r'..\\data\\netflix-genres-s.csv', sep=',', index=False)"
   ],
   "metadata": {
    "collapsed": false,
    "pycharm": {
     "name": "#%%\n"
    }
   }
  },
  {
   "cell_type": "code",
   "execution_count": 180,
   "outputs": [],
   "source": [],
   "metadata": {
    "collapsed": false,
    "pycharm": {
     "name": "#%%\n"
    }
   }
  }
 ],
 "metadata": {
  "kernelspec": {
   "display_name": "Python 3",
   "language": "python",
   "name": "python3"
  },
  "language_info": {
   "codemirror_mode": {
    "name": "ipython",
    "version": 2
   },
   "file_extension": ".py",
   "mimetype": "text/x-python",
   "name": "python",
   "nbconvert_exporter": "python",
   "pygments_lexer": "ipython2",
   "version": "2.7.6"
  }
 },
 "nbformat": 4,
 "nbformat_minor": 0
}