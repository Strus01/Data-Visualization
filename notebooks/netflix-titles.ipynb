{
 "cells": [
  {
   "cell_type": "code",
   "execution_count": 23,
   "metadata": {
    "collapsed": true
   },
   "outputs": [],
   "source": [
    "import pandas as pd\n",
    "import numpy as np"
   ]
  },
  {
   "cell_type": "code",
   "execution_count": 24,
   "outputs": [],
   "source": [
    "df = pd.read_csv(r'..\\data\\netflix_titles.csv')"
   ],
   "metadata": {
    "collapsed": false,
    "pycharm": {
     "name": "#%%\n"
    }
   }
  },
  {
   "cell_type": "code",
   "execution_count": 25,
   "outputs": [
    {
     "name": "stdout",
     "output_type": "stream",
     "text": [
      "<class 'pandas.core.frame.DataFrame'>\n",
      "RangeIndex: 8807 entries, 0 to 8806\n",
      "Data columns (total 12 columns):\n",
      " #   Column        Non-Null Count  Dtype \n",
      "---  ------        --------------  ----- \n",
      " 0   show_id       8807 non-null   object\n",
      " 1   type          8807 non-null   object\n",
      " 2   title         8807 non-null   object\n",
      " 3   director      6173 non-null   object\n",
      " 4   cast          7982 non-null   object\n",
      " 5   country       7976 non-null   object\n",
      " 6   date_added    8797 non-null   object\n",
      " 7   release_year  8807 non-null   int64 \n",
      " 8   rating        8803 non-null   object\n",
      " 9   duration      8804 non-null   object\n",
      " 10  listed_in     8807 non-null   object\n",
      " 11  description   8807 non-null   object\n",
      "dtypes: int64(1), object(11)\n",
      "memory usage: 825.8+ KB\n"
     ]
    }
   ],
   "source": [
    "df.info()"
   ],
   "metadata": {
    "collapsed": false,
    "pycharm": {
     "name": "#%%\n"
    }
   }
  },
  {
   "cell_type": "code",
   "execution_count": 26,
   "outputs": [
    {
     "data": {
      "text/plain": "show_id            0\ntype               0\ntitle              0\ndirector        2634\ncast             825\ncountry          831\ndate_added        10\nrelease_year       0\nrating             4\nduration           3\nlisted_in          0\ndescription        0\ndtype: int64"
     },
     "execution_count": 26,
     "metadata": {},
     "output_type": "execute_result"
    }
   ],
   "source": [
    "df.isnull().sum()"
   ],
   "metadata": {
    "collapsed": false,
    "pycharm": {
     "name": "#%%\n"
    }
   }
  },
  {
   "cell_type": "code",
   "execution_count": 27,
   "outputs": [
    {
     "data": {
      "text/plain": "show_id         object\ntype            object\ntitle           object\ndirector        object\ncast            object\ncountry         object\ndate_added      object\nrelease_year     int64\nrating          object\nduration        object\nlisted_in       object\ndescription     object\ndtype: object"
     },
     "execution_count": 27,
     "metadata": {},
     "output_type": "execute_result"
    }
   ],
   "source": [
    "df.dtypes"
   ],
   "metadata": {
    "collapsed": false,
    "pycharm": {
     "name": "#%%\n"
    }
   }
  },
  {
   "cell_type": "code",
   "execution_count": 28,
   "outputs": [
    {
     "data": {
      "text/plain": "     show_id     type                                  title  \\\n1399   s1400    Movie                           Radium Girls   \n1707   s1708    Movie                    A Very Special Love   \n2092   s2093    Movie                      The Young Messiah   \n7615   s7616    Movie    NOVA: Secrets of the Shining Knight   \n3433   s3434  TV Show                       The Hook Up Plan   \n6103   s6104    Movie                          Ahista Ahista   \n2893   s2894  TV Show                  Passion. Panache. Pep   \n8073   s8074    Movie                               Sprinter   \n6138   s6139    Movie        American Experience: Ruby Ridge   \n1764   s1765    Movie                                Snowden   \n1953   s1954    Movie                      My Mother's Wound   \n3730   s3731    Movie                        The Wolf's Call   \n4817   s4818    Movie                       To Each, Her Own   \n5376   s5377    Movie                          Chasing Coral   \n997     s998  TV Show  Life in Color with David Attenborough   \n7526   s7527    Movie                    Muppets Most Wanted   \n6126   s6127  TV Show                            Alphablocks   \n2487   s2488    Movie                         No Longer kids   \n1294   s1295  TV Show                       Tribes of Europa   \n185     s186    Movie              Untold: Crime & Penalties   \n2481   s2482    Movie                      #FriendButMarried   \n2110   s2111    Movie                              Scarecrow   \n1099   s1100    Movie                  The Fisherman's Diary   \n3785   s3786    Movie                            Oh, Ramona!   \n7718   s7719  TV Show                             Pawn Stars   \n\n                              director  \\\n1399  Lydia Dean Pilcher, Ginny Mohler   \n1707               Cathy Garcia-Molina   \n2092                   Cyrus Nowrasteh   \n7615                        Peter Yost   \n3433                               NaN   \n6103                       Shivam Nair   \n2893                               NaN   \n8073                     Storm Saulter   \n6138                     Barak Goodman   \n1764                      Oliver Stone   \n1953                      Ozan Açıktan   \n3730                    Antonin Baudry   \n4817                      Myriam Aziza   \n5376                     Jeff Orlowski   \n997                                NaN   \n7526                       James Bobin   \n6126                               NaN   \n2487                   Samir Al Asfory   \n1294                               NaN   \n185           Chapman Way, Maclain Way   \n2481                     Rako Prijanto   \n2110                      Khaled Marei   \n1099                    Enah Johnscott   \n3785                    Cristina Jacob   \n7718                               NaN   \n\n                                                   cast  \\\n1399  Joey King, Abby Quinn, Cara Seymour, Scott She...   \n1707  John Lloyd Cruz, Sarah Geronimo, Dante Rivero,...   \n2092  Adam Greaves-Neal, Sara Lazzaro, Vincent Walsh...   \n7615                                     Jay O. Sanders   \n3433  Marc Ruchmann, Zita Hanrot, Sabrina Ouazani, J...   \n6103  Abhay Deol, Soha Ali Khan, Shayan Munshi, Kami...   \n2893                                                NaN   \n8073  Dale Elliott, Kadeem Wilson, Dennis Titus, Dav...   \n6138                   Dave Hunt, Bo Gritz, Sara Weaver   \n1764  Joseph Gordon-Levitt, Shailene Woodley, Zachar...   \n1953  Ozan Güven, Meryem Uzerli, Belçim Bilgin, Okan...   \n3730  François Civil, Omar Sy, Mathieu Kassovitz, Re...   \n4817  Sarah Stern, Jean-Christophe Folly, Julia Piat...   \n5376                                                NaN   \n997                                  David Attenborough   \n7526  Ricky Gervais, Ty Burrell, Tina Fey, Kermit th...   \n6126    Teresa Gallagher, David Holt, Lizzie Waterworth   \n2487  Said Saleh, Hassan Moustafa, Ahmed Zaki, Youne...   \n1294  Henriette Confurius, Emilio Sakraya, David Ali...   \n185                                                 NaN   \n2481  Adipati Dolken, Vanesha Prescilla, Rendi Jhon,...   \n2110  Ahmed Helmy, Menna Shalaby, Khaled El Sawy, Ba...   \n1099  Kang Quintus, Faith Fidel, Casson Chinepoh, Ra...   \n3785  Bogdan Iancu, Aggy K. Adams, Holly Horne, Basi...   \n7718  Corey Harrison, Richard Harrison, Rick Harriso...   \n\n                                             country          date_added  \\\n1399                                   United States    January 16, 2021   \n1707                                     Philippines   November 12, 2020   \n2092                                   United States     August 27, 2020   \n7615                                   United States        July 1, 2019   \n3433                                          France    October 11, 2019   \n6103                                           India   December 31, 2019   \n2893                                             NaN   February 21, 2020   \n8073                          Jamaica, United States      April 15, 2020   \n6138                                   United States      April 19, 2017   \n1764  United Kingdom, France, Germany, United States    November 1, 2020   \n1953                                             NaN  September 25, 2020   \n3730                                          France       June 20, 2019   \n4817                                          France       June 24, 2018   \n5376                                   United States       July 14, 2017   \n997                        Australia, United Kingdom      April 22, 2021   \n7526                                   United States   September 1, 2020   \n6126                                  United Kingdom        May 25, 2020   \n2487                                           Egypt        May 21, 2020   \n1294                                         Germany   February 19, 2021   \n185                                              NaN     August 31, 2021   \n2481                                       Indonesia        May 21, 2020   \n2110                                           Egypt     August 20, 2020   \n1099                                        Cameroon       April 4, 2021   \n3785                                         Romania        June 1, 2019   \n7718                                   United States  September 15, 2019   \n\n      release_year rating   duration  \\\n1399          2018  TV-14    103 min   \n1707          2008   TV-G    107 min   \n2092          2016  PG-13    111 min   \n7615          2017  TV-PG     53 min   \n3433          2020  TV-MA  2 Seasons   \n6103          2006  TV-14    122 min   \n2893          2020   TV-G   1 Season   \n8073          2018  TV-MA    112 min   \n6138          2017  TV-MA     53 min   \n1764          2016      R    134 min   \n1953          2016  TV-MA    115 min   \n3730          2019  TV-14    116 min   \n4817          2018  TV-MA     95 min   \n5376          2017  TV-PG     89 min   \n997           2021  TV-PG   1 Season   \n7526          2014     PG    110 min   \n6126          2014   TV-Y  5 Seasons   \n2487          1979  TV-14    237 min   \n1294          2021  TV-MA   1 Season   \n185           2021  TV-MA     86 min   \n2481          2018   TV-G    102 min   \n2110          2019  TV-MA    121 min   \n1099          2020  TV-MA    143 min   \n3785          2019  TV-MA    109 min   \n7718          2010  TV-14   1 Season   \n\n                                              listed_in  \\\n1399                         Dramas, Independent Movies   \n1707              International Movies, Romantic Movies   \n2092                       Dramas, Faith & Spirituality   \n7615                                      Documentaries   \n3433  International TV Shows, Romantic TV Shows, TV ...   \n6103      Dramas, International Movies, Romantic Movies   \n2893                 International TV Shows, Reality TV   \n8073        Dramas, International Movies, Sports Movies   \n6138                                      Documentaries   \n1764                                  Dramas, Thrillers   \n1953                       Dramas, International Movies   \n3730            Dramas, International Movies, Thrillers   \n4817       Comedies, International Movies, LGBTQ Movies   \n5376                                      Documentaries   \n997   British TV Shows, Docuseries, International TV...   \n7526                 Children & Family Movies, Comedies   \n6126                                           Kids' TV   \n2487             Comedies, Dramas, International Movies   \n1294  International TV Shows, TV Action & Adventure,...   \n185                        Documentaries, Sports Movies   \n2481      Dramas, International Movies, Romantic Movies   \n2110                     Comedies, International Movies   \n1099                       Dramas, International Movies   \n3785                     Comedies, International Movies   \n7718                                         Reality TV   \n\n                                            description  \n1399  When the women at a radium factory begin to fa...  \n1707  After landing a job working for her longtime c...  \n2092  Tormented by a demon and on the run from a Rom...  \n7615  A master armorer and his team recreate parts o...  \n3433  When Parisian Elsa gets hung up on her ex, her...  \n6103  Stood up by her groom at the altar, a young wo...  \n2893  From delicious delicacies to dream destination...  \n8073  When a Jamaican teen hopes to use track to reu...  \n6138  A botched attempt to arrest a white supremacis...  \n1764  This thriller traces Edward Snowden's journey ...  \n1953  After leaving the orphanage where he was raise...  \n3730  With nuclear war looming, a military expert in...  \n4817  Just as Simone works up the courage to tell he...  \n5376  Divers, scientists and photographers around th...  \n997   Using innovative technology, this docuseries e...  \n7526  In the middle of their global tour, the Muppet...  \n6126  The letters of the alphabet come to life in Al...  \n2487  Hoping to prevent their father from skipping t...  \n1294  In post-apocalyptic Europe, amid wars among mi...  \n185   They were the bad boys of hockey — a team boug...  \n2481  Pining for his high school crush for years, a ...  \n2110  When his former partners vote to sell off a pr...  \n1099  Inspired by Nobel Peace Prize winner Malala Yo...  \n3785  Awkward 16-year-old Andrei is infatuated with ...  \n7718  Father Richard Harrison, son Rick and grandson...  ",
      "text/html": "<div>\n<style scoped>\n    .dataframe tbody tr th:only-of-type {\n        vertical-align: middle;\n    }\n\n    .dataframe tbody tr th {\n        vertical-align: top;\n    }\n\n    .dataframe thead th {\n        text-align: right;\n    }\n</style>\n<table border=\"1\" class=\"dataframe\">\n  <thead>\n    <tr style=\"text-align: right;\">\n      <th></th>\n      <th>show_id</th>\n      <th>type</th>\n      <th>title</th>\n      <th>director</th>\n      <th>cast</th>\n      <th>country</th>\n      <th>date_added</th>\n      <th>release_year</th>\n      <th>rating</th>\n      <th>duration</th>\n      <th>listed_in</th>\n      <th>description</th>\n    </tr>\n  </thead>\n  <tbody>\n    <tr>\n      <th>1399</th>\n      <td>s1400</td>\n      <td>Movie</td>\n      <td>Radium Girls</td>\n      <td>Lydia Dean Pilcher, Ginny Mohler</td>\n      <td>Joey King, Abby Quinn, Cara Seymour, Scott She...</td>\n      <td>United States</td>\n      <td>January 16, 2021</td>\n      <td>2018</td>\n      <td>TV-14</td>\n      <td>103 min</td>\n      <td>Dramas, Independent Movies</td>\n      <td>When the women at a radium factory begin to fa...</td>\n    </tr>\n    <tr>\n      <th>1707</th>\n      <td>s1708</td>\n      <td>Movie</td>\n      <td>A Very Special Love</td>\n      <td>Cathy Garcia-Molina</td>\n      <td>John Lloyd Cruz, Sarah Geronimo, Dante Rivero,...</td>\n      <td>Philippines</td>\n      <td>November 12, 2020</td>\n      <td>2008</td>\n      <td>TV-G</td>\n      <td>107 min</td>\n      <td>International Movies, Romantic Movies</td>\n      <td>After landing a job working for her longtime c...</td>\n    </tr>\n    <tr>\n      <th>2092</th>\n      <td>s2093</td>\n      <td>Movie</td>\n      <td>The Young Messiah</td>\n      <td>Cyrus Nowrasteh</td>\n      <td>Adam Greaves-Neal, Sara Lazzaro, Vincent Walsh...</td>\n      <td>United States</td>\n      <td>August 27, 2020</td>\n      <td>2016</td>\n      <td>PG-13</td>\n      <td>111 min</td>\n      <td>Dramas, Faith &amp; Spirituality</td>\n      <td>Tormented by a demon and on the run from a Rom...</td>\n    </tr>\n    <tr>\n      <th>7615</th>\n      <td>s7616</td>\n      <td>Movie</td>\n      <td>NOVA: Secrets of the Shining Knight</td>\n      <td>Peter Yost</td>\n      <td>Jay O. Sanders</td>\n      <td>United States</td>\n      <td>July 1, 2019</td>\n      <td>2017</td>\n      <td>TV-PG</td>\n      <td>53 min</td>\n      <td>Documentaries</td>\n      <td>A master armorer and his team recreate parts o...</td>\n    </tr>\n    <tr>\n      <th>3433</th>\n      <td>s3434</td>\n      <td>TV Show</td>\n      <td>The Hook Up Plan</td>\n      <td>NaN</td>\n      <td>Marc Ruchmann, Zita Hanrot, Sabrina Ouazani, J...</td>\n      <td>France</td>\n      <td>October 11, 2019</td>\n      <td>2020</td>\n      <td>TV-MA</td>\n      <td>2 Seasons</td>\n      <td>International TV Shows, Romantic TV Shows, TV ...</td>\n      <td>When Parisian Elsa gets hung up on her ex, her...</td>\n    </tr>\n    <tr>\n      <th>6103</th>\n      <td>s6104</td>\n      <td>Movie</td>\n      <td>Ahista Ahista</td>\n      <td>Shivam Nair</td>\n      <td>Abhay Deol, Soha Ali Khan, Shayan Munshi, Kami...</td>\n      <td>India</td>\n      <td>December 31, 2019</td>\n      <td>2006</td>\n      <td>TV-14</td>\n      <td>122 min</td>\n      <td>Dramas, International Movies, Romantic Movies</td>\n      <td>Stood up by her groom at the altar, a young wo...</td>\n    </tr>\n    <tr>\n      <th>2893</th>\n      <td>s2894</td>\n      <td>TV Show</td>\n      <td>Passion. Panache. Pep</td>\n      <td>NaN</td>\n      <td>NaN</td>\n      <td>NaN</td>\n      <td>February 21, 2020</td>\n      <td>2020</td>\n      <td>TV-G</td>\n      <td>1 Season</td>\n      <td>International TV Shows, Reality TV</td>\n      <td>From delicious delicacies to dream destination...</td>\n    </tr>\n    <tr>\n      <th>8073</th>\n      <td>s8074</td>\n      <td>Movie</td>\n      <td>Sprinter</td>\n      <td>Storm Saulter</td>\n      <td>Dale Elliott, Kadeem Wilson, Dennis Titus, Dav...</td>\n      <td>Jamaica, United States</td>\n      <td>April 15, 2020</td>\n      <td>2018</td>\n      <td>TV-MA</td>\n      <td>112 min</td>\n      <td>Dramas, International Movies, Sports Movies</td>\n      <td>When a Jamaican teen hopes to use track to reu...</td>\n    </tr>\n    <tr>\n      <th>6138</th>\n      <td>s6139</td>\n      <td>Movie</td>\n      <td>American Experience: Ruby Ridge</td>\n      <td>Barak Goodman</td>\n      <td>Dave Hunt, Bo Gritz, Sara Weaver</td>\n      <td>United States</td>\n      <td>April 19, 2017</td>\n      <td>2017</td>\n      <td>TV-MA</td>\n      <td>53 min</td>\n      <td>Documentaries</td>\n      <td>A botched attempt to arrest a white supremacis...</td>\n    </tr>\n    <tr>\n      <th>1764</th>\n      <td>s1765</td>\n      <td>Movie</td>\n      <td>Snowden</td>\n      <td>Oliver Stone</td>\n      <td>Joseph Gordon-Levitt, Shailene Woodley, Zachar...</td>\n      <td>United Kingdom, France, Germany, United States</td>\n      <td>November 1, 2020</td>\n      <td>2016</td>\n      <td>R</td>\n      <td>134 min</td>\n      <td>Dramas, Thrillers</td>\n      <td>This thriller traces Edward Snowden's journey ...</td>\n    </tr>\n    <tr>\n      <th>1953</th>\n      <td>s1954</td>\n      <td>Movie</td>\n      <td>My Mother's Wound</td>\n      <td>Ozan Açıktan</td>\n      <td>Ozan Güven, Meryem Uzerli, Belçim Bilgin, Okan...</td>\n      <td>NaN</td>\n      <td>September 25, 2020</td>\n      <td>2016</td>\n      <td>TV-MA</td>\n      <td>115 min</td>\n      <td>Dramas, International Movies</td>\n      <td>After leaving the orphanage where he was raise...</td>\n    </tr>\n    <tr>\n      <th>3730</th>\n      <td>s3731</td>\n      <td>Movie</td>\n      <td>The Wolf's Call</td>\n      <td>Antonin Baudry</td>\n      <td>François Civil, Omar Sy, Mathieu Kassovitz, Re...</td>\n      <td>France</td>\n      <td>June 20, 2019</td>\n      <td>2019</td>\n      <td>TV-14</td>\n      <td>116 min</td>\n      <td>Dramas, International Movies, Thrillers</td>\n      <td>With nuclear war looming, a military expert in...</td>\n    </tr>\n    <tr>\n      <th>4817</th>\n      <td>s4818</td>\n      <td>Movie</td>\n      <td>To Each, Her Own</td>\n      <td>Myriam Aziza</td>\n      <td>Sarah Stern, Jean-Christophe Folly, Julia Piat...</td>\n      <td>France</td>\n      <td>June 24, 2018</td>\n      <td>2018</td>\n      <td>TV-MA</td>\n      <td>95 min</td>\n      <td>Comedies, International Movies, LGBTQ Movies</td>\n      <td>Just as Simone works up the courage to tell he...</td>\n    </tr>\n    <tr>\n      <th>5376</th>\n      <td>s5377</td>\n      <td>Movie</td>\n      <td>Chasing Coral</td>\n      <td>Jeff Orlowski</td>\n      <td>NaN</td>\n      <td>United States</td>\n      <td>July 14, 2017</td>\n      <td>2017</td>\n      <td>TV-PG</td>\n      <td>89 min</td>\n      <td>Documentaries</td>\n      <td>Divers, scientists and photographers around th...</td>\n    </tr>\n    <tr>\n      <th>997</th>\n      <td>s998</td>\n      <td>TV Show</td>\n      <td>Life in Color with David Attenborough</td>\n      <td>NaN</td>\n      <td>David Attenborough</td>\n      <td>Australia, United Kingdom</td>\n      <td>April 22, 2021</td>\n      <td>2021</td>\n      <td>TV-PG</td>\n      <td>1 Season</td>\n      <td>British TV Shows, Docuseries, International TV...</td>\n      <td>Using innovative technology, this docuseries e...</td>\n    </tr>\n    <tr>\n      <th>7526</th>\n      <td>s7527</td>\n      <td>Movie</td>\n      <td>Muppets Most Wanted</td>\n      <td>James Bobin</td>\n      <td>Ricky Gervais, Ty Burrell, Tina Fey, Kermit th...</td>\n      <td>United States</td>\n      <td>September 1, 2020</td>\n      <td>2014</td>\n      <td>PG</td>\n      <td>110 min</td>\n      <td>Children &amp; Family Movies, Comedies</td>\n      <td>In the middle of their global tour, the Muppet...</td>\n    </tr>\n    <tr>\n      <th>6126</th>\n      <td>s6127</td>\n      <td>TV Show</td>\n      <td>Alphablocks</td>\n      <td>NaN</td>\n      <td>Teresa Gallagher, David Holt, Lizzie Waterworth</td>\n      <td>United Kingdom</td>\n      <td>May 25, 2020</td>\n      <td>2014</td>\n      <td>TV-Y</td>\n      <td>5 Seasons</td>\n      <td>Kids' TV</td>\n      <td>The letters of the alphabet come to life in Al...</td>\n    </tr>\n    <tr>\n      <th>2487</th>\n      <td>s2488</td>\n      <td>Movie</td>\n      <td>No Longer kids</td>\n      <td>Samir Al Asfory</td>\n      <td>Said Saleh, Hassan Moustafa, Ahmed Zaki, Youne...</td>\n      <td>Egypt</td>\n      <td>May 21, 2020</td>\n      <td>1979</td>\n      <td>TV-14</td>\n      <td>237 min</td>\n      <td>Comedies, Dramas, International Movies</td>\n      <td>Hoping to prevent their father from skipping t...</td>\n    </tr>\n    <tr>\n      <th>1294</th>\n      <td>s1295</td>\n      <td>TV Show</td>\n      <td>Tribes of Europa</td>\n      <td>NaN</td>\n      <td>Henriette Confurius, Emilio Sakraya, David Ali...</td>\n      <td>Germany</td>\n      <td>February 19, 2021</td>\n      <td>2021</td>\n      <td>TV-MA</td>\n      <td>1 Season</td>\n      <td>International TV Shows, TV Action &amp; Adventure,...</td>\n      <td>In post-apocalyptic Europe, amid wars among mi...</td>\n    </tr>\n    <tr>\n      <th>185</th>\n      <td>s186</td>\n      <td>Movie</td>\n      <td>Untold: Crime &amp; Penalties</td>\n      <td>Chapman Way, Maclain Way</td>\n      <td>NaN</td>\n      <td>NaN</td>\n      <td>August 31, 2021</td>\n      <td>2021</td>\n      <td>TV-MA</td>\n      <td>86 min</td>\n      <td>Documentaries, Sports Movies</td>\n      <td>They were the bad boys of hockey — a team boug...</td>\n    </tr>\n    <tr>\n      <th>2481</th>\n      <td>s2482</td>\n      <td>Movie</td>\n      <td>#FriendButMarried</td>\n      <td>Rako Prijanto</td>\n      <td>Adipati Dolken, Vanesha Prescilla, Rendi Jhon,...</td>\n      <td>Indonesia</td>\n      <td>May 21, 2020</td>\n      <td>2018</td>\n      <td>TV-G</td>\n      <td>102 min</td>\n      <td>Dramas, International Movies, Romantic Movies</td>\n      <td>Pining for his high school crush for years, a ...</td>\n    </tr>\n    <tr>\n      <th>2110</th>\n      <td>s2111</td>\n      <td>Movie</td>\n      <td>Scarecrow</td>\n      <td>Khaled Marei</td>\n      <td>Ahmed Helmy, Menna Shalaby, Khaled El Sawy, Ba...</td>\n      <td>Egypt</td>\n      <td>August 20, 2020</td>\n      <td>2019</td>\n      <td>TV-MA</td>\n      <td>121 min</td>\n      <td>Comedies, International Movies</td>\n      <td>When his former partners vote to sell off a pr...</td>\n    </tr>\n    <tr>\n      <th>1099</th>\n      <td>s1100</td>\n      <td>Movie</td>\n      <td>The Fisherman's Diary</td>\n      <td>Enah Johnscott</td>\n      <td>Kang Quintus, Faith Fidel, Casson Chinepoh, Ra...</td>\n      <td>Cameroon</td>\n      <td>April 4, 2021</td>\n      <td>2020</td>\n      <td>TV-MA</td>\n      <td>143 min</td>\n      <td>Dramas, International Movies</td>\n      <td>Inspired by Nobel Peace Prize winner Malala Yo...</td>\n    </tr>\n    <tr>\n      <th>3785</th>\n      <td>s3786</td>\n      <td>Movie</td>\n      <td>Oh, Ramona!</td>\n      <td>Cristina Jacob</td>\n      <td>Bogdan Iancu, Aggy K. Adams, Holly Horne, Basi...</td>\n      <td>Romania</td>\n      <td>June 1, 2019</td>\n      <td>2019</td>\n      <td>TV-MA</td>\n      <td>109 min</td>\n      <td>Comedies, International Movies</td>\n      <td>Awkward 16-year-old Andrei is infatuated with ...</td>\n    </tr>\n    <tr>\n      <th>7718</th>\n      <td>s7719</td>\n      <td>TV Show</td>\n      <td>Pawn Stars</td>\n      <td>NaN</td>\n      <td>Corey Harrison, Richard Harrison, Rick Harriso...</td>\n      <td>United States</td>\n      <td>September 15, 2019</td>\n      <td>2010</td>\n      <td>TV-14</td>\n      <td>1 Season</td>\n      <td>Reality TV</td>\n      <td>Father Richard Harrison, son Rick and grandson...</td>\n    </tr>\n  </tbody>\n</table>\n</div>"
     },
     "execution_count": 28,
     "metadata": {},
     "output_type": "execute_result"
    }
   ],
   "source": [
    "df.sample(25)"
   ],
   "metadata": {
    "collapsed": false,
    "pycharm": {
     "name": "#%%\n"
    }
   }
  },
  {
   "cell_type": "code",
   "execution_count": 29,
   "outputs": [],
   "source": [
    "df['country'].replace(np.NaN, '', inplace=True)"
   ],
   "metadata": {
    "collapsed": false,
    "pycharm": {
     "name": "#%%\n"
    }
   }
  },
  {
   "cell_type": "code",
   "execution_count": 30,
   "outputs": [
    {
     "data": {
      "text/plain": "       Countries  Count\n0  United States   3690\n1   South Africa     62\n2          India   1046\n3          Ghana      5\n4   Burkina Faso      1",
      "text/html": "<div>\n<style scoped>\n    .dataframe tbody tr th:only-of-type {\n        vertical-align: middle;\n    }\n\n    .dataframe tbody tr th {\n        vertical-align: top;\n    }\n\n    .dataframe thead th {\n        text-align: right;\n    }\n</style>\n<table border=\"1\" class=\"dataframe\">\n  <thead>\n    <tr style=\"text-align: right;\">\n      <th></th>\n      <th>Countries</th>\n      <th>Count</th>\n    </tr>\n  </thead>\n  <tbody>\n    <tr>\n      <th>0</th>\n      <td>United States</td>\n      <td>3690</td>\n    </tr>\n    <tr>\n      <th>1</th>\n      <td>South Africa</td>\n      <td>62</td>\n    </tr>\n    <tr>\n      <th>2</th>\n      <td>India</td>\n      <td>1046</td>\n    </tr>\n    <tr>\n      <th>3</th>\n      <td>Ghana</td>\n      <td>5</td>\n    </tr>\n    <tr>\n      <th>4</th>\n      <td>Burkina Faso</td>\n      <td>1</td>\n    </tr>\n  </tbody>\n</table>\n</div>"
     },
     "execution_count": 30,
     "metadata": {},
     "output_type": "execute_result"
    }
   ],
   "source": [
    "dict = {}\n",
    "for val in df['country']:\n",
    "    if ',' in val:\n",
    "        list = val.replace(' ,',',').replace(', ',',').split(',')\n",
    "        for v in list:\n",
    "            if v in dict:\n",
    "                dict[v] = dict[v] + 1\n",
    "            else:\n",
    "                dict[v] = 1\n",
    "    else:\n",
    "        if val in dict:\n",
    "            dict[val] = dict[val] + 1\n",
    "        else:\n",
    "            dict[val] = 1\n",
    "dict.pop('')\n",
    "d = {'Countries': [*dict], 'Count': [dict[key] for key in dict]}\n",
    "df_countries = pd.DataFrame(data=d)\n",
    "\n",
    "df_countries.head()"
   ],
   "metadata": {
    "collapsed": false,
    "pycharm": {
     "name": "#%%\n"
    }
   }
  },
  {
   "cell_type": "code",
   "execution_count": 31,
   "outputs": [
    {
     "data": {
      "text/plain": "       Countries  Count iso_alpha\n0  United States   3690       USA\n1   South Africa     62       ZAF\n2          India   1046       IND\n3          Ghana      5       GHA\n4   Burkina Faso      1       BFA",
      "text/html": "<div>\n<style scoped>\n    .dataframe tbody tr th:only-of-type {\n        vertical-align: middle;\n    }\n\n    .dataframe tbody tr th {\n        vertical-align: top;\n    }\n\n    .dataframe thead th {\n        text-align: right;\n    }\n</style>\n<table border=\"1\" class=\"dataframe\">\n  <thead>\n    <tr style=\"text-align: right;\">\n      <th></th>\n      <th>Countries</th>\n      <th>Count</th>\n      <th>iso_alpha</th>\n    </tr>\n  </thead>\n  <tbody>\n    <tr>\n      <th>0</th>\n      <td>United States</td>\n      <td>3690</td>\n      <td>USA</td>\n    </tr>\n    <tr>\n      <th>1</th>\n      <td>South Africa</td>\n      <td>62</td>\n      <td>ZAF</td>\n    </tr>\n    <tr>\n      <th>2</th>\n      <td>India</td>\n      <td>1046</td>\n      <td>IND</td>\n    </tr>\n    <tr>\n      <th>3</th>\n      <td>Ghana</td>\n      <td>5</td>\n      <td>GHA</td>\n    </tr>\n    <tr>\n      <th>4</th>\n      <td>Burkina Faso</td>\n      <td>1</td>\n      <td>BFA</td>\n    </tr>\n  </tbody>\n</table>\n</div>"
     },
     "execution_count": 31,
     "metadata": {},
     "output_type": "execute_result"
    }
   ],
   "source": [
    "import pycountry\n",
    "\n",
    "input_countries = [*dict]\n",
    "\n",
    "countries = {}\n",
    "for country in pycountry.countries:\n",
    "    countries[country.name] = country.alpha_3\n",
    "\n",
    "codes = [countries.get(country, 'Unknown code') for country in input_countries]\n",
    "\n",
    "df_countries = df_countries.assign(iso_alpha=codes)\n",
    "\n",
    "df_countries.head()"
   ],
   "metadata": {
    "collapsed": false,
    "pycharm": {
     "name": "#%%\n"
    }
   }
  },
  {
   "cell_type": "code",
   "execution_count": 32,
   "outputs": [],
   "source": [
    "df_countries.to_csv(r'..\\data\\netflix-countries.csv', sep=',', index=False)"
   ],
   "metadata": {
    "collapsed": false,
    "pycharm": {
     "name": "#%%\n"
    }
   }
  },
  {
   "cell_type": "code",
   "execution_count": 32,
   "outputs": [],
   "source": [],
   "metadata": {
    "collapsed": false,
    "pycharm": {
     "name": "#%%\n"
    }
   }
  }
 ],
 "metadata": {
  "kernelspec": {
   "display_name": "Python 3",
   "language": "python",
   "name": "python3"
  },
  "language_info": {
   "codemirror_mode": {
    "name": "ipython",
    "version": 2
   },
   "file_extension": ".py",
   "mimetype": "text/x-python",
   "name": "python",
   "nbconvert_exporter": "python",
   "pygments_lexer": "ipython2",
   "version": "2.7.6"
  }
 },
 "nbformat": 4,
 "nbformat_minor": 0
}