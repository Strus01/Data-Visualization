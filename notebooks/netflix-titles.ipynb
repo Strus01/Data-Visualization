{
 "cells": [
  {
   "cell_type": "code",
   "execution_count": 1,
   "metadata": {
    "collapsed": true
   },
   "outputs": [],
   "source": [
    "import pandas as pd\n",
    "import numpy as np"
   ]
  },
  {
   "cell_type": "code",
   "execution_count": 2,
   "outputs": [],
   "source": [
    "df = pd.read_csv(r'..\\data\\netflix_titles.csv')"
   ],
   "metadata": {
    "collapsed": false,
    "pycharm": {
     "name": "#%%\n"
    }
   }
  },
  {
   "cell_type": "code",
   "execution_count": 3,
   "outputs": [
    {
     "name": "stdout",
     "output_type": "stream",
     "text": [
      "<class 'pandas.core.frame.DataFrame'>\n",
      "RangeIndex: 8807 entries, 0 to 8806\n",
      "Data columns (total 12 columns):\n",
      " #   Column        Non-Null Count  Dtype \n",
      "---  ------        --------------  ----- \n",
      " 0   show_id       8807 non-null   object\n",
      " 1   type          8807 non-null   object\n",
      " 2   title         8807 non-null   object\n",
      " 3   director      6173 non-null   object\n",
      " 4   cast          7982 non-null   object\n",
      " 5   country       7976 non-null   object\n",
      " 6   date_added    8797 non-null   object\n",
      " 7   release_year  8807 non-null   int64 \n",
      " 8   rating        8803 non-null   object\n",
      " 9   duration      8804 non-null   object\n",
      " 10  listed_in     8807 non-null   object\n",
      " 11  description   8807 non-null   object\n",
      "dtypes: int64(1), object(11)\n",
      "memory usage: 825.8+ KB\n"
     ]
    }
   ],
   "source": [
    "df.info()"
   ],
   "metadata": {
    "collapsed": false,
    "pycharm": {
     "name": "#%%\n"
    }
   }
  },
  {
   "cell_type": "code",
   "execution_count": 4,
   "outputs": [
    {
     "data": {
      "text/plain": "show_id            0\ntype               0\ntitle              0\ndirector        2634\ncast             825\ncountry          831\ndate_added        10\nrelease_year       0\nrating             4\nduration           3\nlisted_in          0\ndescription        0\ndtype: int64"
     },
     "execution_count": 4,
     "metadata": {},
     "output_type": "execute_result"
    }
   ],
   "source": [
    "df.isnull().sum()"
   ],
   "metadata": {
    "collapsed": false,
    "pycharm": {
     "name": "#%%\n"
    }
   }
  },
  {
   "cell_type": "code",
   "execution_count": 6,
   "outputs": [
    {
     "data": {
      "text/plain": "show_id         object\ntype            object\ntitle           object\ndirector        object\ncast            object\ncountry         object\ndate_added      object\nrelease_year     int64\nrating          object\nduration        object\nlisted_in       object\ndescription     object\ndtype: object"
     },
     "execution_count": 6,
     "metadata": {},
     "output_type": "execute_result"
    }
   ],
   "source": [
    "df.dtypes"
   ],
   "metadata": {
    "collapsed": false,
    "pycharm": {
     "name": "#%%\n"
    }
   }
  },
  {
   "cell_type": "code",
   "execution_count": 7,
   "outputs": [
    {
     "data": {
      "text/plain": "     show_id     type                                     title  \\\n5819   s5820    Movie  David Cross: Making America Great Again!   \n6769   s6770    Movie                             Flock of Four   \n3984   s3985  TV Show                               The 10 Sins   \n8627   s8628    Movie                       Trespass Against Us   \n2123   s2124  TV Show                     Dérè: An African Tale   \n3398   s3399    Movie                                       Eli   \n1593   s1594  TV Show                          Kings of Jo'Burg   \n7061   s7062    Movie                               In The Deep   \n2191   s2192    Movie                                   Retablo   \n5289   s5290  TV Show                         A House of Blocks   \n1613   s1614    Movie                                Effie Gray   \n6170   s6171    Movie                           Another Forever   \n6150   s6151    Movie                     An American in Madras   \n1319   s1320    Movie                            Xico's Journey   \n8302   s8303  TV Show                                  The Five   \n6180   s6181    Movie                                 Apollo 18   \n4519   s4520    Movie                  The Kindergarten Teacher   \n4187   s4188    Movie                                    Adhugo   \n7270   s7271    Movie                              Last Knights   \n2344   s2345    Movie                     Nobody Knows I'm Here   \n737     s738  TV Show                                     Trese   \n8667   s8668    Movie          USS Indianapolis: Men of Courage   \n6140   s6141    Movie    American Experience: The Island Murder   \n686     s687  TV Show                         Hospital Playlist   \n8354   s8355    Movie                       The Hurricane Heist   \n\n                        director  \\\n5819                Alex Coletti   \n6769              Gregory Caruso   \n3984                         NaN   \n8627                  Adam Smith   \n2123                         NaN   \n3398                  Ciarán Foy   \n1593                         NaN   \n7061            Johannes Roberts   \n2191  Álvaro Delgado-Aparicio L.   \n5289                         NaN   \n1613              Richard Laxton   \n6170                 Juan Zapata   \n6150                  Karan Bali   \n1319        Eric D. Cabello Díaz   \n8302               Mark Tonderai   \n6180       Gonzalo López-Gallego   \n4519              Sara Colangelo   \n4187                         NaN   \n7270              Kazuaki Kiriya   \n2344              Gaspar Antillo   \n737                    Jay Oliva   \n8667           Mario Van Peebles   \n6140              Mark Zwonitzer   \n686                          NaN   \n8354                   Rob Cohen   \n\n                                                   cast  \\\n5819                                        David Cross   \n6769  Braeden Lemasters, Isaac Jay, Uriah Shelton, D...   \n3984  Abdul Mohsen Alnimer, Haifa Hussien, Qahtan Al...   \n8627  Michael Fassbender, Brendan Gleeson, Lyndsey M...   \n2123  Weruche Opia, Gbenro Ajibade, Ireti Doyle, Kep...   \n3398  Charlie Shotwell, Lili Taylor, Kelly Reilly, M...   \n1593  Shona Ferguson, Zolisa Xaluva, Tsholofelo Mats...   \n7061  Mandy Moore, Claire Holt, Matthew Modine, Chri...   \n2191  Junior Béjar Roca, Amiel Cayo, Magaly Solier, ...   \n5289  Eli Shi, Phoebe Lin, Chen Wan-ting, Fan Chen-f...   \n1613  Dakota Fanning, Emma Thompson, Julie Walters, ...   \n6170  Daniela Escobar, Marlon Moreno, Peter Ketnath,...   \n6150                                                NaN   \n1319  Verónica Alva, Pablo Gama Iturrarán “Mago Gami...   \n8302  Tom Cullen, O.T. Fagbenle, Lee Ingleby, Sarah ...   \n6180  Warren Christie, Lloyd Owen, Ryan Robbins, Mic...   \n4519  Maggie Gyllenhaal, Parker Sevak, Gael García B...   \n4187                                                NaN   \n7270  Clive Owen, Morgan Freeman, Cliff Curtis, Akse...   \n2344  Jorge García, Millaray Lobos, Luis Gnecco, Ale...   \n737   Shay Mitchell, Liza Soberano, Jon Jon Briones,...   \n8667  Nicolas Cage, Tom Sizemore, Thomas Jane, Matt ...   \n6140                                        Blair Brown   \n686   Cho Jung-seok, Yoo Yeon-seok, Jung Kyung-ho, K...   \n8354  Toby Kebbell, Maggie Grace, Ryan Kwanten, Ralp...   \n\n                                                country          date_added  \\\n5819                                      United States      August 5, 2016   \n6769                                      United States      August 1, 2018   \n3984                                                NaN      March 22, 2019   \n8627                                     United Kingdom   February 22, 2019   \n2123                                                NaN     August 15, 2020   \n3398                                      United States    October 18, 2019   \n1593                                       South Africa    December 4, 2020   \n7061  United Kingdom, United States, Dominican Republic    January 10, 2018   \n2191                              Peru, Germany, Norway       July 30, 2020   \n5289                                             Taiwan   September 1, 2017   \n1613                                     United Kingdom    December 1, 2020   \n6170  Brazil, Netherlands, United States, Colombia, ...      March 21, 2017   \n6150                                              India     January 1, 2017   \n1319                                             Mexico   February 12, 2021   \n8302                                     United Kingdom  September 15, 2017   \n6180                              United States, Canada       March 9, 2019   \n4519      United States, Israel, United Kingdom, Canada    October 12, 2018   \n4187                                              India    January 15, 2019   \n7270                        United Kingdom, South Korea      August 1, 2019   \n2344                                              Chile       June 24, 2020   \n737                   Philippines, Singapore, Indonesia       June 11, 2021   \n8667                                      United States  September 25, 2019   \n6140                                      United States         May 1, 2019   \n686                                         South Korea       June 18, 2021   \n8354                      United Kingdom, United States  September 26, 2018   \n\n      release_year rating   duration  \\\n5819          2016  TV-MA     73 min   \n6769          2018  TV-MA     83 min   \n3984          2018  TV-14   1 Season   \n8627          2016      R    100 min   \n2123          2016  TV-PG   1 Season   \n3398          2019  TV-MA     98 min   \n1593          2020  TV-MA   1 Season   \n7061          2017  PG-13     89 min   \n2191          2017  TV-MA    102 min   \n5289          2017  TV-PG   1 Season   \n1613          2014  PG-13    109 min   \n6170          2016  TV-PG     72 min   \n6150          2013  TV-PG     80 min   \n1319          2021  TV-Y7     87 min   \n8302          2016  TV-MA   1 Season   \n6180          2011  PG-13     87 min   \n4519          2018      R     97 min   \n4187          2018  TV-14    105 min   \n7270          2015      R    115 min   \n2344          2020  TV-MA     92 min   \n737           2021  TV-MA   1 Season   \n8667          2016      R    130 min   \n6140          2018  TV-14     53 min   \n686           2021  TV-14  2 Seasons   \n8354          2018  PG-13    103 min   \n\n                                              listed_in  \\\n5819                                    Stand-Up Comedy   \n6769       Dramas, Independent Movies, Music & Musicals   \n3984                  International TV Shows, TV Dramas   \n8627                                             Dramas   \n2123  International TV Shows, Romantic TV Shows, TV ...   \n3398                                      Horror Movies   \n1593  Crime TV Shows, International TV Shows, TV Dramas   \n7061     Horror Movies, International Movies, Thrillers   \n2191                       Dramas, International Movies   \n5289       International TV Shows, TV Dramas, TV Horror   \n1613      Dramas, International Movies, Romantic Movies   \n6170   Dramas, Independent Movies, International Movies   \n6150                Documentaries, International Movies   \n1319                           Children & Family Movies   \n8302        British TV Shows, Crime TV Shows, TV Dramas   \n6180         Horror Movies, Sci-Fi & Fantasy, Thrillers   \n4519                         Dramas, Independent Movies   \n4187  Comedies, Independent Movies, International Mo...   \n7270                                 Action & Adventure   \n2344   Dramas, Independent Movies, International Movies   \n737             Anime Series, Crime TV Shows, TV Horror   \n8667                                 Action & Adventure   \n6140                                      Documentaries   \n686   International TV Shows, Korean TV Shows, TV Co...   \n8354                                 Action & Adventure   \n\n                                            description  \n5819  Cross skewers Donald Trump, religious taboos a...  \n6769  One night in 1959, four young musicians ventur...  \n3984  In this social drama of sin and remorse, a man...  \n8627  A man from a criminal family yearns to break a...  \n2123  After experiencing a tragic loss, a woman must...  \n3398  With his desperate parents in tow, an 11-year-...  \n1593  The Masire brothers rule Johannesburg's crimin...  \n7061  With little oxygen left in their scuba tanks, ...  \n2191  High in the Andes, a teenage boy and his fathe...  \n5289  Yijuan and her mentally ill sister Kaiqi strug...  \n1613  Trapped in a loveless marriage, the young wife...  \n6170  Overtaken by the death of her beloved, a griev...  \n6150  Extensive film clips and interviews tell the s...  \n1319  A girl, a dog and her best pal set out to save...  \n8302  Twenty years after 5-year-old Jesse disappears...  \n6180  This sci-fi thriller suggests that Apollo 17, ...  \n4519  A devoted teacher takes interest in a young st...  \n4187  A fast-footed piglet named Bunty becomes an ob...  \n7270  A nobleman who values his people's well-being ...  \n2344  A former child singer, traumatized by his expe...  \n737   In Manila, where dark supernatural forces perv...  \n8667  After becoming stranded in the Philippine Sea ...  \n6140  In 1931, a young Navy wife tore apart Hawaii o...  \n686   Every day is extraordinary for five doctors an...  \n8354  A deadly hurricane with mile-high waves provid...  ",
      "text/html": "<div>\n<style scoped>\n    .dataframe tbody tr th:only-of-type {\n        vertical-align: middle;\n    }\n\n    .dataframe tbody tr th {\n        vertical-align: top;\n    }\n\n    .dataframe thead th {\n        text-align: right;\n    }\n</style>\n<table border=\"1\" class=\"dataframe\">\n  <thead>\n    <tr style=\"text-align: right;\">\n      <th></th>\n      <th>show_id</th>\n      <th>type</th>\n      <th>title</th>\n      <th>director</th>\n      <th>cast</th>\n      <th>country</th>\n      <th>date_added</th>\n      <th>release_year</th>\n      <th>rating</th>\n      <th>duration</th>\n      <th>listed_in</th>\n      <th>description</th>\n    </tr>\n  </thead>\n  <tbody>\n    <tr>\n      <th>5819</th>\n      <td>s5820</td>\n      <td>Movie</td>\n      <td>David Cross: Making America Great Again!</td>\n      <td>Alex Coletti</td>\n      <td>David Cross</td>\n      <td>United States</td>\n      <td>August 5, 2016</td>\n      <td>2016</td>\n      <td>TV-MA</td>\n      <td>73 min</td>\n      <td>Stand-Up Comedy</td>\n      <td>Cross skewers Donald Trump, religious taboos a...</td>\n    </tr>\n    <tr>\n      <th>6769</th>\n      <td>s6770</td>\n      <td>Movie</td>\n      <td>Flock of Four</td>\n      <td>Gregory Caruso</td>\n      <td>Braeden Lemasters, Isaac Jay, Uriah Shelton, D...</td>\n      <td>United States</td>\n      <td>August 1, 2018</td>\n      <td>2018</td>\n      <td>TV-MA</td>\n      <td>83 min</td>\n      <td>Dramas, Independent Movies, Music &amp; Musicals</td>\n      <td>One night in 1959, four young musicians ventur...</td>\n    </tr>\n    <tr>\n      <th>3984</th>\n      <td>s3985</td>\n      <td>TV Show</td>\n      <td>The 10 Sins</td>\n      <td>NaN</td>\n      <td>Abdul Mohsen Alnimer, Haifa Hussien, Qahtan Al...</td>\n      <td>NaN</td>\n      <td>March 22, 2019</td>\n      <td>2018</td>\n      <td>TV-14</td>\n      <td>1 Season</td>\n      <td>International TV Shows, TV Dramas</td>\n      <td>In this social drama of sin and remorse, a man...</td>\n    </tr>\n    <tr>\n      <th>8627</th>\n      <td>s8628</td>\n      <td>Movie</td>\n      <td>Trespass Against Us</td>\n      <td>Adam Smith</td>\n      <td>Michael Fassbender, Brendan Gleeson, Lyndsey M...</td>\n      <td>United Kingdom</td>\n      <td>February 22, 2019</td>\n      <td>2016</td>\n      <td>R</td>\n      <td>100 min</td>\n      <td>Dramas</td>\n      <td>A man from a criminal family yearns to break a...</td>\n    </tr>\n    <tr>\n      <th>2123</th>\n      <td>s2124</td>\n      <td>TV Show</td>\n      <td>Dérè: An African Tale</td>\n      <td>NaN</td>\n      <td>Weruche Opia, Gbenro Ajibade, Ireti Doyle, Kep...</td>\n      <td>NaN</td>\n      <td>August 15, 2020</td>\n      <td>2016</td>\n      <td>TV-PG</td>\n      <td>1 Season</td>\n      <td>International TV Shows, Romantic TV Shows, TV ...</td>\n      <td>After experiencing a tragic loss, a woman must...</td>\n    </tr>\n    <tr>\n      <th>3398</th>\n      <td>s3399</td>\n      <td>Movie</td>\n      <td>Eli</td>\n      <td>Ciarán Foy</td>\n      <td>Charlie Shotwell, Lili Taylor, Kelly Reilly, M...</td>\n      <td>United States</td>\n      <td>October 18, 2019</td>\n      <td>2019</td>\n      <td>TV-MA</td>\n      <td>98 min</td>\n      <td>Horror Movies</td>\n      <td>With his desperate parents in tow, an 11-year-...</td>\n    </tr>\n    <tr>\n      <th>1593</th>\n      <td>s1594</td>\n      <td>TV Show</td>\n      <td>Kings of Jo'Burg</td>\n      <td>NaN</td>\n      <td>Shona Ferguson, Zolisa Xaluva, Tsholofelo Mats...</td>\n      <td>South Africa</td>\n      <td>December 4, 2020</td>\n      <td>2020</td>\n      <td>TV-MA</td>\n      <td>1 Season</td>\n      <td>Crime TV Shows, International TV Shows, TV Dramas</td>\n      <td>The Masire brothers rule Johannesburg's crimin...</td>\n    </tr>\n    <tr>\n      <th>7061</th>\n      <td>s7062</td>\n      <td>Movie</td>\n      <td>In The Deep</td>\n      <td>Johannes Roberts</td>\n      <td>Mandy Moore, Claire Holt, Matthew Modine, Chri...</td>\n      <td>United Kingdom, United States, Dominican Republic</td>\n      <td>January 10, 2018</td>\n      <td>2017</td>\n      <td>PG-13</td>\n      <td>89 min</td>\n      <td>Horror Movies, International Movies, Thrillers</td>\n      <td>With little oxygen left in their scuba tanks, ...</td>\n    </tr>\n    <tr>\n      <th>2191</th>\n      <td>s2192</td>\n      <td>Movie</td>\n      <td>Retablo</td>\n      <td>Álvaro Delgado-Aparicio L.</td>\n      <td>Junior Béjar Roca, Amiel Cayo, Magaly Solier, ...</td>\n      <td>Peru, Germany, Norway</td>\n      <td>July 30, 2020</td>\n      <td>2017</td>\n      <td>TV-MA</td>\n      <td>102 min</td>\n      <td>Dramas, International Movies</td>\n      <td>High in the Andes, a teenage boy and his fathe...</td>\n    </tr>\n    <tr>\n      <th>5289</th>\n      <td>s5290</td>\n      <td>TV Show</td>\n      <td>A House of Blocks</td>\n      <td>NaN</td>\n      <td>Eli Shi, Phoebe Lin, Chen Wan-ting, Fan Chen-f...</td>\n      <td>Taiwan</td>\n      <td>September 1, 2017</td>\n      <td>2017</td>\n      <td>TV-PG</td>\n      <td>1 Season</td>\n      <td>International TV Shows, TV Dramas, TV Horror</td>\n      <td>Yijuan and her mentally ill sister Kaiqi strug...</td>\n    </tr>\n    <tr>\n      <th>1613</th>\n      <td>s1614</td>\n      <td>Movie</td>\n      <td>Effie Gray</td>\n      <td>Richard Laxton</td>\n      <td>Dakota Fanning, Emma Thompson, Julie Walters, ...</td>\n      <td>United Kingdom</td>\n      <td>December 1, 2020</td>\n      <td>2014</td>\n      <td>PG-13</td>\n      <td>109 min</td>\n      <td>Dramas, International Movies, Romantic Movies</td>\n      <td>Trapped in a loveless marriage, the young wife...</td>\n    </tr>\n    <tr>\n      <th>6170</th>\n      <td>s6171</td>\n      <td>Movie</td>\n      <td>Another Forever</td>\n      <td>Juan Zapata</td>\n      <td>Daniela Escobar, Marlon Moreno, Peter Ketnath,...</td>\n      <td>Brazil, Netherlands, United States, Colombia, ...</td>\n      <td>March 21, 2017</td>\n      <td>2016</td>\n      <td>TV-PG</td>\n      <td>72 min</td>\n      <td>Dramas, Independent Movies, International Movies</td>\n      <td>Overtaken by the death of her beloved, a griev...</td>\n    </tr>\n    <tr>\n      <th>6150</th>\n      <td>s6151</td>\n      <td>Movie</td>\n      <td>An American in Madras</td>\n      <td>Karan Bali</td>\n      <td>NaN</td>\n      <td>India</td>\n      <td>January 1, 2017</td>\n      <td>2013</td>\n      <td>TV-PG</td>\n      <td>80 min</td>\n      <td>Documentaries, International Movies</td>\n      <td>Extensive film clips and interviews tell the s...</td>\n    </tr>\n    <tr>\n      <th>1319</th>\n      <td>s1320</td>\n      <td>Movie</td>\n      <td>Xico's Journey</td>\n      <td>Eric D. Cabello Díaz</td>\n      <td>Verónica Alva, Pablo Gama Iturrarán “Mago Gami...</td>\n      <td>Mexico</td>\n      <td>February 12, 2021</td>\n      <td>2021</td>\n      <td>TV-Y7</td>\n      <td>87 min</td>\n      <td>Children &amp; Family Movies</td>\n      <td>A girl, a dog and her best pal set out to save...</td>\n    </tr>\n    <tr>\n      <th>8302</th>\n      <td>s8303</td>\n      <td>TV Show</td>\n      <td>The Five</td>\n      <td>Mark Tonderai</td>\n      <td>Tom Cullen, O.T. Fagbenle, Lee Ingleby, Sarah ...</td>\n      <td>United Kingdom</td>\n      <td>September 15, 2017</td>\n      <td>2016</td>\n      <td>TV-MA</td>\n      <td>1 Season</td>\n      <td>British TV Shows, Crime TV Shows, TV Dramas</td>\n      <td>Twenty years after 5-year-old Jesse disappears...</td>\n    </tr>\n    <tr>\n      <th>6180</th>\n      <td>s6181</td>\n      <td>Movie</td>\n      <td>Apollo 18</td>\n      <td>Gonzalo López-Gallego</td>\n      <td>Warren Christie, Lloyd Owen, Ryan Robbins, Mic...</td>\n      <td>United States, Canada</td>\n      <td>March 9, 2019</td>\n      <td>2011</td>\n      <td>PG-13</td>\n      <td>87 min</td>\n      <td>Horror Movies, Sci-Fi &amp; Fantasy, Thrillers</td>\n      <td>This sci-fi thriller suggests that Apollo 17, ...</td>\n    </tr>\n    <tr>\n      <th>4519</th>\n      <td>s4520</td>\n      <td>Movie</td>\n      <td>The Kindergarten Teacher</td>\n      <td>Sara Colangelo</td>\n      <td>Maggie Gyllenhaal, Parker Sevak, Gael García B...</td>\n      <td>United States, Israel, United Kingdom, Canada</td>\n      <td>October 12, 2018</td>\n      <td>2018</td>\n      <td>R</td>\n      <td>97 min</td>\n      <td>Dramas, Independent Movies</td>\n      <td>A devoted teacher takes interest in a young st...</td>\n    </tr>\n    <tr>\n      <th>4187</th>\n      <td>s4188</td>\n      <td>Movie</td>\n      <td>Adhugo</td>\n      <td>NaN</td>\n      <td>NaN</td>\n      <td>India</td>\n      <td>January 15, 2019</td>\n      <td>2018</td>\n      <td>TV-14</td>\n      <td>105 min</td>\n      <td>Comedies, Independent Movies, International Mo...</td>\n      <td>A fast-footed piglet named Bunty becomes an ob...</td>\n    </tr>\n    <tr>\n      <th>7270</th>\n      <td>s7271</td>\n      <td>Movie</td>\n      <td>Last Knights</td>\n      <td>Kazuaki Kiriya</td>\n      <td>Clive Owen, Morgan Freeman, Cliff Curtis, Akse...</td>\n      <td>United Kingdom, South Korea</td>\n      <td>August 1, 2019</td>\n      <td>2015</td>\n      <td>R</td>\n      <td>115 min</td>\n      <td>Action &amp; Adventure</td>\n      <td>A nobleman who values his people's well-being ...</td>\n    </tr>\n    <tr>\n      <th>2344</th>\n      <td>s2345</td>\n      <td>Movie</td>\n      <td>Nobody Knows I'm Here</td>\n      <td>Gaspar Antillo</td>\n      <td>Jorge García, Millaray Lobos, Luis Gnecco, Ale...</td>\n      <td>Chile</td>\n      <td>June 24, 2020</td>\n      <td>2020</td>\n      <td>TV-MA</td>\n      <td>92 min</td>\n      <td>Dramas, Independent Movies, International Movies</td>\n      <td>A former child singer, traumatized by his expe...</td>\n    </tr>\n    <tr>\n      <th>737</th>\n      <td>s738</td>\n      <td>TV Show</td>\n      <td>Trese</td>\n      <td>Jay Oliva</td>\n      <td>Shay Mitchell, Liza Soberano, Jon Jon Briones,...</td>\n      <td>Philippines, Singapore, Indonesia</td>\n      <td>June 11, 2021</td>\n      <td>2021</td>\n      <td>TV-MA</td>\n      <td>1 Season</td>\n      <td>Anime Series, Crime TV Shows, TV Horror</td>\n      <td>In Manila, where dark supernatural forces perv...</td>\n    </tr>\n    <tr>\n      <th>8667</th>\n      <td>s8668</td>\n      <td>Movie</td>\n      <td>USS Indianapolis: Men of Courage</td>\n      <td>Mario Van Peebles</td>\n      <td>Nicolas Cage, Tom Sizemore, Thomas Jane, Matt ...</td>\n      <td>United States</td>\n      <td>September 25, 2019</td>\n      <td>2016</td>\n      <td>R</td>\n      <td>130 min</td>\n      <td>Action &amp; Adventure</td>\n      <td>After becoming stranded in the Philippine Sea ...</td>\n    </tr>\n    <tr>\n      <th>6140</th>\n      <td>s6141</td>\n      <td>Movie</td>\n      <td>American Experience: The Island Murder</td>\n      <td>Mark Zwonitzer</td>\n      <td>Blair Brown</td>\n      <td>United States</td>\n      <td>May 1, 2019</td>\n      <td>2018</td>\n      <td>TV-14</td>\n      <td>53 min</td>\n      <td>Documentaries</td>\n      <td>In 1931, a young Navy wife tore apart Hawaii o...</td>\n    </tr>\n    <tr>\n      <th>686</th>\n      <td>s687</td>\n      <td>TV Show</td>\n      <td>Hospital Playlist</td>\n      <td>NaN</td>\n      <td>Cho Jung-seok, Yoo Yeon-seok, Jung Kyung-ho, K...</td>\n      <td>South Korea</td>\n      <td>June 18, 2021</td>\n      <td>2021</td>\n      <td>TV-14</td>\n      <td>2 Seasons</td>\n      <td>International TV Shows, Korean TV Shows, TV Co...</td>\n      <td>Every day is extraordinary for five doctors an...</td>\n    </tr>\n    <tr>\n      <th>8354</th>\n      <td>s8355</td>\n      <td>Movie</td>\n      <td>The Hurricane Heist</td>\n      <td>Rob Cohen</td>\n      <td>Toby Kebbell, Maggie Grace, Ryan Kwanten, Ralp...</td>\n      <td>United Kingdom, United States</td>\n      <td>September 26, 2018</td>\n      <td>2018</td>\n      <td>PG-13</td>\n      <td>103 min</td>\n      <td>Action &amp; Adventure</td>\n      <td>A deadly hurricane with mile-high waves provid...</td>\n    </tr>\n  </tbody>\n</table>\n</div>"
     },
     "execution_count": 7,
     "metadata": {},
     "output_type": "execute_result"
    }
   ],
   "source": [
    "df.sample(25)"
   ],
   "metadata": {
    "collapsed": false,
    "pycharm": {
     "name": "#%%\n"
    }
   }
  },
  {
   "cell_type": "code",
   "execution_count": null,
   "outputs": [],
   "source": [],
   "metadata": {
    "collapsed": false,
    "pycharm": {
     "name": "#%%\n"
    }
   }
  }
 ],
 "metadata": {
  "kernelspec": {
   "display_name": "Python 3",
   "language": "python",
   "name": "python3"
  },
  "language_info": {
   "codemirror_mode": {
    "name": "ipython",
    "version": 2
   },
   "file_extension": ".py",
   "mimetype": "text/x-python",
   "name": "python",
   "nbconvert_exporter": "python",
   "pygments_lexer": "ipython2",
   "version": "2.7.6"
  }
 },
 "nbformat": 4,
 "nbformat_minor": 0
}