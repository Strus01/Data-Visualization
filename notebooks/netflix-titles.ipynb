{
 "cells": [
  {
   "cell_type": "code",
   "execution_count": 96,
   "metadata": {
    "collapsed": true
   },
   "outputs": [],
   "source": [
    "import pandas as pd\n",
    "import numpy as np"
   ]
  },
  {
   "cell_type": "code",
   "execution_count": 97,
   "outputs": [],
   "source": [
    "df = pd.read_csv(r'..\\data\\netflix_titles.csv')"
   ],
   "metadata": {
    "collapsed": false,
    "pycharm": {
     "name": "#%%\n"
    }
   }
  },
  {
   "cell_type": "code",
   "execution_count": 98,
   "outputs": [
    {
     "name": "stdout",
     "output_type": "stream",
     "text": [
      "<class 'pandas.core.frame.DataFrame'>\n",
      "RangeIndex: 8807 entries, 0 to 8806\n",
      "Data columns (total 12 columns):\n",
      " #   Column        Non-Null Count  Dtype \n",
      "---  ------        --------------  ----- \n",
      " 0   show_id       8807 non-null   object\n",
      " 1   type          8807 non-null   object\n",
      " 2   title         8807 non-null   object\n",
      " 3   director      6173 non-null   object\n",
      " 4   cast          7982 non-null   object\n",
      " 5   country       7976 non-null   object\n",
      " 6   date_added    8797 non-null   object\n",
      " 7   release_year  8807 non-null   int64 \n",
      " 8   rating        8803 non-null   object\n",
      " 9   duration      8804 non-null   object\n",
      " 10  listed_in     8807 non-null   object\n",
      " 11  description   8807 non-null   object\n",
      "dtypes: int64(1), object(11)\n",
      "memory usage: 825.8+ KB\n"
     ]
    }
   ],
   "source": [
    "df.info()"
   ],
   "metadata": {
    "collapsed": false,
    "pycharm": {
     "name": "#%%\n"
    }
   }
  },
  {
   "cell_type": "code",
   "execution_count": 99,
   "outputs": [
    {
     "data": {
      "text/plain": "show_id            0\ntype               0\ntitle              0\ndirector        2634\ncast             825\ncountry          831\ndate_added        10\nrelease_year       0\nrating             4\nduration           3\nlisted_in          0\ndescription        0\ndtype: int64"
     },
     "execution_count": 99,
     "metadata": {},
     "output_type": "execute_result"
    }
   ],
   "source": [
    "df.isnull().sum()"
   ],
   "metadata": {
    "collapsed": false,
    "pycharm": {
     "name": "#%%\n"
    }
   }
  },
  {
   "cell_type": "code",
   "execution_count": 100,
   "outputs": [
    {
     "data": {
      "text/plain": "show_id         object\ntype            object\ntitle           object\ndirector        object\ncast            object\ncountry         object\ndate_added      object\nrelease_year     int64\nrating          object\nduration        object\nlisted_in       object\ndescription     object\ndtype: object"
     },
     "execution_count": 100,
     "metadata": {},
     "output_type": "execute_result"
    }
   ],
   "source": [
    "df.dtypes"
   ],
   "metadata": {
    "collapsed": false,
    "pycharm": {
     "name": "#%%\n"
    }
   }
  },
  {
   "cell_type": "code",
   "execution_count": 101,
   "outputs": [
    {
     "data": {
      "text/plain": "     show_id     type                                         title  \\\n4581   s4582    Movie                                          Lock   \n4880   s4881    Movie           Lo más sencillo es complicarlo todo   \n5977   s5978    Movie                                      Æon Flux   \n486     s487    Movie                             Ratchet and Clank   \n7400   s7401    Movie                                    Mantostaan   \n480     s481    Movie                                 Finding Hubby   \n1974   s1975    Movie               Saheb Biwi Aur Gangster Returns   \n2771   s2772    Movie                                      Uncorked   \n226     s227  TV Show           Post Mortem: No One Dies in Skarnes   \n8127   s8128    Movie                                      Superfly   \n2601   s2602    Movie                                  Rich in Love   \n3300   s3301    Movie                                  Burning Cane   \n951     s952    Movie                            The Sweetest Thing   \n7612   s7613    Movie                        NOVA: Killer Volcanoes   \n795     s796  TV Show                                 Happy Endings   \n2588   s2589  TV Show                                       Oh Yuck   \n5353   s5354    Movie                     Jessica Darling's It List   \n1728   s1729    Movie                            The Endless Trench   \n4075   s4076    Movie                                  My Ex & Whys   \n4264   s4265  TV Show                        People Just Do Nothing   \n2159   s2160    Movie                                       Work It   \n5785   s5786  TV Show                      VeggieTales in the House   \n1132   s1133    Movie  Seven Souls in the Skull Castle: Season Wind   \n8028   s8029    Movie                                   Sister Code   \n7857   s7858    Movie                      Resident Evil: Afterlife   \n\n                                         director  \\\n4581                                   Smeep Kang   \n4880                                   Rene Bueno   \n5977                                 Karyn Kusama   \n486                 Jericca Cleland, Kevin Munroe   \n7400                                  Rahat Kazmi   \n480                             Femi D. Ogunsanwo   \n1974                             Tigmanshu Dhulia   \n2771                               Prentice Penny   \n226                                           NaN   \n8127                                 Gordon Parks   \n2601                                Bruno Garotti   \n3300                              Phillip Youmans   \n951                                  Roger Kumble   \n7612                                Oliver Twinch   \n795                                           NaN   \n2588                                          NaN   \n5353                                    Ali Scher   \n1728  Aitor Arregi, Jon Garaño, Jose Mari Goenaga   \n4075                          Cathy Garcia-Molina   \n4264                                          NaN   \n2159                                Laura Terruso   \n5785                                          NaN   \n1132                               Hidenori Inoue   \n8028                                  Corey Grant   \n7857                           Paul W.S. Anderson   \n\n                                                   cast  \\\n4581  Gippy Grewal, Gurpreet Guggi, Smeep Kang, Geet...   \n4880  Danna Paola, Marjorie De Sousa, Alosian Vivanc...   \n5977  Charlize Theron, Marton Csokas, Jonny Lee Mill...   \n486   Paul Giamatti, John Goodman, Bella Thorne, Ros...   \n7400  Raghuvir Yadav, Veerendra Saxena, Sonal Sehgal...   \n480   Ade Laoye, Munachi Abii, Kehinde Bankole, Char...   \n1974  Irrfan Khan, Jimmy Shergill, Soha Ali Khan, Ma...   \n2771  Mamoudou Athie, Courtney B. Vance, Niecy Nash,...   \n226   Kathrine Thorborg Johansen, Elias Holmen Søren...   \n8127  Ron O'Neal, Carl Lee, Sheila Frazier, Julius H...   \n2601  Danilo Mesquita, Giovanna Lancellotti, Jaffar ...   \n3300  Wendell Pierce, Karen Kaia Livers, Dominique M...   \n951   Cameron Diaz, Christina Applegate, Selma Blair...   \n7612                                      Craig Sechler   \n795   Eliza Coupe, Elisha Cuthbert, Zachary Knighton...   \n2588  Kayne Tremills, Nia Roam, David Collins, Shane...   \n5353  Chloe East, Emma Rayne Lyle, Jane Widdop, Jane...   \n1728  Antonio de la Torre, Belén Cuesta, Vicente Ver...   \n4075  Liza Soberano, Enrique Gil, Joey Marquez, Cai ...   \n4264  Allan Mustafa, Hugo Chegwin, Asim Chaudhry, Li...   \n2159  Sabrina Carpenter, Jordan Fisher, Liza Koshy, ...   \n5785  Phil Vischer, Mike Nawrocki, Rob Paulsen, Tres...   \n1132  Kenichi Matsuyama, Osamu Mukai, Rena Tanaka, J...   \n8028  Drew Sidora, Eva Marcille, Amber Rose, Marcus ...   \n7857  Milla Jovovich, Ali Larter, Kim Coates, Shawn ...   \n\n                                                country          date_added  \\\n4581                                              India     October 1, 2018   \n4880                                             Mexico         May 4, 2018   \n5977                                      United States    February 1, 2018   \n486                    Hong Kong, Canada, United States        July 9, 2021   \n7400                                              India   December 15, 2017   \n480                                                 NaN        July 9, 2021   \n1974                                              India  September 19, 2020   \n2771                                      United States      March 27, 2020   \n226                                                 NaN     August 25, 2021   \n8127                                      United States    November 1, 2019   \n2601                                             Brazil      April 30, 2020   \n3300                                      United States    November 6, 2019   \n951                                       United States         May 1, 2021   \n7612                                      United States        July 1, 2019   \n795                                       United States        June 2, 2021   \n2588                                             Canada         May 1, 2020   \n5353                                      United States      August 1, 2017   \n1728                              Spain, France, Canada    November 6, 2020   \n4075                                        Philippines   February 27, 2019   \n4264                                     United Kingdom   December 22, 2018   \n2159                                      United States      August 7, 2020   \n5785                                      United States  September 23, 2016   \n1132                                                NaN       April 1, 2021   \n8028                                      United States   February 14, 2016   \n7857  Germany, France, United States, Canada, United...     January 1, 2020   \n\n      release_year rating   duration  \\\n4581          2016  TV-14     90 min   \n4880          2018  TV-14     94 min   \n5977          2005  PG-13     93 min   \n486           2016     PG     94 min   \n7400          2017  TV-MA     75 min   \n480           2020  TV-14    105 min   \n1974          2013  TV-MA    139 min   \n2771          2020  TV-MA    104 min   \n226           2021  TV-MA   1 Season   \n8127          1972      R     91 min   \n2601          2020  TV-14    105 min   \n3300          2019  TV-MA     78 min   \n951           2002      R     89 min   \n7612          2017  TV-PG     54 min   \n795           2012  TV-14  3 Seasons   \n2588          2020   TV-G   1 Season   \n5353          2016   TV-Y     80 min   \n1728          2019  TV-MA    148 min   \n4075          2017  TV-14    121 min   \n4264          2018  TV-MA  5 Seasons   \n2159          2020  TV-14     94 min   \n5785          2016   TV-Y  4 Seasons   \n1132          2017  TV-14    185 min   \n8028          2015      R     95 min   \n7857          2010      R     97 min   \n\n                                              listed_in  \\\n4581                       Dramas, International Movies   \n4880    Comedies, International Movies, Romantic Movies   \n5977               Action & Adventure, Sci-Fi & Fantasy   \n486   Children & Family Movies, Comedies, Sci-Fi & F...   \n7400   Dramas, Independent Movies, International Movies   \n480              Comedies, Dramas, International Movies   \n1974      Dramas, International Movies, Romantic Movies   \n2771                         Dramas, Independent Movies   \n226      International TV Shows, TV Comedies, TV Dramas   \n8127         Action & Adventure, Classic Movies, Dramas   \n2601    Comedies, International Movies, Romantic Movies   \n3300                                             Dramas   \n951                           Comedies, Romantic Movies   \n7612                                      Documentaries   \n795                                         TV Comedies   \n2588                              Kids' TV, TV Comedies   \n5353                 Children & Family Movies, Comedies   \n1728   Dramas, Independent Movies, International Movies   \n4075             Comedies, Dramas, International Movies   \n4264                      British TV Shows, TV Comedies   \n2159                                           Comedies   \n5785                                           Kids' TV   \n1132   Action & Adventure, Dramas, International Movies   \n8028                  Comedies, Dramas, Romantic Movies   \n7857  Action & Adventure, Horror Movies, Sci-Fi & Fa...   \n\n                                            description  \n4581  A disillusioned rickshaw driver in Punjab drea...  \n4880  When a 17-year-old learns the TV news host she...  \n5977  Aiming to hasten an uprising, the leader of an...  \n486   Affable alien Ratchet longs to be a Galactic R...  \n7400  Four stories by writer Sadaat Hasan Manto culm...  \n480   Oyin and her two close friends are on the hunt...  \n1974  Knotty love triangles and nefarious schemes ar...  \n2771  A young man feels torn between his dream of be...  \n226   She's back from the dead and has a newfound th...  \n8127  To get away from the thug life, cocaine dealer...  \n2601  Rich kid Teto is determined to prove himself t...  \n3300  A small-town Louisiana minister and one of his...  \n951   After meeting her potential soul mate, a commi...  \n7612  Evidence of a mysterious medieval famine leads...  \n795   After his fiancée, Alex, dumps him at the alta...  \n2588  Using a concoction of cartoons, comedy and liv...  \n5353  Armed with popularity tips from her beautiful ...  \n1728  Fearing retribution, a Republican from the Spa...  \n4075  Popular blogger Cali is hired for a marketing ...  \n4264  Spinning old-school beats is just another day ...  \n2159  A brilliant but clumsy high school senior vows...  \n5785  Bob the Tomato, Larry the Cucumber and their V...  \n1132  Japan, 1590. Wandering samurai band together t...  \n8028  After the death of their beloved mother, three...  \n7857  The Undead Apocalypse continues as super-soldi...  ",
      "text/html": "<div>\n<style scoped>\n    .dataframe tbody tr th:only-of-type {\n        vertical-align: middle;\n    }\n\n    .dataframe tbody tr th {\n        vertical-align: top;\n    }\n\n    .dataframe thead th {\n        text-align: right;\n    }\n</style>\n<table border=\"1\" class=\"dataframe\">\n  <thead>\n    <tr style=\"text-align: right;\">\n      <th></th>\n      <th>show_id</th>\n      <th>type</th>\n      <th>title</th>\n      <th>director</th>\n      <th>cast</th>\n      <th>country</th>\n      <th>date_added</th>\n      <th>release_year</th>\n      <th>rating</th>\n      <th>duration</th>\n      <th>listed_in</th>\n      <th>description</th>\n    </tr>\n  </thead>\n  <tbody>\n    <tr>\n      <th>4581</th>\n      <td>s4582</td>\n      <td>Movie</td>\n      <td>Lock</td>\n      <td>Smeep Kang</td>\n      <td>Gippy Grewal, Gurpreet Guggi, Smeep Kang, Geet...</td>\n      <td>India</td>\n      <td>October 1, 2018</td>\n      <td>2016</td>\n      <td>TV-14</td>\n      <td>90 min</td>\n      <td>Dramas, International Movies</td>\n      <td>A disillusioned rickshaw driver in Punjab drea...</td>\n    </tr>\n    <tr>\n      <th>4880</th>\n      <td>s4881</td>\n      <td>Movie</td>\n      <td>Lo más sencillo es complicarlo todo</td>\n      <td>Rene Bueno</td>\n      <td>Danna Paola, Marjorie De Sousa, Alosian Vivanc...</td>\n      <td>Mexico</td>\n      <td>May 4, 2018</td>\n      <td>2018</td>\n      <td>TV-14</td>\n      <td>94 min</td>\n      <td>Comedies, International Movies, Romantic Movies</td>\n      <td>When a 17-year-old learns the TV news host she...</td>\n    </tr>\n    <tr>\n      <th>5977</th>\n      <td>s5978</td>\n      <td>Movie</td>\n      <td>Æon Flux</td>\n      <td>Karyn Kusama</td>\n      <td>Charlize Theron, Marton Csokas, Jonny Lee Mill...</td>\n      <td>United States</td>\n      <td>February 1, 2018</td>\n      <td>2005</td>\n      <td>PG-13</td>\n      <td>93 min</td>\n      <td>Action &amp; Adventure, Sci-Fi &amp; Fantasy</td>\n      <td>Aiming to hasten an uprising, the leader of an...</td>\n    </tr>\n    <tr>\n      <th>486</th>\n      <td>s487</td>\n      <td>Movie</td>\n      <td>Ratchet and Clank</td>\n      <td>Jericca Cleland, Kevin Munroe</td>\n      <td>Paul Giamatti, John Goodman, Bella Thorne, Ros...</td>\n      <td>Hong Kong, Canada, United States</td>\n      <td>July 9, 2021</td>\n      <td>2016</td>\n      <td>PG</td>\n      <td>94 min</td>\n      <td>Children &amp; Family Movies, Comedies, Sci-Fi &amp; F...</td>\n      <td>Affable alien Ratchet longs to be a Galactic R...</td>\n    </tr>\n    <tr>\n      <th>7400</th>\n      <td>s7401</td>\n      <td>Movie</td>\n      <td>Mantostaan</td>\n      <td>Rahat Kazmi</td>\n      <td>Raghuvir Yadav, Veerendra Saxena, Sonal Sehgal...</td>\n      <td>India</td>\n      <td>December 15, 2017</td>\n      <td>2017</td>\n      <td>TV-MA</td>\n      <td>75 min</td>\n      <td>Dramas, Independent Movies, International Movies</td>\n      <td>Four stories by writer Sadaat Hasan Manto culm...</td>\n    </tr>\n    <tr>\n      <th>480</th>\n      <td>s481</td>\n      <td>Movie</td>\n      <td>Finding Hubby</td>\n      <td>Femi D. Ogunsanwo</td>\n      <td>Ade Laoye, Munachi Abii, Kehinde Bankole, Char...</td>\n      <td>NaN</td>\n      <td>July 9, 2021</td>\n      <td>2020</td>\n      <td>TV-14</td>\n      <td>105 min</td>\n      <td>Comedies, Dramas, International Movies</td>\n      <td>Oyin and her two close friends are on the hunt...</td>\n    </tr>\n    <tr>\n      <th>1974</th>\n      <td>s1975</td>\n      <td>Movie</td>\n      <td>Saheb Biwi Aur Gangster Returns</td>\n      <td>Tigmanshu Dhulia</td>\n      <td>Irrfan Khan, Jimmy Shergill, Soha Ali Khan, Ma...</td>\n      <td>India</td>\n      <td>September 19, 2020</td>\n      <td>2013</td>\n      <td>TV-MA</td>\n      <td>139 min</td>\n      <td>Dramas, International Movies, Romantic Movies</td>\n      <td>Knotty love triangles and nefarious schemes ar...</td>\n    </tr>\n    <tr>\n      <th>2771</th>\n      <td>s2772</td>\n      <td>Movie</td>\n      <td>Uncorked</td>\n      <td>Prentice Penny</td>\n      <td>Mamoudou Athie, Courtney B. Vance, Niecy Nash,...</td>\n      <td>United States</td>\n      <td>March 27, 2020</td>\n      <td>2020</td>\n      <td>TV-MA</td>\n      <td>104 min</td>\n      <td>Dramas, Independent Movies</td>\n      <td>A young man feels torn between his dream of be...</td>\n    </tr>\n    <tr>\n      <th>226</th>\n      <td>s227</td>\n      <td>TV Show</td>\n      <td>Post Mortem: No One Dies in Skarnes</td>\n      <td>NaN</td>\n      <td>Kathrine Thorborg Johansen, Elias Holmen Søren...</td>\n      <td>NaN</td>\n      <td>August 25, 2021</td>\n      <td>2021</td>\n      <td>TV-MA</td>\n      <td>1 Season</td>\n      <td>International TV Shows, TV Comedies, TV Dramas</td>\n      <td>She's back from the dead and has a newfound th...</td>\n    </tr>\n    <tr>\n      <th>8127</th>\n      <td>s8128</td>\n      <td>Movie</td>\n      <td>Superfly</td>\n      <td>Gordon Parks</td>\n      <td>Ron O'Neal, Carl Lee, Sheila Frazier, Julius H...</td>\n      <td>United States</td>\n      <td>November 1, 2019</td>\n      <td>1972</td>\n      <td>R</td>\n      <td>91 min</td>\n      <td>Action &amp; Adventure, Classic Movies, Dramas</td>\n      <td>To get away from the thug life, cocaine dealer...</td>\n    </tr>\n    <tr>\n      <th>2601</th>\n      <td>s2602</td>\n      <td>Movie</td>\n      <td>Rich in Love</td>\n      <td>Bruno Garotti</td>\n      <td>Danilo Mesquita, Giovanna Lancellotti, Jaffar ...</td>\n      <td>Brazil</td>\n      <td>April 30, 2020</td>\n      <td>2020</td>\n      <td>TV-14</td>\n      <td>105 min</td>\n      <td>Comedies, International Movies, Romantic Movies</td>\n      <td>Rich kid Teto is determined to prove himself t...</td>\n    </tr>\n    <tr>\n      <th>3300</th>\n      <td>s3301</td>\n      <td>Movie</td>\n      <td>Burning Cane</td>\n      <td>Phillip Youmans</td>\n      <td>Wendell Pierce, Karen Kaia Livers, Dominique M...</td>\n      <td>United States</td>\n      <td>November 6, 2019</td>\n      <td>2019</td>\n      <td>TV-MA</td>\n      <td>78 min</td>\n      <td>Dramas</td>\n      <td>A small-town Louisiana minister and one of his...</td>\n    </tr>\n    <tr>\n      <th>951</th>\n      <td>s952</td>\n      <td>Movie</td>\n      <td>The Sweetest Thing</td>\n      <td>Roger Kumble</td>\n      <td>Cameron Diaz, Christina Applegate, Selma Blair...</td>\n      <td>United States</td>\n      <td>May 1, 2021</td>\n      <td>2002</td>\n      <td>R</td>\n      <td>89 min</td>\n      <td>Comedies, Romantic Movies</td>\n      <td>After meeting her potential soul mate, a commi...</td>\n    </tr>\n    <tr>\n      <th>7612</th>\n      <td>s7613</td>\n      <td>Movie</td>\n      <td>NOVA: Killer Volcanoes</td>\n      <td>Oliver Twinch</td>\n      <td>Craig Sechler</td>\n      <td>United States</td>\n      <td>July 1, 2019</td>\n      <td>2017</td>\n      <td>TV-PG</td>\n      <td>54 min</td>\n      <td>Documentaries</td>\n      <td>Evidence of a mysterious medieval famine leads...</td>\n    </tr>\n    <tr>\n      <th>795</th>\n      <td>s796</td>\n      <td>TV Show</td>\n      <td>Happy Endings</td>\n      <td>NaN</td>\n      <td>Eliza Coupe, Elisha Cuthbert, Zachary Knighton...</td>\n      <td>United States</td>\n      <td>June 2, 2021</td>\n      <td>2012</td>\n      <td>TV-14</td>\n      <td>3 Seasons</td>\n      <td>TV Comedies</td>\n      <td>After his fiancée, Alex, dumps him at the alta...</td>\n    </tr>\n    <tr>\n      <th>2588</th>\n      <td>s2589</td>\n      <td>TV Show</td>\n      <td>Oh Yuck</td>\n      <td>NaN</td>\n      <td>Kayne Tremills, Nia Roam, David Collins, Shane...</td>\n      <td>Canada</td>\n      <td>May 1, 2020</td>\n      <td>2020</td>\n      <td>TV-G</td>\n      <td>1 Season</td>\n      <td>Kids' TV, TV Comedies</td>\n      <td>Using a concoction of cartoons, comedy and liv...</td>\n    </tr>\n    <tr>\n      <th>5353</th>\n      <td>s5354</td>\n      <td>Movie</td>\n      <td>Jessica Darling's It List</td>\n      <td>Ali Scher</td>\n      <td>Chloe East, Emma Rayne Lyle, Jane Widdop, Jane...</td>\n      <td>United States</td>\n      <td>August 1, 2017</td>\n      <td>2016</td>\n      <td>TV-Y</td>\n      <td>80 min</td>\n      <td>Children &amp; Family Movies, Comedies</td>\n      <td>Armed with popularity tips from her beautiful ...</td>\n    </tr>\n    <tr>\n      <th>1728</th>\n      <td>s1729</td>\n      <td>Movie</td>\n      <td>The Endless Trench</td>\n      <td>Aitor Arregi, Jon Garaño, Jose Mari Goenaga</td>\n      <td>Antonio de la Torre, Belén Cuesta, Vicente Ver...</td>\n      <td>Spain, France, Canada</td>\n      <td>November 6, 2020</td>\n      <td>2019</td>\n      <td>TV-MA</td>\n      <td>148 min</td>\n      <td>Dramas, Independent Movies, International Movies</td>\n      <td>Fearing retribution, a Republican from the Spa...</td>\n    </tr>\n    <tr>\n      <th>4075</th>\n      <td>s4076</td>\n      <td>Movie</td>\n      <td>My Ex &amp; Whys</td>\n      <td>Cathy Garcia-Molina</td>\n      <td>Liza Soberano, Enrique Gil, Joey Marquez, Cai ...</td>\n      <td>Philippines</td>\n      <td>February 27, 2019</td>\n      <td>2017</td>\n      <td>TV-14</td>\n      <td>121 min</td>\n      <td>Comedies, Dramas, International Movies</td>\n      <td>Popular blogger Cali is hired for a marketing ...</td>\n    </tr>\n    <tr>\n      <th>4264</th>\n      <td>s4265</td>\n      <td>TV Show</td>\n      <td>People Just Do Nothing</td>\n      <td>NaN</td>\n      <td>Allan Mustafa, Hugo Chegwin, Asim Chaudhry, Li...</td>\n      <td>United Kingdom</td>\n      <td>December 22, 2018</td>\n      <td>2018</td>\n      <td>TV-MA</td>\n      <td>5 Seasons</td>\n      <td>British TV Shows, TV Comedies</td>\n      <td>Spinning old-school beats is just another day ...</td>\n    </tr>\n    <tr>\n      <th>2159</th>\n      <td>s2160</td>\n      <td>Movie</td>\n      <td>Work It</td>\n      <td>Laura Terruso</td>\n      <td>Sabrina Carpenter, Jordan Fisher, Liza Koshy, ...</td>\n      <td>United States</td>\n      <td>August 7, 2020</td>\n      <td>2020</td>\n      <td>TV-14</td>\n      <td>94 min</td>\n      <td>Comedies</td>\n      <td>A brilliant but clumsy high school senior vows...</td>\n    </tr>\n    <tr>\n      <th>5785</th>\n      <td>s5786</td>\n      <td>TV Show</td>\n      <td>VeggieTales in the House</td>\n      <td>NaN</td>\n      <td>Phil Vischer, Mike Nawrocki, Rob Paulsen, Tres...</td>\n      <td>United States</td>\n      <td>September 23, 2016</td>\n      <td>2016</td>\n      <td>TV-Y</td>\n      <td>4 Seasons</td>\n      <td>Kids' TV</td>\n      <td>Bob the Tomato, Larry the Cucumber and their V...</td>\n    </tr>\n    <tr>\n      <th>1132</th>\n      <td>s1133</td>\n      <td>Movie</td>\n      <td>Seven Souls in the Skull Castle: Season Wind</td>\n      <td>Hidenori Inoue</td>\n      <td>Kenichi Matsuyama, Osamu Mukai, Rena Tanaka, J...</td>\n      <td>NaN</td>\n      <td>April 1, 2021</td>\n      <td>2017</td>\n      <td>TV-14</td>\n      <td>185 min</td>\n      <td>Action &amp; Adventure, Dramas, International Movies</td>\n      <td>Japan, 1590. Wandering samurai band together t...</td>\n    </tr>\n    <tr>\n      <th>8028</th>\n      <td>s8029</td>\n      <td>Movie</td>\n      <td>Sister Code</td>\n      <td>Corey Grant</td>\n      <td>Drew Sidora, Eva Marcille, Amber Rose, Marcus ...</td>\n      <td>United States</td>\n      <td>February 14, 2016</td>\n      <td>2015</td>\n      <td>R</td>\n      <td>95 min</td>\n      <td>Comedies, Dramas, Romantic Movies</td>\n      <td>After the death of their beloved mother, three...</td>\n    </tr>\n    <tr>\n      <th>7857</th>\n      <td>s7858</td>\n      <td>Movie</td>\n      <td>Resident Evil: Afterlife</td>\n      <td>Paul W.S. Anderson</td>\n      <td>Milla Jovovich, Ali Larter, Kim Coates, Shawn ...</td>\n      <td>Germany, France, United States, Canada, United...</td>\n      <td>January 1, 2020</td>\n      <td>2010</td>\n      <td>R</td>\n      <td>97 min</td>\n      <td>Action &amp; Adventure, Horror Movies, Sci-Fi &amp; Fa...</td>\n      <td>The Undead Apocalypse continues as super-soldi...</td>\n    </tr>\n  </tbody>\n</table>\n</div>"
     },
     "execution_count": 101,
     "metadata": {},
     "output_type": "execute_result"
    }
   ],
   "source": [
    "df.sample(25)"
   ],
   "metadata": {
    "collapsed": false,
    "pycharm": {
     "name": "#%%\n"
    }
   }
  },
  {
   "cell_type": "code",
   "execution_count": 102,
   "outputs": [],
   "source": [
    "df['country'].replace(np.NaN, '', inplace=True)"
   ],
   "metadata": {
    "collapsed": false,
    "pycharm": {
     "name": "#%%\n"
    }
   }
  },
  {
   "cell_type": "code",
   "execution_count": 103,
   "outputs": [
    {
     "data": {
      "text/plain": "       Countries  Count\n0  United States   3690\n1   South Africa     62\n2          India   1046\n3          Ghana      5\n4   Burkina Faso      1",
      "text/html": "<div>\n<style scoped>\n    .dataframe tbody tr th:only-of-type {\n        vertical-align: middle;\n    }\n\n    .dataframe tbody tr th {\n        vertical-align: top;\n    }\n\n    .dataframe thead th {\n        text-align: right;\n    }\n</style>\n<table border=\"1\" class=\"dataframe\">\n  <thead>\n    <tr style=\"text-align: right;\">\n      <th></th>\n      <th>Countries</th>\n      <th>Count</th>\n    </tr>\n  </thead>\n  <tbody>\n    <tr>\n      <th>0</th>\n      <td>United States</td>\n      <td>3690</td>\n    </tr>\n    <tr>\n      <th>1</th>\n      <td>South Africa</td>\n      <td>62</td>\n    </tr>\n    <tr>\n      <th>2</th>\n      <td>India</td>\n      <td>1046</td>\n    </tr>\n    <tr>\n      <th>3</th>\n      <td>Ghana</td>\n      <td>5</td>\n    </tr>\n    <tr>\n      <th>4</th>\n      <td>Burkina Faso</td>\n      <td>1</td>\n    </tr>\n  </tbody>\n</table>\n</div>"
     },
     "execution_count": 103,
     "metadata": {},
     "output_type": "execute_result"
    }
   ],
   "source": [
    "dct = {}\n",
    "for val in df['country']:\n",
    "    if ',' in val:\n",
    "        l = val.replace(' ,', ',').replace(', ', ',').split(',')\n",
    "        for v in l:\n",
    "            if v in dct:\n",
    "                dct[v] = dct[v] + 1\n",
    "            else:\n",
    "                dct[v] = 1\n",
    "    else:\n",
    "        if val in dct:\n",
    "            dct[val] = dct[val] + 1\n",
    "        else:\n",
    "            dct[val] = 1\n",
    "dct.pop('')\n",
    "d = {'Countries': [*dct], 'Count': [dct[key] for key in dct]}\n",
    "df_countries = pd.DataFrame(data=d)\n",
    "\n",
    "df_countries.head()"
   ],
   "metadata": {
    "collapsed": false,
    "pycharm": {
     "name": "#%%\n"
    }
   }
  },
  {
   "cell_type": "code",
   "execution_count": 104,
   "outputs": [
    {
     "data": {
      "text/plain": "       Countries  Count iso_alpha\n0  United States   3690       USA\n1   South Africa     62       ZAF\n2          India   1046       IND\n3          Ghana      5       GHA\n4   Burkina Faso      1       BFA",
      "text/html": "<div>\n<style scoped>\n    .dataframe tbody tr th:only-of-type {\n        vertical-align: middle;\n    }\n\n    .dataframe tbody tr th {\n        vertical-align: top;\n    }\n\n    .dataframe thead th {\n        text-align: right;\n    }\n</style>\n<table border=\"1\" class=\"dataframe\">\n  <thead>\n    <tr style=\"text-align: right;\">\n      <th></th>\n      <th>Countries</th>\n      <th>Count</th>\n      <th>iso_alpha</th>\n    </tr>\n  </thead>\n  <tbody>\n    <tr>\n      <th>0</th>\n      <td>United States</td>\n      <td>3690</td>\n      <td>USA</td>\n    </tr>\n    <tr>\n      <th>1</th>\n      <td>South Africa</td>\n      <td>62</td>\n      <td>ZAF</td>\n    </tr>\n    <tr>\n      <th>2</th>\n      <td>India</td>\n      <td>1046</td>\n      <td>IND</td>\n    </tr>\n    <tr>\n      <th>3</th>\n      <td>Ghana</td>\n      <td>5</td>\n      <td>GHA</td>\n    </tr>\n    <tr>\n      <th>4</th>\n      <td>Burkina Faso</td>\n      <td>1</td>\n      <td>BFA</td>\n    </tr>\n  </tbody>\n</table>\n</div>"
     },
     "execution_count": 104,
     "metadata": {},
     "output_type": "execute_result"
    }
   ],
   "source": [
    "import pycountry\n",
    "\n",
    "input_countries = [*dct]\n",
    "\n",
    "countries = {}\n",
    "for country in pycountry.countries:\n",
    "    countries[country.name] = country.alpha_3\n",
    "\n",
    "codes = [countries.get(country, 'Unknown code') for country in input_countries]\n",
    "\n",
    "df_countries = df_countries.assign(iso_alpha=codes)\n",
    "\n",
    "df_countries.head()"
   ],
   "metadata": {
    "collapsed": false,
    "pycharm": {
     "name": "#%%\n"
    }
   }
  },
  {
   "cell_type": "code",
   "execution_count": 112,
   "outputs": [],
   "source": [
    "df_countries.to_csv(r'..\\data\\netflix-countries.csv', sep=',', index=False)\n",
    "df.to_csv(r'..\\data\\netflix.csv', sep=',', index=False)"
   ],
   "metadata": {
    "collapsed": false,
    "pycharm": {
     "name": "#%%\n"
    }
   }
  }
 ],
 "metadata": {
  "kernelspec": {
   "display_name": "Python 3",
   "language": "python",
   "name": "python3"
  },
  "language_info": {
   "codemirror_mode": {
    "name": "ipython",
    "version": 2
   },
   "file_extension": ".py",
   "mimetype": "text/x-python",
   "name": "python",
   "nbconvert_exporter": "python",
   "pygments_lexer": "ipython2",
   "version": "2.7.6"
  }
 },
 "nbformat": 4,
 "nbformat_minor": 0
}