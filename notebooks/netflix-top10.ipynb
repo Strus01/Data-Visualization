{
 "cells": [
  {
   "cell_type": "code",
   "execution_count": 347,
   "metadata": {
    "collapsed": true
   },
   "outputs": [],
   "source": [
    "import pandas as pd\n",
    "import numpy as np\n"
   ]
  },
  {
   "cell_type": "code",
   "execution_count": 348,
   "outputs": [],
   "source": [
    "df = pd.read_csv(r'..\\data\\netflix daily top 10.csv')"
   ],
   "metadata": {
    "collapsed": false,
    "pycharm": {
     "name": "#%%\n"
    }
   }
  },
  {
   "cell_type": "code",
   "execution_count": 349,
   "outputs": [
    {
     "name": "stdout",
     "output_type": "stream",
     "text": [
      "<class 'pandas.core.frame.DataFrame'>\n",
      "RangeIndex: 7100 entries, 0 to 7099\n",
      "Data columns (total 10 columns):\n",
      " #   Column                Non-Null Count  Dtype \n",
      "---  ------                --------------  ----- \n",
      " 0   As of                 7100 non-null   object\n",
      " 1   Rank                  7100 non-null   int64 \n",
      " 2   Year to Date Rank     7100 non-null   object\n",
      " 3   Last Week Rank        7100 non-null   object\n",
      " 4   Title                 7100 non-null   object\n",
      " 5   Type                  7100 non-null   object\n",
      " 6   Netflix Exclusive     4599 non-null   object\n",
      " 7   Netflix Release Date  7100 non-null   object\n",
      " 8   Days In Top 10        7100 non-null   int64 \n",
      " 9   Viewership Score      7100 non-null   int64 \n",
      "dtypes: int64(3), object(7)\n",
      "memory usage: 554.8+ KB\n"
     ]
    }
   ],
   "source": [
    "df.info()"
   ],
   "metadata": {
    "collapsed": false,
    "pycharm": {
     "name": "#%%\n"
    }
   }
  },
  {
   "cell_type": "code",
   "execution_count": 350,
   "outputs": [
    {
     "data": {
      "text/plain": "As of                      0\nRank                       0\nYear to Date Rank          0\nLast Week Rank             0\nTitle                      0\nType                       0\nNetflix Exclusive       2501\nNetflix Release Date       0\nDays In Top 10             0\nViewership Score           0\ndtype: int64"
     },
     "execution_count": 350,
     "metadata": {},
     "output_type": "execute_result"
    }
   ],
   "source": [
    "df.isnull().sum()"
   ],
   "metadata": {
    "collapsed": false,
    "pycharm": {
     "name": "#%%\n"
    }
   }
  },
  {
   "cell_type": "code",
   "execution_count": 351,
   "outputs": [],
   "source": [
    "df.replace('â', '\\'', inplace=True)"
   ],
   "metadata": {
    "collapsed": false,
    "pycharm": {
     "name": "#%%\n"
    }
   }
  },
  {
   "cell_type": "code",
   "execution_count": 352,
   "outputs": [
    {
     "data": {
      "text/plain": "895     Yes\n153     Yes\n3245    Yes\n6098    NaN\n6453    Yes\n3420    Yes\n4371    NaN\n6062    Yes\n5251    Yes\n32      Yes\nName: Netflix Exclusive, dtype: object"
     },
     "execution_count": 352,
     "metadata": {},
     "output_type": "execute_result"
    }
   ],
   "source": [
    "df['Netflix Exclusive'].sample(10)"
   ],
   "metadata": {
    "collapsed": false,
    "pycharm": {
     "name": "#%%\n"
    }
   }
  },
  {
   "cell_type": "code",
   "execution_count": 353,
   "outputs": [],
   "source": [
    "df['Netflix Exclusive'].replace(np.NaN, 'No', inplace=True)"
   ],
   "metadata": {
    "collapsed": false,
    "pycharm": {
     "name": "#%%\n"
    }
   }
  },
  {
   "cell_type": "code",
   "execution_count": 354,
   "outputs": [
    {
     "data": {
      "text/plain": "           As of  Rank Year to Date Rank Last Week Rank  \\\n6374  2021-12-29     5                 5              2   \n3761  2021-04-12     2                 2              -   \n5712  2021-10-24     3                 3              3   \n596   2020-05-30     7                 6              4   \n3710  2021-04-07     1                 1              -   \n4023  2021-05-08     4                 3              -   \n4746  2021-07-19     7                 4              -   \n7067  2022-03-08     8                 8              -   \n5499  2021-10-02    10                 6              3   \n1891  2020-10-07     2                 2              -   \n\n                             Title     Type Netflix Exclusive  \\\n6374              The Unforgivable    Movie               Yes   \n3761  This is a Robbery: The Worl…  TV Show               Yes   \n5712                          Maid  TV Show               Yes   \n596                      Riverdale  TV Show                No   \n3710               What Lies Below    Movie                No   \n4023            Selena: The Series  TV Show               Yes   \n4746      Fear Street Part 3: 1666    Movie               Yes   \n7067                       Shrek 2    Movie                No   \n5499                 Sex Education  TV Show               Yes   \n1891                Emily in Paris  TV Show               Yes   \n\n     Netflix Release Date  Days In Top 10  Viewership Score  \n6374         Dec 10, 2021              19               160  \n3761          Apr 7, 2021               4                34  \n5712          Oct 1, 2021              23               192  \n596          May 19, 2017              16                96  \n3710          Apr 4, 2021               3                28  \n4023          Dec 4, 2020              15               117  \n4746         Jul 16, 2021               3                19  \n7067          Mar 1, 2022               7                25  \n5499         Jan 11, 2019              14                99  \n1891          Oct 2, 2020               5                43  ",
      "text/html": "<div>\n<style scoped>\n    .dataframe tbody tr th:only-of-type {\n        vertical-align: middle;\n    }\n\n    .dataframe tbody tr th {\n        vertical-align: top;\n    }\n\n    .dataframe thead th {\n        text-align: right;\n    }\n</style>\n<table border=\"1\" class=\"dataframe\">\n  <thead>\n    <tr style=\"text-align: right;\">\n      <th></th>\n      <th>As of</th>\n      <th>Rank</th>\n      <th>Year to Date Rank</th>\n      <th>Last Week Rank</th>\n      <th>Title</th>\n      <th>Type</th>\n      <th>Netflix Exclusive</th>\n      <th>Netflix Release Date</th>\n      <th>Days In Top 10</th>\n      <th>Viewership Score</th>\n    </tr>\n  </thead>\n  <tbody>\n    <tr>\n      <th>6374</th>\n      <td>2021-12-29</td>\n      <td>5</td>\n      <td>5</td>\n      <td>2</td>\n      <td>The Unforgivable</td>\n      <td>Movie</td>\n      <td>Yes</td>\n      <td>Dec 10, 2021</td>\n      <td>19</td>\n      <td>160</td>\n    </tr>\n    <tr>\n      <th>3761</th>\n      <td>2021-04-12</td>\n      <td>2</td>\n      <td>2</td>\n      <td>-</td>\n      <td>This is a Robbery: The Worl…</td>\n      <td>TV Show</td>\n      <td>Yes</td>\n      <td>Apr 7, 2021</td>\n      <td>4</td>\n      <td>34</td>\n    </tr>\n    <tr>\n      <th>5712</th>\n      <td>2021-10-24</td>\n      <td>3</td>\n      <td>3</td>\n      <td>3</td>\n      <td>Maid</td>\n      <td>TV Show</td>\n      <td>Yes</td>\n      <td>Oct 1, 2021</td>\n      <td>23</td>\n      <td>192</td>\n    </tr>\n    <tr>\n      <th>596</th>\n      <td>2020-05-30</td>\n      <td>7</td>\n      <td>6</td>\n      <td>4</td>\n      <td>Riverdale</td>\n      <td>TV Show</td>\n      <td>No</td>\n      <td>May 19, 2017</td>\n      <td>16</td>\n      <td>96</td>\n    </tr>\n    <tr>\n      <th>3710</th>\n      <td>2021-04-07</td>\n      <td>1</td>\n      <td>1</td>\n      <td>-</td>\n      <td>What Lies Below</td>\n      <td>Movie</td>\n      <td>No</td>\n      <td>Apr 4, 2021</td>\n      <td>3</td>\n      <td>28</td>\n    </tr>\n    <tr>\n      <th>4023</th>\n      <td>2021-05-08</td>\n      <td>4</td>\n      <td>3</td>\n      <td>-</td>\n      <td>Selena: The Series</td>\n      <td>TV Show</td>\n      <td>Yes</td>\n      <td>Dec 4, 2020</td>\n      <td>15</td>\n      <td>117</td>\n    </tr>\n    <tr>\n      <th>4746</th>\n      <td>2021-07-19</td>\n      <td>7</td>\n      <td>4</td>\n      <td>-</td>\n      <td>Fear Street Part 3: 1666</td>\n      <td>Movie</td>\n      <td>Yes</td>\n      <td>Jul 16, 2021</td>\n      <td>3</td>\n      <td>19</td>\n    </tr>\n    <tr>\n      <th>7067</th>\n      <td>2022-03-08</td>\n      <td>8</td>\n      <td>8</td>\n      <td>-</td>\n      <td>Shrek 2</td>\n      <td>Movie</td>\n      <td>No</td>\n      <td>Mar 1, 2022</td>\n      <td>7</td>\n      <td>25</td>\n    </tr>\n    <tr>\n      <th>5499</th>\n      <td>2021-10-02</td>\n      <td>10</td>\n      <td>6</td>\n      <td>3</td>\n      <td>Sex Education</td>\n      <td>TV Show</td>\n      <td>Yes</td>\n      <td>Jan 11, 2019</td>\n      <td>14</td>\n      <td>99</td>\n    </tr>\n    <tr>\n      <th>1891</th>\n      <td>2020-10-07</td>\n      <td>2</td>\n      <td>2</td>\n      <td>-</td>\n      <td>Emily in Paris</td>\n      <td>TV Show</td>\n      <td>Yes</td>\n      <td>Oct 2, 2020</td>\n      <td>5</td>\n      <td>43</td>\n    </tr>\n  </tbody>\n</table>\n</div>"
     },
     "execution_count": 354,
     "metadata": {},
     "output_type": "execute_result"
    }
   ],
   "source": [
    "df.sample(10)"
   ],
   "metadata": {
    "collapsed": false,
    "pycharm": {
     "name": "#%%\n"
    }
   }
  },
  {
   "cell_type": "code",
   "execution_count": 355,
   "outputs": [],
   "source": [
    "df['Last Week Rank'].replace('-', '0', inplace=True)\n",
    "df['Year to Date Rank'].replace('-', '0', inplace=True)"
   ],
   "metadata": {
    "collapsed": false,
    "pycharm": {
     "name": "#%%\n"
    }
   }
  },
  {
   "cell_type": "code",
   "execution_count": 356,
   "outputs": [
    {
     "data": {
      "text/plain": "1866     0\n2131    10\n2253     8\n6778     0\n5093     0\n3051     0\n5790     0\n1648     0\n6782     3\n5502     0\nName: Last Week Rank, dtype: object"
     },
     "execution_count": 356,
     "metadata": {},
     "output_type": "execute_result"
    }
   ],
   "source": [
    "df['Last Week Rank'].sample(10)"
   ],
   "metadata": {
    "collapsed": false,
    "pycharm": {
     "name": "#%%\n"
    }
   }
  },
  {
   "cell_type": "code",
   "execution_count": 357,
   "outputs": [],
   "source": [
    "df['Year to Date Rank'] = pd.to_numeric(df['Year to Date Rank'], errors='coerce')\n",
    "df['Last Week Rank'] = pd.to_numeric(df['Last Week Rank'], errors='coerce')"
   ],
   "metadata": {
    "collapsed": false,
    "pycharm": {
     "name": "#%%\n"
    }
   }
  },
  {
   "cell_type": "code",
   "execution_count": 358,
   "outputs": [
    {
     "name": "stdout",
     "output_type": "stream",
     "text": [
      "<class 'pandas.core.frame.DataFrame'>\n",
      "RangeIndex: 7100 entries, 0 to 7099\n",
      "Data columns (total 10 columns):\n",
      " #   Column                Non-Null Count  Dtype \n",
      "---  ------                --------------  ----- \n",
      " 0   As of                 7100 non-null   object\n",
      " 1   Rank                  7100 non-null   int64 \n",
      " 2   Year to Date Rank     7100 non-null   int64 \n",
      " 3   Last Week Rank        7100 non-null   int64 \n",
      " 4   Title                 7100 non-null   object\n",
      " 5   Type                  7100 non-null   object\n",
      " 6   Netflix Exclusive     7100 non-null   object\n",
      " 7   Netflix Release Date  7100 non-null   object\n",
      " 8   Days In Top 10        7100 non-null   int64 \n",
      " 9   Viewership Score      7100 non-null   int64 \n",
      "dtypes: int64(5), object(5)\n",
      "memory usage: 554.8+ KB\n"
     ]
    }
   ],
   "source": [
    "df.info()"
   ],
   "metadata": {
    "collapsed": false,
    "pycharm": {
     "name": "#%%\n"
    }
   }
  },
  {
   "cell_type": "code",
   "execution_count": 359,
   "outputs": [
    {
     "name": "stdout",
     "output_type": "stream",
     "text": [
      "<class 'pandas.core.frame.DataFrame'>\n",
      "RangeIndex: 7100 entries, 0 to 7099\n",
      "Data columns (total 10 columns):\n",
      " #   Column                Non-Null Count  Dtype \n",
      "---  ------                --------------  ----- \n",
      " 0   As of                 7100 non-null   object\n",
      " 1   Rank                  7100 non-null   int64 \n",
      " 2   Year to Date Rank     7100 non-null   int64 \n",
      " 3   Last Week Rank        7100 non-null   int64 \n",
      " 4   Title                 7100 non-null   object\n",
      " 5   Type                  7100 non-null   object\n",
      " 6   Netflix Exclusive     7100 non-null   object\n",
      " 7   Netflix Release Date  7100 non-null   object\n",
      " 8   Days In Top 10        7100 non-null   int64 \n",
      " 9   Viewership Score      7100 non-null   int64 \n",
      "dtypes: int64(5), object(5)\n",
      "memory usage: 554.8+ KB\n"
     ]
    }
   ],
   "source": [
    "df.info()"
   ],
   "metadata": {
    "collapsed": false,
    "pycharm": {
     "name": "#%%\n"
    }
   }
  },
  {
   "cell_type": "code",
   "execution_count": 360,
   "outputs": [
    {
     "data": {
      "text/plain": "              Rank  Year to Date Rank  Last Week Rank  Days In Top 10  \\\ncount  7100.000000        7100.000000     7100.000000     7100.000000   \nmean      5.500000           4.439296        1.737324       24.123662   \nstd       2.872484           3.041267        2.620020       58.473789   \nmin       1.000000           0.000000        0.000000        1.000000   \n25%       3.000000           2.000000        0.000000        3.000000   \n50%       5.500000           4.000000        0.000000        7.000000   \n75%       8.000000           7.000000        3.000000       18.000000   \nmax      10.000000          10.000000       10.000000      428.000000   \n\n       Viewership Score  \ncount       7100.000000  \nmean         122.790141  \nstd          213.861642  \nmin            1.000000  \n25%           19.000000  \n50%           50.000000  \n75%          128.000000  \nmax         1474.000000  ",
      "text/html": "<div>\n<style scoped>\n    .dataframe tbody tr th:only-of-type {\n        vertical-align: middle;\n    }\n\n    .dataframe tbody tr th {\n        vertical-align: top;\n    }\n\n    .dataframe thead th {\n        text-align: right;\n    }\n</style>\n<table border=\"1\" class=\"dataframe\">\n  <thead>\n    <tr style=\"text-align: right;\">\n      <th></th>\n      <th>Rank</th>\n      <th>Year to Date Rank</th>\n      <th>Last Week Rank</th>\n      <th>Days In Top 10</th>\n      <th>Viewership Score</th>\n    </tr>\n  </thead>\n  <tbody>\n    <tr>\n      <th>count</th>\n      <td>7100.000000</td>\n      <td>7100.000000</td>\n      <td>7100.000000</td>\n      <td>7100.000000</td>\n      <td>7100.000000</td>\n    </tr>\n    <tr>\n      <th>mean</th>\n      <td>5.500000</td>\n      <td>4.439296</td>\n      <td>1.737324</td>\n      <td>24.123662</td>\n      <td>122.790141</td>\n    </tr>\n    <tr>\n      <th>std</th>\n      <td>2.872484</td>\n      <td>3.041267</td>\n      <td>2.620020</td>\n      <td>58.473789</td>\n      <td>213.861642</td>\n    </tr>\n    <tr>\n      <th>min</th>\n      <td>1.000000</td>\n      <td>0.000000</td>\n      <td>0.000000</td>\n      <td>1.000000</td>\n      <td>1.000000</td>\n    </tr>\n    <tr>\n      <th>25%</th>\n      <td>3.000000</td>\n      <td>2.000000</td>\n      <td>0.000000</td>\n      <td>3.000000</td>\n      <td>19.000000</td>\n    </tr>\n    <tr>\n      <th>50%</th>\n      <td>5.500000</td>\n      <td>4.000000</td>\n      <td>0.000000</td>\n      <td>7.000000</td>\n      <td>50.000000</td>\n    </tr>\n    <tr>\n      <th>75%</th>\n      <td>8.000000</td>\n      <td>7.000000</td>\n      <td>3.000000</td>\n      <td>18.000000</td>\n      <td>128.000000</td>\n    </tr>\n    <tr>\n      <th>max</th>\n      <td>10.000000</td>\n      <td>10.000000</td>\n      <td>10.000000</td>\n      <td>428.000000</td>\n      <td>1474.000000</td>\n    </tr>\n  </tbody>\n</table>\n</div>"
     },
     "execution_count": 360,
     "metadata": {},
     "output_type": "execute_result"
    }
   ],
   "source": [
    "df.describe()"
   ],
   "metadata": {
    "collapsed": false,
    "pycharm": {
     "name": "#%%\n"
    }
   }
  },
  {
   "cell_type": "code",
   "execution_count": 361,
   "outputs": [
    {
     "data": {
      "text/plain": "           As of  Rank  Year to Date Rank  Last Week Rank  \\\n2569  2020-12-13    10                  9               8   \n2577  2020-12-14     8                 10               7   \n2588  2020-12-15     9                  8               6   \n2598  2020-12-16     9                  9               6   \n2608  2020-12-17     9                  9               7   \n...          ...   ...                ...             ...   \n6954  2022-02-25     5                  5               5   \n6967  2022-02-26     8                  5               8   \n6979  2022-02-27    10                  8               7   \n6986  2022-02-28     7                 10               7   \n6996  2022-03-01     7                  7               8   \n\n                     Title     Type Netflix Exclusive Netflix Release Date  \\\n2569  The Queenâs Gambit  TV Show               Yes         Oct 23, 2020   \n2577  The Queenâs Gambit  TV Show               Yes         Oct 23, 2020   \n2588  The Queenâs Gambit  TV Show               Yes         Oct 23, 2020   \n2598  The Queenâs Gambit  TV Show               Yes         Oct 23, 2020   \n2608  The Queenâs Gambit  TV Show               Yes         Oct 23, 2020   \n...                    ...      ...               ...                  ...   \n6954                 Ozark  TV Show               Yes         Jul 21, 2017   \n6967                 Ozark  TV Show               Yes         Jul 21, 2017   \n6979                 Ozark  TV Show               Yes         Jul 21, 2017   \n6986                 Ozark  TV Show               Yes         Jul 21, 2017   \n6996                 Ozark  TV Show               Yes         Jul 21, 2017   \n\n      Days In Top 10  Viewership Score  \n2569              51               392  \n2577              52               395  \n2588              53               397  \n2598              54               399  \n2608              55               401  \n...              ...               ...  \n6954              85               524  \n6967              86               527  \n6979              87               528  \n6986              88               532  \n6996              89               536  \n\n[197 rows x 10 columns]",
      "text/html": "<div>\n<style scoped>\n    .dataframe tbody tr th:only-of-type {\n        vertical-align: middle;\n    }\n\n    .dataframe tbody tr th {\n        vertical-align: top;\n    }\n\n    .dataframe thead th {\n        text-align: right;\n    }\n</style>\n<table border=\"1\" class=\"dataframe\">\n  <thead>\n    <tr style=\"text-align: right;\">\n      <th></th>\n      <th>As of</th>\n      <th>Rank</th>\n      <th>Year to Date Rank</th>\n      <th>Last Week Rank</th>\n      <th>Title</th>\n      <th>Type</th>\n      <th>Netflix Exclusive</th>\n      <th>Netflix Release Date</th>\n      <th>Days In Top 10</th>\n      <th>Viewership Score</th>\n    </tr>\n  </thead>\n  <tbody>\n    <tr>\n      <th>2569</th>\n      <td>2020-12-13</td>\n      <td>10</td>\n      <td>9</td>\n      <td>8</td>\n      <td>The Queenâs Gambit</td>\n      <td>TV Show</td>\n      <td>Yes</td>\n      <td>Oct 23, 2020</td>\n      <td>51</td>\n      <td>392</td>\n    </tr>\n    <tr>\n      <th>2577</th>\n      <td>2020-12-14</td>\n      <td>8</td>\n      <td>10</td>\n      <td>7</td>\n      <td>The Queenâs Gambit</td>\n      <td>TV Show</td>\n      <td>Yes</td>\n      <td>Oct 23, 2020</td>\n      <td>52</td>\n      <td>395</td>\n    </tr>\n    <tr>\n      <th>2588</th>\n      <td>2020-12-15</td>\n      <td>9</td>\n      <td>8</td>\n      <td>6</td>\n      <td>The Queenâs Gambit</td>\n      <td>TV Show</td>\n      <td>Yes</td>\n      <td>Oct 23, 2020</td>\n      <td>53</td>\n      <td>397</td>\n    </tr>\n    <tr>\n      <th>2598</th>\n      <td>2020-12-16</td>\n      <td>9</td>\n      <td>9</td>\n      <td>6</td>\n      <td>The Queenâs Gambit</td>\n      <td>TV Show</td>\n      <td>Yes</td>\n      <td>Oct 23, 2020</td>\n      <td>54</td>\n      <td>399</td>\n    </tr>\n    <tr>\n      <th>2608</th>\n      <td>2020-12-17</td>\n      <td>9</td>\n      <td>9</td>\n      <td>7</td>\n      <td>The Queenâs Gambit</td>\n      <td>TV Show</td>\n      <td>Yes</td>\n      <td>Oct 23, 2020</td>\n      <td>55</td>\n      <td>401</td>\n    </tr>\n    <tr>\n      <th>...</th>\n      <td>...</td>\n      <td>...</td>\n      <td>...</td>\n      <td>...</td>\n      <td>...</td>\n      <td>...</td>\n      <td>...</td>\n      <td>...</td>\n      <td>...</td>\n      <td>...</td>\n    </tr>\n    <tr>\n      <th>6954</th>\n      <td>2022-02-25</td>\n      <td>5</td>\n      <td>5</td>\n      <td>5</td>\n      <td>Ozark</td>\n      <td>TV Show</td>\n      <td>Yes</td>\n      <td>Jul 21, 2017</td>\n      <td>85</td>\n      <td>524</td>\n    </tr>\n    <tr>\n      <th>6967</th>\n      <td>2022-02-26</td>\n      <td>8</td>\n      <td>5</td>\n      <td>8</td>\n      <td>Ozark</td>\n      <td>TV Show</td>\n      <td>Yes</td>\n      <td>Jul 21, 2017</td>\n      <td>86</td>\n      <td>527</td>\n    </tr>\n    <tr>\n      <th>6979</th>\n      <td>2022-02-27</td>\n      <td>10</td>\n      <td>8</td>\n      <td>7</td>\n      <td>Ozark</td>\n      <td>TV Show</td>\n      <td>Yes</td>\n      <td>Jul 21, 2017</td>\n      <td>87</td>\n      <td>528</td>\n    </tr>\n    <tr>\n      <th>6986</th>\n      <td>2022-02-28</td>\n      <td>7</td>\n      <td>10</td>\n      <td>7</td>\n      <td>Ozark</td>\n      <td>TV Show</td>\n      <td>Yes</td>\n      <td>Jul 21, 2017</td>\n      <td>88</td>\n      <td>532</td>\n    </tr>\n    <tr>\n      <th>6996</th>\n      <td>2022-03-01</td>\n      <td>7</td>\n      <td>7</td>\n      <td>8</td>\n      <td>Ozark</td>\n      <td>TV Show</td>\n      <td>Yes</td>\n      <td>Jul 21, 2017</td>\n      <td>89</td>\n      <td>536</td>\n    </tr>\n  </tbody>\n</table>\n<p>197 rows × 10 columns</p>\n</div>"
     },
     "execution_count": 361,
     "metadata": {},
     "output_type": "execute_result"
    }
   ],
   "source": [
    "df[(df['Days In Top 10'] > 50) & (df['Title'] != 'Cocomelon')]"
   ],
   "metadata": {
    "collapsed": false,
    "pycharm": {
     "name": "#%%\n"
    }
   }
  },
  {
   "cell_type": "code",
   "execution_count": 362,
   "outputs": [
    {
     "data": {
      "text/plain": "array(['TV Show', 'Movie', 'Stand-Up Comedy', 'Concert/Perf…'],\n      dtype=object)"
     },
     "execution_count": 362,
     "metadata": {},
     "output_type": "execute_result"
    }
   ],
   "source": [
    "df['Type'].unique()"
   ],
   "metadata": {
    "collapsed": false,
    "pycharm": {
     "name": "#%%\n"
    }
   }
  },
  {
   "cell_type": "code",
   "execution_count": 363,
   "outputs": [],
   "source": [
    "df.replace('Stand-Up Comedy', 'TV Show', inplace=True)\n",
    "df.replace('Concert/Perf…', 'TV Show', inplace=True)"
   ],
   "metadata": {
    "collapsed": false,
    "pycharm": {
     "name": "#%%\n"
    }
   }
  },
  {
   "cell_type": "code",
   "execution_count": 364,
   "outputs": [
    {
     "data": {
      "text/plain": "array(['TV Show', 'Movie'], dtype=object)"
     },
     "execution_count": 364,
     "metadata": {},
     "output_type": "execute_result"
    }
   ],
   "source": [
    "df.Type.unique()"
   ],
   "metadata": {
    "collapsed": false,
    "pycharm": {
     "name": "#%%\n"
    }
   }
  },
  {
   "cell_type": "code",
   "execution_count": 365,
   "outputs": [],
   "source": [
    "df1 = df.copy()"
   ],
   "metadata": {
    "collapsed": false,
    "pycharm": {
     "name": "#%%\n"
    }
   }
  },
  {
   "cell_type": "code",
   "execution_count": 366,
   "outputs": [
    {
     "data": {
      "text/plain": "           As of  Rank  Year to Date Rank  Last Week Rank      Title     Type  \\\n6998  2022-03-01     9                  0               0  Cocomelon  TV Show   \n6959  2022-02-25    10                  0               0  Cocomelon  TV Show   \n6718  2022-02-01     9                  0               7  Cocomelon  TV Show   \n6687  2022-01-29     8                  5               8  Cocomelon  TV Show   \n6674  2022-01-28     5                  6               0  Cocomelon  TV Show   \n6665  2022-01-27     6                  6               0  Cocomelon  TV Show   \n6655  2022-01-26     6                  7               0  Cocomelon  TV Show   \n6646  2022-01-25     7                 10               0  Cocomelon  TV Show   \n6639  2022-01-24    10                  0               0  Cocomelon  TV Show   \n6617  2022-01-22     8                  0              10  Cocomelon  TV Show   \n\n     Netflix Exclusive Netflix Release Date  Days In Top 10  Viewership Score  \n6998                No          Jun 1, 2020             428              1474  \n6959                No          Jun 1, 2020             427              1472  \n6718                No          Jun 1, 2020             426              1471  \n6687                No          Jun 1, 2020             425              1469  \n6674                No          Jun 1, 2020             424              1466  \n6665                No          Jun 1, 2020             423              1460  \n6655                No          Jun 1, 2020             422              1455  \n6646                No          Jun 1, 2020             421              1450  \n6639                No          Jun 1, 2020             420              1446  \n6617                No          Jun 1, 2020             419              1445  ",
      "text/html": "<div>\n<style scoped>\n    .dataframe tbody tr th:only-of-type {\n        vertical-align: middle;\n    }\n\n    .dataframe tbody tr th {\n        vertical-align: top;\n    }\n\n    .dataframe thead th {\n        text-align: right;\n    }\n</style>\n<table border=\"1\" class=\"dataframe\">\n  <thead>\n    <tr style=\"text-align: right;\">\n      <th></th>\n      <th>As of</th>\n      <th>Rank</th>\n      <th>Year to Date Rank</th>\n      <th>Last Week Rank</th>\n      <th>Title</th>\n      <th>Type</th>\n      <th>Netflix Exclusive</th>\n      <th>Netflix Release Date</th>\n      <th>Days In Top 10</th>\n      <th>Viewership Score</th>\n    </tr>\n  </thead>\n  <tbody>\n    <tr>\n      <th>6998</th>\n      <td>2022-03-01</td>\n      <td>9</td>\n      <td>0</td>\n      <td>0</td>\n      <td>Cocomelon</td>\n      <td>TV Show</td>\n      <td>No</td>\n      <td>Jun 1, 2020</td>\n      <td>428</td>\n      <td>1474</td>\n    </tr>\n    <tr>\n      <th>6959</th>\n      <td>2022-02-25</td>\n      <td>10</td>\n      <td>0</td>\n      <td>0</td>\n      <td>Cocomelon</td>\n      <td>TV Show</td>\n      <td>No</td>\n      <td>Jun 1, 2020</td>\n      <td>427</td>\n      <td>1472</td>\n    </tr>\n    <tr>\n      <th>6718</th>\n      <td>2022-02-01</td>\n      <td>9</td>\n      <td>0</td>\n      <td>7</td>\n      <td>Cocomelon</td>\n      <td>TV Show</td>\n      <td>No</td>\n      <td>Jun 1, 2020</td>\n      <td>426</td>\n      <td>1471</td>\n    </tr>\n    <tr>\n      <th>6687</th>\n      <td>2022-01-29</td>\n      <td>8</td>\n      <td>5</td>\n      <td>8</td>\n      <td>Cocomelon</td>\n      <td>TV Show</td>\n      <td>No</td>\n      <td>Jun 1, 2020</td>\n      <td>425</td>\n      <td>1469</td>\n    </tr>\n    <tr>\n      <th>6674</th>\n      <td>2022-01-28</td>\n      <td>5</td>\n      <td>6</td>\n      <td>0</td>\n      <td>Cocomelon</td>\n      <td>TV Show</td>\n      <td>No</td>\n      <td>Jun 1, 2020</td>\n      <td>424</td>\n      <td>1466</td>\n    </tr>\n    <tr>\n      <th>6665</th>\n      <td>2022-01-27</td>\n      <td>6</td>\n      <td>6</td>\n      <td>0</td>\n      <td>Cocomelon</td>\n      <td>TV Show</td>\n      <td>No</td>\n      <td>Jun 1, 2020</td>\n      <td>423</td>\n      <td>1460</td>\n    </tr>\n    <tr>\n      <th>6655</th>\n      <td>2022-01-26</td>\n      <td>6</td>\n      <td>7</td>\n      <td>0</td>\n      <td>Cocomelon</td>\n      <td>TV Show</td>\n      <td>No</td>\n      <td>Jun 1, 2020</td>\n      <td>422</td>\n      <td>1455</td>\n    </tr>\n    <tr>\n      <th>6646</th>\n      <td>2022-01-25</td>\n      <td>7</td>\n      <td>10</td>\n      <td>0</td>\n      <td>Cocomelon</td>\n      <td>TV Show</td>\n      <td>No</td>\n      <td>Jun 1, 2020</td>\n      <td>421</td>\n      <td>1450</td>\n    </tr>\n    <tr>\n      <th>6639</th>\n      <td>2022-01-24</td>\n      <td>10</td>\n      <td>0</td>\n      <td>0</td>\n      <td>Cocomelon</td>\n      <td>TV Show</td>\n      <td>No</td>\n      <td>Jun 1, 2020</td>\n      <td>420</td>\n      <td>1446</td>\n    </tr>\n    <tr>\n      <th>6617</th>\n      <td>2022-01-22</td>\n      <td>8</td>\n      <td>0</td>\n      <td>10</td>\n      <td>Cocomelon</td>\n      <td>TV Show</td>\n      <td>No</td>\n      <td>Jun 1, 2020</td>\n      <td>419</td>\n      <td>1445</td>\n    </tr>\n  </tbody>\n</table>\n</div>"
     },
     "execution_count": 366,
     "metadata": {},
     "output_type": "execute_result"
    }
   ],
   "source": [
    "df1.sort_values(by='Days In Top 10', ascending=False, inplace=True)\n",
    "df1.head(10)"
   ],
   "metadata": {
    "collapsed": false,
    "pycharm": {
     "name": "#%%\n"
    }
   }
  },
  {
   "cell_type": "code",
   "execution_count": 367,
   "outputs": [
    {
     "data": {
      "text/plain": "           As of  Rank  Year to Date Rank  Last Week Rank  \\\n6998  2022-03-01     9                  0               0   \n6996  2022-03-01     7                  7               8   \n6678  2022-01-28     9                  7               5   \n5347  2021-09-17     8                  7               6   \n2809  2021-01-06    10                  9               6   \n\n                     Title     Type Netflix Exclusive Netflix Release Date  \\\n6998             Cocomelon  TV Show                No          Jun 1, 2020   \n6996                 Ozark  TV Show               Yes         Jul 21, 2017   \n6678             Cobra Kai  TV Show                No         Aug 28, 2020   \n5347              Manifest  TV Show                No         Jun 10, 2021   \n2809  The Queenâs Gambit  TV Show               Yes         Oct 23, 2020   \n\n      Days In Top 10  Viewership Score  \n6998             428              1474  \n6996              89               536  \n6678              81               582  \n5347              80               590  \n2809              73               446  ",
      "text/html": "<div>\n<style scoped>\n    .dataframe tbody tr th:only-of-type {\n        vertical-align: middle;\n    }\n\n    .dataframe tbody tr th {\n        vertical-align: top;\n    }\n\n    .dataframe thead th {\n        text-align: right;\n    }\n</style>\n<table border=\"1\" class=\"dataframe\">\n  <thead>\n    <tr style=\"text-align: right;\">\n      <th></th>\n      <th>As of</th>\n      <th>Rank</th>\n      <th>Year to Date Rank</th>\n      <th>Last Week Rank</th>\n      <th>Title</th>\n      <th>Type</th>\n      <th>Netflix Exclusive</th>\n      <th>Netflix Release Date</th>\n      <th>Days In Top 10</th>\n      <th>Viewership Score</th>\n    </tr>\n  </thead>\n  <tbody>\n    <tr>\n      <th>6998</th>\n      <td>2022-03-01</td>\n      <td>9</td>\n      <td>0</td>\n      <td>0</td>\n      <td>Cocomelon</td>\n      <td>TV Show</td>\n      <td>No</td>\n      <td>Jun 1, 2020</td>\n      <td>428</td>\n      <td>1474</td>\n    </tr>\n    <tr>\n      <th>6996</th>\n      <td>2022-03-01</td>\n      <td>7</td>\n      <td>7</td>\n      <td>8</td>\n      <td>Ozark</td>\n      <td>TV Show</td>\n      <td>Yes</td>\n      <td>Jul 21, 2017</td>\n      <td>89</td>\n      <td>536</td>\n    </tr>\n    <tr>\n      <th>6678</th>\n      <td>2022-01-28</td>\n      <td>9</td>\n      <td>7</td>\n      <td>5</td>\n      <td>Cobra Kai</td>\n      <td>TV Show</td>\n      <td>No</td>\n      <td>Aug 28, 2020</td>\n      <td>81</td>\n      <td>582</td>\n    </tr>\n    <tr>\n      <th>5347</th>\n      <td>2021-09-17</td>\n      <td>8</td>\n      <td>7</td>\n      <td>6</td>\n      <td>Manifest</td>\n      <td>TV Show</td>\n      <td>No</td>\n      <td>Jun 10, 2021</td>\n      <td>80</td>\n      <td>590</td>\n    </tr>\n    <tr>\n      <th>2809</th>\n      <td>2021-01-06</td>\n      <td>10</td>\n      <td>9</td>\n      <td>6</td>\n      <td>The Queenâs Gambit</td>\n      <td>TV Show</td>\n      <td>Yes</td>\n      <td>Oct 23, 2020</td>\n      <td>73</td>\n      <td>446</td>\n    </tr>\n  </tbody>\n</table>\n</div>"
     },
     "execution_count": 367,
     "metadata": {},
     "output_type": "execute_result"
    }
   ],
   "source": [
    "df1['Title'] = df1['Title'].drop_duplicates(keep='first')\n",
    "df1 = df1.dropna()\n",
    "df1.head()"
   ],
   "metadata": {
    "collapsed": false,
    "pycharm": {
     "name": "#%%\n"
    }
   }
  },
  {
   "cell_type": "code",
   "execution_count": 368,
   "outputs": [
    {
     "data": {
      "text/plain": "6998                         Cocomelon\n6996                             Ozark\n6678                         Cobra Kai\n5347                          Manifest\n2809                The Queen's Gambit\n                     ...              \n429     House at the End of the Street\n6739                     The Lucky One\n1689        How to Train Your Dragon 2\n6673                            Chosen\n3988                     Your Highness\nName: Title, Length: 645, dtype: object"
     },
     "execution_count": 368,
     "metadata": {},
     "output_type": "execute_result"
    }
   ],
   "source": [
    "df1.Title.str.replace('â', '\\'')"
   ],
   "metadata": {
    "collapsed": false,
    "pycharm": {
     "name": "#%%\n"
    }
   }
  },
  {
   "cell_type": "code",
   "execution_count": 369,
   "outputs": [
    {
     "data": {
      "text/plain": "           As of  Rank  Year to Date Rank  Last Week Rank  \\\n6998  2022-03-01     9                  0               0   \n6996  2022-03-01     7                  7               8   \n6678  2022-01-28     9                  7               5   \n5347  2021-09-17     8                  7               6   \n2809  2021-01-06    10                  9               6   \n\n                     Title     Type Netflix Exclusive Netflix Release Date  \\\n6998             Cocomelon  TV Show                No          Jun 1, 2020   \n6996                 Ozark  TV Show               Yes         Jul 21, 2017   \n6678             Cobra Kai  TV Show                No         Aug 28, 2020   \n5347              Manifest  TV Show                No         Jun 10, 2021   \n2809  The Queenâs Gambit  TV Show               Yes         Oct 23, 2020   \n\n      Days In Top 10  Viewership Score  \n6998             428              1474  \n6996              89               536  \n6678              81               582  \n5347              80               590  \n2809              73               446  ",
      "text/html": "<div>\n<style scoped>\n    .dataframe tbody tr th:only-of-type {\n        vertical-align: middle;\n    }\n\n    .dataframe tbody tr th {\n        vertical-align: top;\n    }\n\n    .dataframe thead th {\n        text-align: right;\n    }\n</style>\n<table border=\"1\" class=\"dataframe\">\n  <thead>\n    <tr style=\"text-align: right;\">\n      <th></th>\n      <th>As of</th>\n      <th>Rank</th>\n      <th>Year to Date Rank</th>\n      <th>Last Week Rank</th>\n      <th>Title</th>\n      <th>Type</th>\n      <th>Netflix Exclusive</th>\n      <th>Netflix Release Date</th>\n      <th>Days In Top 10</th>\n      <th>Viewership Score</th>\n    </tr>\n  </thead>\n  <tbody>\n    <tr>\n      <th>6998</th>\n      <td>2022-03-01</td>\n      <td>9</td>\n      <td>0</td>\n      <td>0</td>\n      <td>Cocomelon</td>\n      <td>TV Show</td>\n      <td>No</td>\n      <td>Jun 1, 2020</td>\n      <td>428</td>\n      <td>1474</td>\n    </tr>\n    <tr>\n      <th>6996</th>\n      <td>2022-03-01</td>\n      <td>7</td>\n      <td>7</td>\n      <td>8</td>\n      <td>Ozark</td>\n      <td>TV Show</td>\n      <td>Yes</td>\n      <td>Jul 21, 2017</td>\n      <td>89</td>\n      <td>536</td>\n    </tr>\n    <tr>\n      <th>6678</th>\n      <td>2022-01-28</td>\n      <td>9</td>\n      <td>7</td>\n      <td>5</td>\n      <td>Cobra Kai</td>\n      <td>TV Show</td>\n      <td>No</td>\n      <td>Aug 28, 2020</td>\n      <td>81</td>\n      <td>582</td>\n    </tr>\n    <tr>\n      <th>5347</th>\n      <td>2021-09-17</td>\n      <td>8</td>\n      <td>7</td>\n      <td>6</td>\n      <td>Manifest</td>\n      <td>TV Show</td>\n      <td>No</td>\n      <td>Jun 10, 2021</td>\n      <td>80</td>\n      <td>590</td>\n    </tr>\n    <tr>\n      <th>2809</th>\n      <td>2021-01-06</td>\n      <td>10</td>\n      <td>9</td>\n      <td>6</td>\n      <td>The Queenâs Gambit</td>\n      <td>TV Show</td>\n      <td>Yes</td>\n      <td>Oct 23, 2020</td>\n      <td>73</td>\n      <td>446</td>\n    </tr>\n  </tbody>\n</table>\n</div>"
     },
     "execution_count": 369,
     "metadata": {},
     "output_type": "execute_result"
    }
   ],
   "source": [
    "df1.head()"
   ],
   "metadata": {
    "collapsed": false,
    "pycharm": {
     "name": "#%%\n"
    }
   }
  },
  {
   "cell_type": "code",
   "execution_count": 370,
   "outputs": [],
   "source": [
    "df_movies = df1[df1.Type == 'Movie']\n",
    "df_series = df1[df1.Type == 'TV Show']"
   ],
   "metadata": {
    "collapsed": false,
    "pycharm": {
     "name": "#%%\n"
    }
   }
  },
  {
   "cell_type": "code",
   "execution_count": 371,
   "outputs": [
    {
     "data": {
      "text/plain": "           As of  Rank  Year to Date Rank  Last Week Rank  \\\n4258  2021-05-31     9                  9               6   \n5476  2021-09-30     7                  0               0   \n2719  2020-12-28    10                  6               2   \n959   2020-07-05    10                 10               4   \n6997  2022-03-01     8                  9               9   \n6589  2022-01-19    10                  9               5   \n2475  2020-12-04     6                  9               6   \n6346  2021-12-26     7                  5               0   \n2929  2021-01-18    10                  9               5   \n6208  2021-12-12     9                 10               9   \n\n                               Title   Type Netflix Exclusive  \\\n4258  The Mitchells vs. The Machines  Movie               Yes   \n5476                            Vivo  Movie               Yes   \n2719  How the Grinch Stole Christmas  Movie                No   \n959                         365 Days  Movie               Yes   \n6997                 Despicable Me 2  Movie                No   \n6589                 Donât Look Up  Movie               Yes   \n2475    Illumination Presents The G…  Movie                No   \n6346      The Christmas Chronicles 2  Movie               Yes   \n2929                We Can Be Heroes  Movie               Yes   \n6208                      Red Notice  Movie               Yes   \n\n     Netflix Release Date  Days In Top 10  Viewership Score  \n4258         Apr 30, 2021              31               204  \n5476          Aug 6, 2021              29               166  \n2719          Jun 1, 2017              29               137  \n959           Jul 7, 2020              28               213  \n6997          Feb 1, 2022              27                88  \n6589         Dec 24, 2021              26               189  \n2475          Jun 5, 2019              24                95  \n6346         Nov 25, 2020              24               132  \n2929         Dec 25, 2020              24               144  \n6208         Nov 12, 2021              23               162  ",
      "text/html": "<div>\n<style scoped>\n    .dataframe tbody tr th:only-of-type {\n        vertical-align: middle;\n    }\n\n    .dataframe tbody tr th {\n        vertical-align: top;\n    }\n\n    .dataframe thead th {\n        text-align: right;\n    }\n</style>\n<table border=\"1\" class=\"dataframe\">\n  <thead>\n    <tr style=\"text-align: right;\">\n      <th></th>\n      <th>As of</th>\n      <th>Rank</th>\n      <th>Year to Date Rank</th>\n      <th>Last Week Rank</th>\n      <th>Title</th>\n      <th>Type</th>\n      <th>Netflix Exclusive</th>\n      <th>Netflix Release Date</th>\n      <th>Days In Top 10</th>\n      <th>Viewership Score</th>\n    </tr>\n  </thead>\n  <tbody>\n    <tr>\n      <th>4258</th>\n      <td>2021-05-31</td>\n      <td>9</td>\n      <td>9</td>\n      <td>6</td>\n      <td>The Mitchells vs. The Machines</td>\n      <td>Movie</td>\n      <td>Yes</td>\n      <td>Apr 30, 2021</td>\n      <td>31</td>\n      <td>204</td>\n    </tr>\n    <tr>\n      <th>5476</th>\n      <td>2021-09-30</td>\n      <td>7</td>\n      <td>0</td>\n      <td>0</td>\n      <td>Vivo</td>\n      <td>Movie</td>\n      <td>Yes</td>\n      <td>Aug 6, 2021</td>\n      <td>29</td>\n      <td>166</td>\n    </tr>\n    <tr>\n      <th>2719</th>\n      <td>2020-12-28</td>\n      <td>10</td>\n      <td>6</td>\n      <td>2</td>\n      <td>How the Grinch Stole Christmas</td>\n      <td>Movie</td>\n      <td>No</td>\n      <td>Jun 1, 2017</td>\n      <td>29</td>\n      <td>137</td>\n    </tr>\n    <tr>\n      <th>959</th>\n      <td>2020-07-05</td>\n      <td>10</td>\n      <td>10</td>\n      <td>4</td>\n      <td>365 Days</td>\n      <td>Movie</td>\n      <td>Yes</td>\n      <td>Jul 7, 2020</td>\n      <td>28</td>\n      <td>213</td>\n    </tr>\n    <tr>\n      <th>6997</th>\n      <td>2022-03-01</td>\n      <td>8</td>\n      <td>9</td>\n      <td>9</td>\n      <td>Despicable Me 2</td>\n      <td>Movie</td>\n      <td>No</td>\n      <td>Feb 1, 2022</td>\n      <td>27</td>\n      <td>88</td>\n    </tr>\n    <tr>\n      <th>6589</th>\n      <td>2022-01-19</td>\n      <td>10</td>\n      <td>9</td>\n      <td>5</td>\n      <td>Donât Look Up</td>\n      <td>Movie</td>\n      <td>Yes</td>\n      <td>Dec 24, 2021</td>\n      <td>26</td>\n      <td>189</td>\n    </tr>\n    <tr>\n      <th>2475</th>\n      <td>2020-12-04</td>\n      <td>6</td>\n      <td>9</td>\n      <td>6</td>\n      <td>Illumination Presents The G…</td>\n      <td>Movie</td>\n      <td>No</td>\n      <td>Jun 5, 2019</td>\n      <td>24</td>\n      <td>95</td>\n    </tr>\n    <tr>\n      <th>6346</th>\n      <td>2021-12-26</td>\n      <td>7</td>\n      <td>5</td>\n      <td>0</td>\n      <td>The Christmas Chronicles 2</td>\n      <td>Movie</td>\n      <td>Yes</td>\n      <td>Nov 25, 2020</td>\n      <td>24</td>\n      <td>132</td>\n    </tr>\n    <tr>\n      <th>2929</th>\n      <td>2021-01-18</td>\n      <td>10</td>\n      <td>9</td>\n      <td>5</td>\n      <td>We Can Be Heroes</td>\n      <td>Movie</td>\n      <td>Yes</td>\n      <td>Dec 25, 2020</td>\n      <td>24</td>\n      <td>144</td>\n    </tr>\n    <tr>\n      <th>6208</th>\n      <td>2021-12-12</td>\n      <td>9</td>\n      <td>10</td>\n      <td>9</td>\n      <td>Red Notice</td>\n      <td>Movie</td>\n      <td>Yes</td>\n      <td>Nov 12, 2021</td>\n      <td>23</td>\n      <td>162</td>\n    </tr>\n  </tbody>\n</table>\n</div>"
     },
     "execution_count": 371,
     "metadata": {},
     "output_type": "execute_result"
    }
   ],
   "source": [
    "df_movies.head(10)"
   ],
   "metadata": {
    "collapsed": false,
    "pycharm": {
     "name": "#%%\n"
    }
   }
  },
  {
   "cell_type": "code",
   "execution_count": 372,
   "outputs": [
    {
     "data": {
      "text/plain": "           As of  Rank  Year to Date Rank  Last Week Rank  \\\n6998  2022-03-01     9                  0               0   \n6996  2022-03-01     7                  7               8   \n6678  2022-01-28     9                  7               5   \n5347  2021-09-17     8                  7               6   \n2809  2021-01-06    10                  9               6   \n5187  2021-09-01     8                  9               6   \n6068  2021-11-28     9                 10              10   \n5209  2021-09-03    10                  9               6   \n3269  2021-02-21    10                 10               8   \n5417  2021-09-24     8                  4               1   \n\n                     Title     Type Netflix Exclusive Netflix Release Date  \\\n6998             Cocomelon  TV Show                No          Jun 1, 2020   \n6996                 Ozark  TV Show               Yes         Jul 21, 2017   \n6678             Cobra Kai  TV Show                No         Aug 28, 2020   \n5347              Manifest  TV Show                No         Jun 10, 2021   \n2809  The Queenâs Gambit  TV Show               Yes         Oct 23, 2020   \n5187           Outer Banks  TV Show               Yes         Apr 15, 2020   \n6068            Squid Game  TV Show               Yes         Sep 17, 2021   \n5209          All American  TV Show                No         Mar 28, 2019   \n3269            Bridgerton  TV Show               Yes         Dec 25, 2020   \n5417               Lucifer  TV Show                No         Dec 15, 2018   \n\n      Days In Top 10  Viewership Score  \n6998             428              1474  \n6996              89               536  \n6678              81               582  \n5347              80               590  \n2809              73               446  \n5187              72               534  \n6068              66               495  \n5209              66               416  \n3269              58               432  \n5417              57               415  ",
      "text/html": "<div>\n<style scoped>\n    .dataframe tbody tr th:only-of-type {\n        vertical-align: middle;\n    }\n\n    .dataframe tbody tr th {\n        vertical-align: top;\n    }\n\n    .dataframe thead th {\n        text-align: right;\n    }\n</style>\n<table border=\"1\" class=\"dataframe\">\n  <thead>\n    <tr style=\"text-align: right;\">\n      <th></th>\n      <th>As of</th>\n      <th>Rank</th>\n      <th>Year to Date Rank</th>\n      <th>Last Week Rank</th>\n      <th>Title</th>\n      <th>Type</th>\n      <th>Netflix Exclusive</th>\n      <th>Netflix Release Date</th>\n      <th>Days In Top 10</th>\n      <th>Viewership Score</th>\n    </tr>\n  </thead>\n  <tbody>\n    <tr>\n      <th>6998</th>\n      <td>2022-03-01</td>\n      <td>9</td>\n      <td>0</td>\n      <td>0</td>\n      <td>Cocomelon</td>\n      <td>TV Show</td>\n      <td>No</td>\n      <td>Jun 1, 2020</td>\n      <td>428</td>\n      <td>1474</td>\n    </tr>\n    <tr>\n      <th>6996</th>\n      <td>2022-03-01</td>\n      <td>7</td>\n      <td>7</td>\n      <td>8</td>\n      <td>Ozark</td>\n      <td>TV Show</td>\n      <td>Yes</td>\n      <td>Jul 21, 2017</td>\n      <td>89</td>\n      <td>536</td>\n    </tr>\n    <tr>\n      <th>6678</th>\n      <td>2022-01-28</td>\n      <td>9</td>\n      <td>7</td>\n      <td>5</td>\n      <td>Cobra Kai</td>\n      <td>TV Show</td>\n      <td>No</td>\n      <td>Aug 28, 2020</td>\n      <td>81</td>\n      <td>582</td>\n    </tr>\n    <tr>\n      <th>5347</th>\n      <td>2021-09-17</td>\n      <td>8</td>\n      <td>7</td>\n      <td>6</td>\n      <td>Manifest</td>\n      <td>TV Show</td>\n      <td>No</td>\n      <td>Jun 10, 2021</td>\n      <td>80</td>\n      <td>590</td>\n    </tr>\n    <tr>\n      <th>2809</th>\n      <td>2021-01-06</td>\n      <td>10</td>\n      <td>9</td>\n      <td>6</td>\n      <td>The Queenâs Gambit</td>\n      <td>TV Show</td>\n      <td>Yes</td>\n      <td>Oct 23, 2020</td>\n      <td>73</td>\n      <td>446</td>\n    </tr>\n    <tr>\n      <th>5187</th>\n      <td>2021-09-01</td>\n      <td>8</td>\n      <td>9</td>\n      <td>6</td>\n      <td>Outer Banks</td>\n      <td>TV Show</td>\n      <td>Yes</td>\n      <td>Apr 15, 2020</td>\n      <td>72</td>\n      <td>534</td>\n    </tr>\n    <tr>\n      <th>6068</th>\n      <td>2021-11-28</td>\n      <td>9</td>\n      <td>10</td>\n      <td>10</td>\n      <td>Squid Game</td>\n      <td>TV Show</td>\n      <td>Yes</td>\n      <td>Sep 17, 2021</td>\n      <td>66</td>\n      <td>495</td>\n    </tr>\n    <tr>\n      <th>5209</th>\n      <td>2021-09-03</td>\n      <td>10</td>\n      <td>9</td>\n      <td>6</td>\n      <td>All American</td>\n      <td>TV Show</td>\n      <td>No</td>\n      <td>Mar 28, 2019</td>\n      <td>66</td>\n      <td>416</td>\n    </tr>\n    <tr>\n      <th>3269</th>\n      <td>2021-02-21</td>\n      <td>10</td>\n      <td>10</td>\n      <td>8</td>\n      <td>Bridgerton</td>\n      <td>TV Show</td>\n      <td>Yes</td>\n      <td>Dec 25, 2020</td>\n      <td>58</td>\n      <td>432</td>\n    </tr>\n    <tr>\n      <th>5417</th>\n      <td>2021-09-24</td>\n      <td>8</td>\n      <td>4</td>\n      <td>1</td>\n      <td>Lucifer</td>\n      <td>TV Show</td>\n      <td>No</td>\n      <td>Dec 15, 2018</td>\n      <td>57</td>\n      <td>415</td>\n    </tr>\n  </tbody>\n</table>\n</div>"
     },
     "execution_count": 372,
     "metadata": {},
     "output_type": "execute_result"
    }
   ],
   "source": [
    "df_series.head(10)"
   ],
   "metadata": {
    "collapsed": false,
    "pycharm": {
     "name": "#%%\n"
    }
   }
  },
  {
   "cell_type": "code",
   "execution_count": 373,
   "outputs": [
    {
     "data": {
      "text/plain": "           As of  Rank  Year to Date Rank  Last Week Rank  \\\n6998  2022-03-01     9                  0               0   \n6996  2022-03-01     7                  7               8   \n6678  2022-01-28     9                  7               5   \n5347  2021-09-17     8                  7               6   \n2809  2021-01-06    10                  9               6   \n\n                     Title     Type Netflix Exclusive Netflix Release Date  \\\n6998             Cocomelon  TV Show                No          Jun 1, 2020   \n6996                 Ozark  TV Show               Yes         Jul 21, 2017   \n6678             Cobra Kai  TV Show                No         Aug 28, 2020   \n5347              Manifest  TV Show                No         Jun 10, 2021   \n2809  The Queenâs Gambit  TV Show               Yes         Oct 23, 2020   \n\n      Days In Top 10  Viewership Score  \n6998             428              1474  \n6996              89               536  \n6678              81               582  \n5347              80               590  \n2809              73               446  ",
      "text/html": "<div>\n<style scoped>\n    .dataframe tbody tr th:only-of-type {\n        vertical-align: middle;\n    }\n\n    .dataframe tbody tr th {\n        vertical-align: top;\n    }\n\n    .dataframe thead th {\n        text-align: right;\n    }\n</style>\n<table border=\"1\" class=\"dataframe\">\n  <thead>\n    <tr style=\"text-align: right;\">\n      <th></th>\n      <th>As of</th>\n      <th>Rank</th>\n      <th>Year to Date Rank</th>\n      <th>Last Week Rank</th>\n      <th>Title</th>\n      <th>Type</th>\n      <th>Netflix Exclusive</th>\n      <th>Netflix Release Date</th>\n      <th>Days In Top 10</th>\n      <th>Viewership Score</th>\n    </tr>\n  </thead>\n  <tbody>\n    <tr>\n      <th>6998</th>\n      <td>2022-03-01</td>\n      <td>9</td>\n      <td>0</td>\n      <td>0</td>\n      <td>Cocomelon</td>\n      <td>TV Show</td>\n      <td>No</td>\n      <td>Jun 1, 2020</td>\n      <td>428</td>\n      <td>1474</td>\n    </tr>\n    <tr>\n      <th>6996</th>\n      <td>2022-03-01</td>\n      <td>7</td>\n      <td>7</td>\n      <td>8</td>\n      <td>Ozark</td>\n      <td>TV Show</td>\n      <td>Yes</td>\n      <td>Jul 21, 2017</td>\n      <td>89</td>\n      <td>536</td>\n    </tr>\n    <tr>\n      <th>6678</th>\n      <td>2022-01-28</td>\n      <td>9</td>\n      <td>7</td>\n      <td>5</td>\n      <td>Cobra Kai</td>\n      <td>TV Show</td>\n      <td>No</td>\n      <td>Aug 28, 2020</td>\n      <td>81</td>\n      <td>582</td>\n    </tr>\n    <tr>\n      <th>5347</th>\n      <td>2021-09-17</td>\n      <td>8</td>\n      <td>7</td>\n      <td>6</td>\n      <td>Manifest</td>\n      <td>TV Show</td>\n      <td>No</td>\n      <td>Jun 10, 2021</td>\n      <td>80</td>\n      <td>590</td>\n    </tr>\n    <tr>\n      <th>2809</th>\n      <td>2021-01-06</td>\n      <td>10</td>\n      <td>9</td>\n      <td>6</td>\n      <td>The Queenâs Gambit</td>\n      <td>TV Show</td>\n      <td>Yes</td>\n      <td>Oct 23, 2020</td>\n      <td>73</td>\n      <td>446</td>\n    </tr>\n  </tbody>\n</table>\n</div>"
     },
     "execution_count": 373,
     "metadata": {},
     "output_type": "execute_result"
    }
   ],
   "source": [
    "df1.Title.str.replace('â', '\\'')\n",
    "# The Queenâs Gambit\n",
    "df1.head()"
   ],
   "metadata": {
    "collapsed": false,
    "pycharm": {
     "name": "#%%\n"
    }
   }
  },
  {
   "cell_type": "code",
   "execution_count": 373,
   "outputs": [],
   "source": [],
   "metadata": {
    "collapsed": false,
    "pycharm": {
     "name": "#%%\n"
    }
   }
  },
  {
   "cell_type": "code",
   "execution_count": 374,
   "outputs": [],
   "source": [
    "df.to_csv(r'..\\data\\netflix-daily-top-10.csv', sep=',', index=False)"
   ],
   "metadata": {
    "collapsed": false,
    "pycharm": {
     "name": "#%%\n"
    }
   }
  },
  {
   "cell_type": "code",
   "execution_count": 374,
   "outputs": [],
   "source": [],
   "metadata": {
    "collapsed": false,
    "pycharm": {
     "name": "#%%\n"
    }
   }
  }
 ],
 "metadata": {
  "kernelspec": {
   "display_name": "Python 3",
   "language": "python",
   "name": "python3"
  },
  "language_info": {
   "codemirror_mode": {
    "name": "ipython",
    "version": 2
   },
   "file_extension": ".py",
   "mimetype": "text/x-python",
   "name": "python",
   "nbconvert_exporter": "python",
   "pygments_lexer": "ipython2",
   "version": "2.7.6"
  }
 },
 "nbformat": 4,
 "nbformat_minor": 0
}