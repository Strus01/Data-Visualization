{
 "cells": [
  {
   "cell_type": "code",
   "execution_count": 32,
   "metadata": {
    "collapsed": true
   },
   "outputs": [],
   "source": [
    "import pandas as pd\n",
    "import numpy as np"
   ]
  },
  {
   "cell_type": "code",
   "execution_count": 33,
   "outputs": [],
   "source": [
    "df = pd.read_csv(r'..\\data\\netflix daily top 10.csv')"
   ],
   "metadata": {
    "collapsed": false,
    "pycharm": {
     "name": "#%%\n"
    }
   }
  },
  {
   "cell_type": "code",
   "execution_count": 34,
   "outputs": [
    {
     "name": "stdout",
     "output_type": "stream",
     "text": [
      "<class 'pandas.core.frame.DataFrame'>\n",
      "RangeIndex: 7100 entries, 0 to 7099\n",
      "Data columns (total 10 columns):\n",
      " #   Column                Non-Null Count  Dtype \n",
      "---  ------                --------------  ----- \n",
      " 0   As of                 7100 non-null   object\n",
      " 1   Rank                  7100 non-null   int64 \n",
      " 2   Year to Date Rank     7100 non-null   object\n",
      " 3   Last Week Rank        7100 non-null   object\n",
      " 4   Title                 7100 non-null   object\n",
      " 5   Type                  7100 non-null   object\n",
      " 6   Netflix Exclusive     4599 non-null   object\n",
      " 7   Netflix Release Date  7100 non-null   object\n",
      " 8   Days In Top 10        7100 non-null   int64 \n",
      " 9   Viewership Score      7100 non-null   int64 \n",
      "dtypes: int64(3), object(7)\n",
      "memory usage: 554.8+ KB\n"
     ]
    }
   ],
   "source": [
    "df.info()"
   ],
   "metadata": {
    "collapsed": false,
    "pycharm": {
     "name": "#%%\n"
    }
   }
  },
  {
   "cell_type": "code",
   "execution_count": 35,
   "outputs": [
    {
     "data": {
      "text/plain": "As of                      0\nRank                       0\nYear to Date Rank          0\nLast Week Rank             0\nTitle                      0\nType                       0\nNetflix Exclusive       2501\nNetflix Release Date       0\nDays In Top 10             0\nViewership Score           0\ndtype: int64"
     },
     "execution_count": 35,
     "metadata": {},
     "output_type": "execute_result"
    }
   ],
   "source": [
    "df.isnull().sum()"
   ],
   "metadata": {
    "collapsed": false,
    "pycharm": {
     "name": "#%%\n"
    }
   }
  },
  {
   "cell_type": "code",
   "execution_count": 36,
   "outputs": [
    {
     "data": {
      "text/plain": "4245    Yes\n1339    NaN\n5861    Yes\n1381    NaN\n5735    NaN\n2070    Yes\n4994    Yes\n3342    Yes\n2107    Yes\n10      Yes\nName: Netflix Exclusive, dtype: object"
     },
     "execution_count": 36,
     "metadata": {},
     "output_type": "execute_result"
    }
   ],
   "source": [
    "df['Netflix Exclusive'].sample(10)"
   ],
   "metadata": {
    "collapsed": false,
    "pycharm": {
     "name": "#%%\n"
    }
   }
  },
  {
   "cell_type": "code",
   "execution_count": 42,
   "outputs": [],
   "source": [
    "df['Netflix Exclusive'].replace(np.NaN, 'No', inplace=True)"
   ],
   "metadata": {
    "collapsed": false,
    "pycharm": {
     "name": "#%%\n"
    }
   }
  },
  {
   "cell_type": "code",
   "execution_count": 43,
   "outputs": [
    {
     "data": {
      "text/plain": "           As of  Rank Year to Date Rank Last Week Rank  \\\n36    2020-04-04     7                 6              -   \n4607  2021-07-05     8                 6              3   \n1907  2020-10-08     8                10              8   \n917   2020-07-01     8                 7              3   \n4126  2021-05-18     7                 7              -   \n2086  2020-10-26     7                 6              -   \n4915  2021-08-05     6                 5              -   \n6991  2022-03-01     2                 3              1   \n4492  2021-06-24     3                 -              -   \n5825  2021-11-04     6                 4              -   \n\n                             Title     Type Netflix Exclusive  \\\n36                    The Roommate    Movie                No   \n4607                    Fatherhood    Movie               Yes   \n1907                     Cocomelon  TV Show                No   \n917                    The Nut Job    Movie                No   \n4126                I Am All Girls    Movie               Yes   \n2086                       Rebecca    Movie               Yes   \n4915  Top Secret UFO Projects: De…  TV Show               Yes   \n6991                Inventing Anna  TV Show               Yes   \n4492             Too Hot to Handle  TV Show               Yes   \n5825        Colin in Black & White  TV Show               Yes   \n\n     Netflix Release Date  Days In Top 10  Viewership Score  \n36            Apr 1, 2020               3                13  \n4607         Jun 18, 2021              17               128  \n1907          Jun 1, 2020              29                61  \n917          Aug 13, 2014              11                58  \n4126         May 14, 2021               4                12  \n2086         Oct 21, 2020               5                31  \n4915          Aug 3, 2021               2                11  \n6991         Feb 11, 2022              18               173  \n4492         Apr 17, 2020              16                96  \n5825         Oct 29, 2021               5                19  ",
      "text/html": "<div>\n<style scoped>\n    .dataframe tbody tr th:only-of-type {\n        vertical-align: middle;\n    }\n\n    .dataframe tbody tr th {\n        vertical-align: top;\n    }\n\n    .dataframe thead th {\n        text-align: right;\n    }\n</style>\n<table border=\"1\" class=\"dataframe\">\n  <thead>\n    <tr style=\"text-align: right;\">\n      <th></th>\n      <th>As of</th>\n      <th>Rank</th>\n      <th>Year to Date Rank</th>\n      <th>Last Week Rank</th>\n      <th>Title</th>\n      <th>Type</th>\n      <th>Netflix Exclusive</th>\n      <th>Netflix Release Date</th>\n      <th>Days In Top 10</th>\n      <th>Viewership Score</th>\n    </tr>\n  </thead>\n  <tbody>\n    <tr>\n      <th>36</th>\n      <td>2020-04-04</td>\n      <td>7</td>\n      <td>6</td>\n      <td>-</td>\n      <td>The Roommate</td>\n      <td>Movie</td>\n      <td>No</td>\n      <td>Apr 1, 2020</td>\n      <td>3</td>\n      <td>13</td>\n    </tr>\n    <tr>\n      <th>4607</th>\n      <td>2021-07-05</td>\n      <td>8</td>\n      <td>6</td>\n      <td>3</td>\n      <td>Fatherhood</td>\n      <td>Movie</td>\n      <td>Yes</td>\n      <td>Jun 18, 2021</td>\n      <td>17</td>\n      <td>128</td>\n    </tr>\n    <tr>\n      <th>1907</th>\n      <td>2020-10-08</td>\n      <td>8</td>\n      <td>10</td>\n      <td>8</td>\n      <td>Cocomelon</td>\n      <td>TV Show</td>\n      <td>No</td>\n      <td>Jun 1, 2020</td>\n      <td>29</td>\n      <td>61</td>\n    </tr>\n    <tr>\n      <th>917</th>\n      <td>2020-07-01</td>\n      <td>8</td>\n      <td>7</td>\n      <td>3</td>\n      <td>The Nut Job</td>\n      <td>Movie</td>\n      <td>No</td>\n      <td>Aug 13, 2014</td>\n      <td>11</td>\n      <td>58</td>\n    </tr>\n    <tr>\n      <th>4126</th>\n      <td>2021-05-18</td>\n      <td>7</td>\n      <td>7</td>\n      <td>-</td>\n      <td>I Am All Girls</td>\n      <td>Movie</td>\n      <td>Yes</td>\n      <td>May 14, 2021</td>\n      <td>4</td>\n      <td>12</td>\n    </tr>\n    <tr>\n      <th>2086</th>\n      <td>2020-10-26</td>\n      <td>7</td>\n      <td>6</td>\n      <td>-</td>\n      <td>Rebecca</td>\n      <td>Movie</td>\n      <td>Yes</td>\n      <td>Oct 21, 2020</td>\n      <td>5</td>\n      <td>31</td>\n    </tr>\n    <tr>\n      <th>4915</th>\n      <td>2021-08-05</td>\n      <td>6</td>\n      <td>5</td>\n      <td>-</td>\n      <td>Top Secret UFO Projects: De…</td>\n      <td>TV Show</td>\n      <td>Yes</td>\n      <td>Aug 3, 2021</td>\n      <td>2</td>\n      <td>11</td>\n    </tr>\n    <tr>\n      <th>6991</th>\n      <td>2022-03-01</td>\n      <td>2</td>\n      <td>3</td>\n      <td>1</td>\n      <td>Inventing Anna</td>\n      <td>TV Show</td>\n      <td>Yes</td>\n      <td>Feb 11, 2022</td>\n      <td>18</td>\n      <td>173</td>\n    </tr>\n    <tr>\n      <th>4492</th>\n      <td>2021-06-24</td>\n      <td>3</td>\n      <td>-</td>\n      <td>-</td>\n      <td>Too Hot to Handle</td>\n      <td>TV Show</td>\n      <td>Yes</td>\n      <td>Apr 17, 2020</td>\n      <td>16</td>\n      <td>96</td>\n    </tr>\n    <tr>\n      <th>5825</th>\n      <td>2021-11-04</td>\n      <td>6</td>\n      <td>4</td>\n      <td>-</td>\n      <td>Colin in Black &amp; White</td>\n      <td>TV Show</td>\n      <td>Yes</td>\n      <td>Oct 29, 2021</td>\n      <td>5</td>\n      <td>19</td>\n    </tr>\n  </tbody>\n</table>\n</div>"
     },
     "execution_count": 43,
     "metadata": {},
     "output_type": "execute_result"
    }
   ],
   "source": [
    "df.sample(10)"
   ],
   "metadata": {
    "collapsed": false,
    "pycharm": {
     "name": "#%%\n"
    }
   }
  },
  {
   "cell_type": "code",
   "execution_count": 47,
   "outputs": [],
   "source": [
    "df['Last Week Rank'].replace('-', '0', inplace=True)\n",
    "df['Year to Date Rank'].replace('-', '0', inplace=True)"
   ],
   "metadata": {
    "collapsed": false,
    "pycharm": {
     "name": "#%%\n"
    }
   }
  },
  {
   "cell_type": "code",
   "execution_count": 48,
   "outputs": [
    {
     "data": {
      "text/plain": "5843    1\n2882    0\n155     0\n5384    2\n4051    1\n463     0\n5132    0\n426     0\n6304    0\n278     7\nName: Last Week Rank, dtype: object"
     },
     "execution_count": 48,
     "metadata": {},
     "output_type": "execute_result"
    }
   ],
   "source": [
    "df['Last Week Rank'].sample(10)"
   ],
   "metadata": {
    "collapsed": false,
    "pycharm": {
     "name": "#%%\n"
    }
   }
  },
  {
   "cell_type": "code",
   "execution_count": 65,
   "outputs": [],
   "source": [
    "df['Year to Date Rank'] = pd.to_numeric(df['Year to Date Rank'], errors='coerce')\n",
    "df['Last Week Rank'] = pd.to_numeric(df['Last Week Rank'], errors='coerce')"
   ],
   "metadata": {
    "collapsed": false,
    "pycharm": {
     "name": "#%%\n"
    }
   }
  },
  {
   "cell_type": "code",
   "execution_count": 66,
   "outputs": [
    {
     "name": "stdout",
     "output_type": "stream",
     "text": [
      "<class 'pandas.core.frame.DataFrame'>\n",
      "RangeIndex: 7100 entries, 0 to 7099\n",
      "Data columns (total 10 columns):\n",
      " #   Column                Non-Null Count  Dtype \n",
      "---  ------                --------------  ----- \n",
      " 0   As of                 7100 non-null   object\n",
      " 1   Rank                  7100 non-null   int64 \n",
      " 2   Year to Date Rank     7100 non-null   int64 \n",
      " 3   Last Week Rank        7100 non-null   int64 \n",
      " 4   Title                 7100 non-null   object\n",
      " 5   Type                  7100 non-null   object\n",
      " 6   Netflix Exclusive     7100 non-null   object\n",
      " 7   Netflix Release Date  7100 non-null   object\n",
      " 8   Days In Top 10        7100 non-null   int64 \n",
      " 9   Viewership Score      7100 non-null   int64 \n",
      "dtypes: int64(5), object(5)\n",
      "memory usage: 554.8+ KB\n"
     ]
    }
   ],
   "source": [
    "df.info()"
   ],
   "metadata": {
    "collapsed": false,
    "pycharm": {
     "name": "#%%\n"
    }
   }
  },
  {
   "cell_type": "code",
   "execution_count": 68,
   "outputs": [],
   "source": [
    "df.to_csv(r'..\\data\\netflix-daily-top-10.csv', sep=',', index=False)"
   ],
   "metadata": {
    "collapsed": false,
    "pycharm": {
     "name": "#%%\n"
    }
   }
  },
  {
   "cell_type": "code",
   "execution_count": null,
   "outputs": [],
   "source": [
    "# sprawdzić czy działa bez zmiany dtype na date"
   ],
   "metadata": {
    "collapsed": false,
    "pycharm": {
     "name": "#%%\n"
    }
   }
  }
 ],
 "metadata": {
  "kernelspec": {
   "display_name": "Python 3",
   "language": "python",
   "name": "python3"
  },
  "language_info": {
   "codemirror_mode": {
    "name": "ipython",
    "version": 2
   },
   "file_extension": ".py",
   "mimetype": "text/x-python",
   "name": "python",
   "nbconvert_exporter": "python",
   "pygments_lexer": "ipython2",
   "version": "2.7.6"
  }
 },
 "nbformat": 4,
 "nbformat_minor": 0
}