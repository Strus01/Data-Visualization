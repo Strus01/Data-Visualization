{
 "cells": [
  {
   "cell_type": "code",
   "execution_count": 38,
   "metadata": {
    "collapsed": true
   },
   "outputs": [],
   "source": [
    "import pandas as pd\n",
    "import numpy as np\n"
   ]
  },
  {
   "cell_type": "code",
   "execution_count": 39,
   "outputs": [],
   "source": [
    "df = pd.read_csv(r'..\\data\\netflix daily top 10.csv')"
   ],
   "metadata": {
    "collapsed": false,
    "pycharm": {
     "name": "#%%\n"
    }
   }
  },
  {
   "cell_type": "code",
   "execution_count": 40,
   "outputs": [
    {
     "name": "stdout",
     "output_type": "stream",
     "text": [
      "<class 'pandas.core.frame.DataFrame'>\n",
      "RangeIndex: 7100 entries, 0 to 7099\n",
      "Data columns (total 10 columns):\n",
      " #   Column                Non-Null Count  Dtype \n",
      "---  ------                --------------  ----- \n",
      " 0   As of                 7100 non-null   object\n",
      " 1   Rank                  7100 non-null   int64 \n",
      " 2   Year to Date Rank     7100 non-null   object\n",
      " 3   Last Week Rank        7100 non-null   object\n",
      " 4   Title                 7100 non-null   object\n",
      " 5   Type                  7100 non-null   object\n",
      " 6   Netflix Exclusive     4599 non-null   object\n",
      " 7   Netflix Release Date  7100 non-null   object\n",
      " 8   Days In Top 10        7100 non-null   int64 \n",
      " 9   Viewership Score      7100 non-null   int64 \n",
      "dtypes: int64(3), object(7)\n",
      "memory usage: 554.8+ KB\n"
     ]
    }
   ],
   "source": [
    "df.info()"
   ],
   "metadata": {
    "collapsed": false,
    "pycharm": {
     "name": "#%%\n"
    }
   }
  },
  {
   "cell_type": "code",
   "execution_count": 41,
   "outputs": [
    {
     "data": {
      "text/plain": "As of                      0\nRank                       0\nYear to Date Rank          0\nLast Week Rank             0\nTitle                      0\nType                       0\nNetflix Exclusive       2501\nNetflix Release Date       0\nDays In Top 10             0\nViewership Score           0\ndtype: int64"
     },
     "execution_count": 41,
     "metadata": {},
     "output_type": "execute_result"
    }
   ],
   "source": [
    "df.isnull().sum()"
   ],
   "metadata": {
    "collapsed": false,
    "pycharm": {
     "name": "#%%\n"
    }
   }
  },
  {
   "cell_type": "code",
   "execution_count": 42,
   "outputs": [
    {
     "data": {
      "text/plain": "6053    Yes\n3152    NaN\n3320    Yes\n1269    Yes\n6373    Yes\n4742    NaN\n379     Yes\n4626    NaN\n6760    Yes\n1059    NaN\nName: Netflix Exclusive, dtype: object"
     },
     "execution_count": 42,
     "metadata": {},
     "output_type": "execute_result"
    }
   ],
   "source": [
    "df['Netflix Exclusive'].sample(10)"
   ],
   "metadata": {
    "collapsed": false,
    "pycharm": {
     "name": "#%%\n"
    }
   }
  },
  {
   "cell_type": "code",
   "execution_count": 43,
   "outputs": [],
   "source": [
    "df['Netflix Exclusive'].replace(np.NaN, 'No', inplace=True)"
   ],
   "metadata": {
    "collapsed": false,
    "pycharm": {
     "name": "#%%\n"
    }
   }
  },
  {
   "cell_type": "code",
   "execution_count": 44,
   "outputs": [
    {
     "data": {
      "text/plain": "           As of  Rank Year to Date Rank Last Week Rank  \\\n3399  2021-03-06    10                 -              -   \n709   2020-06-10    10                10              -   \n2532  2020-12-10     3                 3              -   \n6539  2022-01-14    10                 8              8   \n656   2020-06-05     7                 8              -   \n2084  2020-10-26     5                 4              -   \n6593  2022-01-20     4                 3              -   \n6383  2021-12-30     4                 -              -   \n2193  2020-11-06     4                 2              -   \n5275  2021-09-10     6                 4              4   \n\n                             Title     Type Netflix Exclusive  \\\n3399               The Dark Knight    Movie                No   \n709             Queen of the South  TV Show                No   \n2532                           Ava    Movie                No   \n6539               Just Go With It    Movie                No   \n656                       Clueless    Movie                No   \n2084  My Next Guest Needs No Intr…  TV Show               Yes   \n6593                 After We Fell    Movie                No   \n6383  Crime Scene: The Times Squa…  TV Show               Yes   \n2193                   Knock Knock    Movie                No   \n5275                      Manifest  TV Show                No   \n\n     Netflix Release Date  Days In Top 10  Viewership Score  \n3399          Mar 1, 2021               1                 1  \n709           May 9, 2017               2                 2  \n2532          Dec 7, 2020               3                20  \n6539         May 22, 2020              19                67  \n656           Jan 1, 2014               3                10  \n2084         Jan 12, 2018               5                36  \n6593         Jan 17, 2022               3                23  \n6383         Dec 29, 2021               1                 7  \n2193          Nov 1, 2020               4                32  \n5275         Jun 10, 2021              74               575  ",
      "text/html": "<div>\n<style scoped>\n    .dataframe tbody tr th:only-of-type {\n        vertical-align: middle;\n    }\n\n    .dataframe tbody tr th {\n        vertical-align: top;\n    }\n\n    .dataframe thead th {\n        text-align: right;\n    }\n</style>\n<table border=\"1\" class=\"dataframe\">\n  <thead>\n    <tr style=\"text-align: right;\">\n      <th></th>\n      <th>As of</th>\n      <th>Rank</th>\n      <th>Year to Date Rank</th>\n      <th>Last Week Rank</th>\n      <th>Title</th>\n      <th>Type</th>\n      <th>Netflix Exclusive</th>\n      <th>Netflix Release Date</th>\n      <th>Days In Top 10</th>\n      <th>Viewership Score</th>\n    </tr>\n  </thead>\n  <tbody>\n    <tr>\n      <th>3399</th>\n      <td>2021-03-06</td>\n      <td>10</td>\n      <td>-</td>\n      <td>-</td>\n      <td>The Dark Knight</td>\n      <td>Movie</td>\n      <td>No</td>\n      <td>Mar 1, 2021</td>\n      <td>1</td>\n      <td>1</td>\n    </tr>\n    <tr>\n      <th>709</th>\n      <td>2020-06-10</td>\n      <td>10</td>\n      <td>10</td>\n      <td>-</td>\n      <td>Queen of the South</td>\n      <td>TV Show</td>\n      <td>No</td>\n      <td>May 9, 2017</td>\n      <td>2</td>\n      <td>2</td>\n    </tr>\n    <tr>\n      <th>2532</th>\n      <td>2020-12-10</td>\n      <td>3</td>\n      <td>3</td>\n      <td>-</td>\n      <td>Ava</td>\n      <td>Movie</td>\n      <td>No</td>\n      <td>Dec 7, 2020</td>\n      <td>3</td>\n      <td>20</td>\n    </tr>\n    <tr>\n      <th>6539</th>\n      <td>2022-01-14</td>\n      <td>10</td>\n      <td>8</td>\n      <td>8</td>\n      <td>Just Go With It</td>\n      <td>Movie</td>\n      <td>No</td>\n      <td>May 22, 2020</td>\n      <td>19</td>\n      <td>67</td>\n    </tr>\n    <tr>\n      <th>656</th>\n      <td>2020-06-05</td>\n      <td>7</td>\n      <td>8</td>\n      <td>-</td>\n      <td>Clueless</td>\n      <td>Movie</td>\n      <td>No</td>\n      <td>Jan 1, 2014</td>\n      <td>3</td>\n      <td>10</td>\n    </tr>\n    <tr>\n      <th>2084</th>\n      <td>2020-10-26</td>\n      <td>5</td>\n      <td>4</td>\n      <td>-</td>\n      <td>My Next Guest Needs No Intr…</td>\n      <td>TV Show</td>\n      <td>Yes</td>\n      <td>Jan 12, 2018</td>\n      <td>5</td>\n      <td>36</td>\n    </tr>\n    <tr>\n      <th>6593</th>\n      <td>2022-01-20</td>\n      <td>4</td>\n      <td>3</td>\n      <td>-</td>\n      <td>After We Fell</td>\n      <td>Movie</td>\n      <td>No</td>\n      <td>Jan 17, 2022</td>\n      <td>3</td>\n      <td>23</td>\n    </tr>\n    <tr>\n      <th>6383</th>\n      <td>2021-12-30</td>\n      <td>4</td>\n      <td>-</td>\n      <td>-</td>\n      <td>Crime Scene: The Times Squa…</td>\n      <td>TV Show</td>\n      <td>Yes</td>\n      <td>Dec 29, 2021</td>\n      <td>1</td>\n      <td>7</td>\n    </tr>\n    <tr>\n      <th>2193</th>\n      <td>2020-11-06</td>\n      <td>4</td>\n      <td>2</td>\n      <td>-</td>\n      <td>Knock Knock</td>\n      <td>Movie</td>\n      <td>No</td>\n      <td>Nov 1, 2020</td>\n      <td>4</td>\n      <td>32</td>\n    </tr>\n    <tr>\n      <th>5275</th>\n      <td>2021-09-10</td>\n      <td>6</td>\n      <td>4</td>\n      <td>4</td>\n      <td>Manifest</td>\n      <td>TV Show</td>\n      <td>No</td>\n      <td>Jun 10, 2021</td>\n      <td>74</td>\n      <td>575</td>\n    </tr>\n  </tbody>\n</table>\n</div>"
     },
     "execution_count": 44,
     "metadata": {},
     "output_type": "execute_result"
    }
   ],
   "source": [
    "df.sample(10)"
   ],
   "metadata": {
    "collapsed": false,
    "pycharm": {
     "name": "#%%\n"
    }
   }
  },
  {
   "cell_type": "code",
   "execution_count": 45,
   "outputs": [],
   "source": [
    "df['Last Week Rank'].replace('-', '0', inplace=True)\n",
    "df['Year to Date Rank'].replace('-', '0', inplace=True)"
   ],
   "metadata": {
    "collapsed": false,
    "pycharm": {
     "name": "#%%\n"
    }
   }
  },
  {
   "cell_type": "code",
   "execution_count": 46,
   "outputs": [
    {
     "data": {
      "text/plain": "6276    0\n3977    6\n6777    4\n718     0\n2284    0\n5177    0\n3953    3\n2998    0\n1590    0\n6102    0\nName: Last Week Rank, dtype: object"
     },
     "execution_count": 46,
     "metadata": {},
     "output_type": "execute_result"
    }
   ],
   "source": [
    "df['Last Week Rank'].sample(10)"
   ],
   "metadata": {
    "collapsed": false,
    "pycharm": {
     "name": "#%%\n"
    }
   }
  },
  {
   "cell_type": "code",
   "execution_count": 47,
   "outputs": [],
   "source": [
    "df['Year to Date Rank'] = pd.to_numeric(df['Year to Date Rank'], errors='coerce')\n",
    "df['Last Week Rank'] = pd.to_numeric(df['Last Week Rank'], errors='coerce')"
   ],
   "metadata": {
    "collapsed": false,
    "pycharm": {
     "name": "#%%\n"
    }
   }
  },
  {
   "cell_type": "code",
   "execution_count": 48,
   "outputs": [
    {
     "name": "stdout",
     "output_type": "stream",
     "text": [
      "<class 'pandas.core.frame.DataFrame'>\n",
      "RangeIndex: 7100 entries, 0 to 7099\n",
      "Data columns (total 10 columns):\n",
      " #   Column                Non-Null Count  Dtype \n",
      "---  ------                --------------  ----- \n",
      " 0   As of                 7100 non-null   object\n",
      " 1   Rank                  7100 non-null   int64 \n",
      " 2   Year to Date Rank     7100 non-null   int64 \n",
      " 3   Last Week Rank        7100 non-null   int64 \n",
      " 4   Title                 7100 non-null   object\n",
      " 5   Type                  7100 non-null   object\n",
      " 6   Netflix Exclusive     7100 non-null   object\n",
      " 7   Netflix Release Date  7100 non-null   object\n",
      " 8   Days In Top 10        7100 non-null   int64 \n",
      " 9   Viewership Score      7100 non-null   int64 \n",
      "dtypes: int64(5), object(5)\n",
      "memory usage: 554.8+ KB\n"
     ]
    }
   ],
   "source": [
    "df.info()"
   ],
   "metadata": {
    "collapsed": false,
    "pycharm": {
     "name": "#%%\n"
    }
   }
  },
  {
   "cell_type": "code",
   "execution_count": 49,
   "outputs": [
    {
     "name": "stdout",
     "output_type": "stream",
     "text": [
      "<class 'pandas.core.frame.DataFrame'>\n",
      "RangeIndex: 7100 entries, 0 to 7099\n",
      "Data columns (total 10 columns):\n",
      " #   Column                Non-Null Count  Dtype \n",
      "---  ------                --------------  ----- \n",
      " 0   As of                 7100 non-null   object\n",
      " 1   Rank                  7100 non-null   int64 \n",
      " 2   Year to Date Rank     7100 non-null   int64 \n",
      " 3   Last Week Rank        7100 non-null   int64 \n",
      " 4   Title                 7100 non-null   object\n",
      " 5   Type                  7100 non-null   object\n",
      " 6   Netflix Exclusive     7100 non-null   object\n",
      " 7   Netflix Release Date  7100 non-null   object\n",
      " 8   Days In Top 10        7100 non-null   int64 \n",
      " 9   Viewership Score      7100 non-null   int64 \n",
      "dtypes: int64(5), object(5)\n",
      "memory usage: 554.8+ KB\n"
     ]
    }
   ],
   "source": [
    "df.info()"
   ],
   "metadata": {
    "collapsed": false,
    "pycharm": {
     "name": "#%%\n"
    }
   }
  },
  {
   "cell_type": "code",
   "execution_count": 50,
   "outputs": [],
   "source": [
    "df.to_csv(r'..\\data\\netflix-daily-top-10.csv', sep=',', index=False)"
   ],
   "metadata": {
    "collapsed": false,
    "pycharm": {
     "name": "#%%\n"
    }
   }
  },
  {
   "cell_type": "code",
   "execution_count": 51,
   "outputs": [],
   "source": [
    "# sprawdzić czy działa bez zmiany dtype na date"
   ],
   "metadata": {
    "collapsed": false,
    "pycharm": {
     "name": "#%%\n"
    }
   }
  }
 ],
 "metadata": {
  "kernelspec": {
   "display_name": "Python 3",
   "language": "python",
   "name": "python3"
  },
  "language_info": {
   "codemirror_mode": {
    "name": "ipython",
    "version": 2
   },
   "file_extension": ".py",
   "mimetype": "text/x-python",
   "name": "python",
   "nbconvert_exporter": "python",
   "pygments_lexer": "ipython2",
   "version": "2.7.6"
  }
 },
 "nbformat": 4,
 "nbformat_minor": 0
}